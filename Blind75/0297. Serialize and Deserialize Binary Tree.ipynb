{
 "cells": [
  {
   "cell_type": "markdown",
   "id": "50a92a8b",
   "metadata": {},
   "source": [
    "## 0297. Serialize and Deserialize Binary Tree"
   ]
  },
  {
   "cell_type": "raw",
   "id": "a82eaf2d",
   "metadata": {},
   "source": [
    "Hard\n",
    "\n",
    "Serialization is the process of converting a data structure or object into a sequence of bits so that it can be stored in a file or memory buffer, or transmitted across a network connection link to be reconstructed later in the same or another computer environment.\n",
    "\n",
    "Design an algorithm to serialize and deserialize a binary tree. There is no restriction on how your serialization/deserialization algorithm should work. You just need to ensure that a binary tree can be serialized to a string and this string can be deserialized to the original tree structure.\n",
    "\n",
    "Clarification: The input/output format is the same as how LeetCode serializes a binary tree. You do not necessarily need to follow this format, so please be creative and come up with different approaches yourself.\n",
    "\n",
    "Example 1:\n",
    "\n",
    "Input: root = [1,2,3,null,null,4,5]\n",
    "Output: [1,2,3,null,null,4,5]\n",
    "\n",
    "Example 2:\n",
    "\n",
    "Input: root = []\n",
    "Output: []\n",
    " \n",
    "\n",
    "Constraints:\n",
    "\n",
    "The number of nodes in the tree is in the range [0, 104].\n",
    "-1000 <= Node.val <= 1000"
   ]
  },
  {
   "attachments": {
    "image-2.png": {
     "image/png": "[encoded data removed]"
    }
   },
   "cell_type": "markdown",
   "id": "4859bf7d",
   "metadata": {},
   "source": [
    "![image-2.png](attachment:image-2.png)"
   ]
  },
  {
   "cell_type": "markdown",
   "id": "0aefe1f1",
   "metadata": {},
   "source": [
    "### method: tree, dfs, preorder traversal"
   ]
  },
  {
   "cell_type": "code",
   "execution_count": 3,
   "id": "1a1e1421",
   "metadata": {},
   "outputs": [],
   "source": [
    "# Definition for a binary tree node.\n",
    "# class TreeNode(object):\n",
    "#     def __init__(self, x):\n",
    "#         self.val = x\n",
    "#         self.left = None\n",
    "#         self.right = None\n",
    "\n",
    "class Codec:\n",
    "\n",
    "    def serialize(self, root):\n",
    "        \"\"\"Encodes a tree to a single string.\n",
    "        \n",
    "        :type root: TreeNode\n",
    "        :rtype: str\n",
    "        \"\"\"\n",
    "        res = []\n",
    "        def dfs(node):\n",
    "            if not node:\n",
    "                res.append('N')\n",
    "                return\n",
    "            res.append(str(node.val))\n",
    "            dfs(node.left)\n",
    "            dfs(node.right)\n",
    "        dfs(root)\n",
    "        return ','.join(res)\n",
    "        \n",
    "\n",
    "    def deserialize(self, data):\n",
    "        \"\"\"Decodes your encoded data to tree.\n",
    "        \n",
    "        :type data: str\n",
    "        :rtype: TreeNode\n",
    "        \"\"\"\n",
    "        vals = data.split(',')\n",
    "        self.i = 0\n",
    "        def dfs():\n",
    "            if vals[self.i] == 'N':\n",
    "                self.i += 1\n",
    "                print('node-1', self.i)\n",
    "                return None\n",
    "            node = TreeNode(int(vals[self.i]))\n",
    "            self.i += 1\n",
    "            print('node-2', self.i, node.val)\n",
    "            node.left = dfs()\n",
    "            node.right = dfs()\n",
    "            print('node-3', self.i, node.val)\n",
    "            return node\n",
    "        return dfs()\n",
    "        \n",
    "\n",
    "# Your Codec object will be instantiated and called as such:\n",
    "# ser = Codec()\n",
    "# deser = Codec()\n",
    "# ans = deser.deserialize(ser.serialize(root))"
   ]
  },
  {
   "cell_type": "markdown",
   "id": "1bffac1b",
   "metadata": {},
   "source": [
    "### print out the revursion, if no node, is is None, the return is for leaf node and its children, the res is root"
   ]
  },
  {
   "cell_type": "raw",
   "id": "762ffe3e",
   "metadata": {},
   "source": [
    "[1,2,3,null,null,4,5]\n",
    "node-2 1 1\n",
    "node-2 2 2\n",
    "node-1 3\n",
    "node-1 4\n",
    "node-3 4 2\n",
    "node-2 5 3\n",
    "node-2 6 4\n",
    "node-1 7\n",
    "node-1 8\n",
    "node-3 8 4\n",
    "node-2 9 5\n",
    "node-1 10\n",
    "node-1 11\n",
    "node-3 11 5\n",
    "node-3 11 3\n",
    "node-3 11 1\n",
    "vals = ['1', '2', 'N', 'N', '3', '4', 'N', 'N', '5', 'N', 'N']"
   ]
  },
  {
   "cell_type": "markdown",
   "id": "d7f0bb28",
   "metadata": {},
   "source": [
    "- the return None is leaf node of dfs, and return node is for each node, the res is node which is root"
   ]
  },
  {
   "cell_type": "markdown",
   "id": "6dc24917",
   "metadata": {},
   "source": [
    "- https://www.youtube.com/watch?v=u4JAi2JJhI8"
   ]
  },
  {
   "cell_type": "code",
   "execution_count": null,
   "id": "ec5e96dd",
   "metadata": {},
   "outputs": [],
   "source": []
  }
 ],
 "metadata": {
  "kernelspec": {
   "display_name": "Python 3",
   "language": "python",
   "name": "python3"
  },
  "language_info": {
   "codemirror_mode": {
    "name": "ipython",
    "version": 3
   },
   "file_extension": ".py",
   "mimetype": "text/x-python",
   "name": "python",
   "nbconvert_exporter": "python",
   "pygments_lexer": "ipython3",
   "version": "3.9.1"
  }
 },
 "nbformat": 4,
 "nbformat_minor": 5
}
