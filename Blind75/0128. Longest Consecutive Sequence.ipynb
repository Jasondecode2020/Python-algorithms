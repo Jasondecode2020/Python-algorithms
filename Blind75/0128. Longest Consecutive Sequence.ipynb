{
 "cells": [
  {
   "cell_type": "markdown",
   "id": "50a92a8b",
   "metadata": {},
   "source": [
    "## 128. Longest Consecutive Sequence"
   ]
  },
  {
   "cell_type": "raw",
   "id": "a82eaf2d",
   "metadata": {},
   "source": [
    "Medium\n",
    "\n",
    "Given an unsorted array of integers nums, return the length of the longest consecutive elements sequence.\n",
    "\n",
    "You must write an algorithm that runs in O(n) time.\n",
    "\n",
    "Example 1:\n",
    "\n",
    "Input: nums = [100,4,200,1,3,2]\n",
    "Output: 4\n",
    "Explanation: The longest consecutive elements sequence is [1, 2, 3, 4]. Therefore its length is 4.\n",
    "Example 2:\n",
    "\n",
    "Input: nums = [0,3,7,2,5,8,4,6,0,1]\n",
    "Output: 9\n",
    " \n",
    "\n",
    "Constraints:\n",
    "\n",
    "0 <= nums.length <= 105\n",
    "-109 <= nums[i] <= 109\n",
    "Accepted\n",
    "666,545\n",
    "Submissions\n",
    "1,368,375"
   ]
  },
  {
   "cell_type": "markdown",
   "id": "0aefe1f1",
   "metadata": {},
   "source": [
    "### method 1: 1 way increasing check"
   ]
  },
  {
   "cell_type": "code",
   "execution_count": 4,
   "id": "1a1e1421",
   "metadata": {},
   "outputs": [],
   "source": [
    "class Solution:\n",
    "    def longestConsecutive(self, nums):\n",
    "        # check increased numbers in a set s\n",
    "        s = set(nums)\n",
    "        res = 0\n",
    "        for n in nums:\n",
    "            if n - 1 not in s: # check increasing order\n",
    "                nextNum = n + 1\n",
    "                total = 1\n",
    "                while nextNum in s:\n",
    "                    total += 1\n",
    "                    nextNum += 1\n",
    "                res = max(total, res)\n",
    "        return res"
   ]
  },
  {
   "cell_type": "code",
   "execution_count": 5,
   "id": "d97b057d",
   "metadata": {},
   "outputs": [
    {
     "data": {
      "text/plain": [
       "4"
      ]
     },
     "execution_count": 5,
     "metadata": {},
     "output_type": "execute_result"
    }
   ],
   "source": [
    "s = Solution()\n",
    "nums = [100,4,200,1,3,2]\n",
    "s.longestConsecutive(nums)"
   ]
  },
  {
   "cell_type": "markdown",
   "id": "688a2b35",
   "metadata": {},
   "source": [
    "### method 1: 2 way increasing check: faster"
   ]
  },
  {
   "cell_type": "code",
   "execution_count": 6,
   "id": "8b6e3b10",
   "metadata": {},
   "outputs": [],
   "source": [
    "class Solution:\n",
    "    def longestConsecutive(self, nums):\n",
    "        s = set(nums)\n",
    "        res = 0\n",
    "        while s:\n",
    "            n = s.pop()\n",
    "            p, q = n + 1, n - 1\n",
    "            currLength = 1\n",
    "            while p in s:\n",
    "                currLength += 1\n",
    "                s.remove(p)\n",
    "                p += 1\n",
    "            while q in s:\n",
    "                currLength += 1\n",
    "                s.remove(q)\n",
    "                q -= 1\n",
    "            res = max(res, currLength)\n",
    "        return res"
   ]
  },
  {
   "cell_type": "code",
   "execution_count": 7,
   "id": "89db1071",
   "metadata": {},
   "outputs": [
    {
     "data": {
      "text/plain": [
       "4"
      ]
     },
     "execution_count": 7,
     "metadata": {},
     "output_type": "execute_result"
    }
   ],
   "source": [
    "s = Solution()\n",
    "nums = [100,4,200,1,3,2]\n",
    "s.longestConsecutive(nums)"
   ]
  },
  {
   "cell_type": "markdown",
   "id": "ac1f4ab4",
   "metadata": {},
   "source": [
    "- note:\n",
    "    - still O(n), but much faster of check the set, no need to check everyone in s"
   ]
  },
  {
   "cell_type": "code",
   "execution_count": null,
   "id": "7c5eeae9",
   "metadata": {},
   "outputs": [],
   "source": []
  }
 ],
 "metadata": {
  "kernelspec": {
   "display_name": "Python 3",
   "language": "python",
   "name": "python3"
  },
  "language_info": {
   "codemirror_mode": {
    "name": "ipython",
    "version": 3
   },
   "file_extension": ".py",
   "mimetype": "text/x-python",
   "name": "python",
   "nbconvert_exporter": "python",
   "pygments_lexer": "ipython3",
   "version": "3.9.1"
  }
 },
 "nbformat": 4,
 "nbformat_minor": 5
}
