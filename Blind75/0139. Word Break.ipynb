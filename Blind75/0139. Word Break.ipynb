{
 "cells": [
  {
   "cell_type": "markdown",
   "id": "50a92a8b",
   "metadata": {},
   "source": [
    "## 139. Word Break"
   ]
  },
  {
   "cell_type": "raw",
   "id": "a82eaf2d",
   "metadata": {},
   "source": [
    "Medium\n",
    "\n",
    "Given a string s and a dictionary of strings wordDict, return true if s can be segmented into a space-separated sequence of one or more dictionary words.\n",
    "\n",
    "Note that the same word in the dictionary may be reused multiple times in the segmentation.\n",
    "\n",
    "Example 1:\n",
    "\n",
    "Input: s = \"leetcode\", wordDict = [\"leet\",\"code\"]\n",
    "Output: true\n",
    "Explanation: Return true because \"leetcode\" can be segmented as \"leet code\".\n",
    "\n",
    "Example 2:\n",
    "\n",
    "Input: s = \"applepenapple\", wordDict = [\"apple\",\"pen\"]\n",
    "Output: true\n",
    "Explanation: Return true because \"applepenapple\" can be segmented as \"apple pen apple\".\n",
    "Note that you are allowed to reuse a dictionary word.\n",
    "\n",
    "Example 3:\n",
    "\n",
    "Input: s = \"catsandog\", wordDict = [\"cats\",\"dog\",\"sand\",\"and\",\"cat\"]\n",
    "Output: false\n",
    "\n",
    "Constraints:\n",
    "\n",
    "1 <= s.length <= 300\n",
    "1 <= wordDict.length <= 1000\n",
    "1 <= wordDict[i].length <= 20\n",
    "s and wordDict[i] consist of only lowercase English letters.\n",
    "All the strings of wordDict are unique."
   ]
  },
  {
   "cell_type": "markdown",
   "id": "0aefe1f1",
   "metadata": {},
   "source": [
    "### method: top down dp"
   ]
  },
  {
   "cell_type": "code",
   "execution_count": 1,
   "id": "1a1e1421",
   "metadata": {},
   "outputs": [],
   "source": [
    "class Solution:\n",
    "    def wordBreak(self, s, wordDict):\n",
    "        dp = [False for i in range(len(s) + 1)] # bottom up\n",
    "        dp[len(s)] = True # '' string is true for word break\n",
    "        for i in range(len(s) - 1, -1, -1):\n",
    "            for w in wordDict:\n",
    "                if s[i : i + len(w)] == w:\n",
    "                    dp[i] = dp[i + len(w)] # choose all possible word\n",
    "                if dp[i]: # if there is a True, break the inner loop\n",
    "                    break # otherwise check all possible word and this postion may be False\n",
    "        return dp[0]"
   ]
  },
  {
   "cell_type": "code",
   "execution_count": 3,
   "id": "d97b057d",
   "metadata": {},
   "outputs": [
    {
     "data": {
      "text/plain": [
       "True"
      ]
     },
     "execution_count": 3,
     "metadata": {},
     "output_type": "execute_result"
    }
   ],
   "source": [
    "s = Solution()\n",
    "s1 = \"leetcode\"\n",
    "wordDict = [\"leet\",\"code\"]\n",
    "s.wordBreak(s1, wordDict)"
   ]
  },
  {
   "attachments": {
    "image.png": {
     "image/png": "[encoded data removed]"
    }
   },
   "cell_type": "markdown",
   "id": "026ae663",
   "metadata": {},
   "source": [
    "![image.png](attachment:image.png)"
   ]
  },
  {
   "cell_type": "markdown",
   "id": "647bd099",
   "metadata": {},
   "source": [
    "- it's easier to use bottom up approach cause if the bottom is memo, the earlier can directly use tranform function, the time complexity is O(n*m^2), n is number of letters in str, m is number of word in dict"
   ]
  },
  {
   "cell_type": "markdown",
   "id": "f0c9a7fb",
   "metadata": {},
   "source": [
    "video: https://www.youtube.com/watch?v=Sx9NNgInc3A"
   ]
  }
 ],
 "metadata": {
  "kernelspec": {
   "display_name": "Python 3",
   "language": "python",
   "name": "python3"
  },
  "language_info": {
   "codemirror_mode": {
    "name": "ipython",
    "version": 3
   },
   "file_extension": ".py",
   "mimetype": "text/x-python",
   "name": "python",
   "nbconvert_exporter": "python",
   "pygments_lexer": "ipython3",
   "version": "3.9.1"
  }
 },
 "nbformat": 4,
 "nbformat_minor": 5
}
