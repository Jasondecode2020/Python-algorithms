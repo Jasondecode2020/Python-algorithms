{
 "cells": [
  {
   "cell_type": "markdown",
   "id": "50a92a8b",
   "metadata": {},
   "source": [
    "## 338. Counting Bits"
   ]
  },
  {
   "cell_type": "raw",
   "id": "a82eaf2d",
   "metadata": {},
   "source": [
    "Easy\n",
    "\n",
    "Given an integer n, return an array ans of length n + 1 such that for each i (0 <= i <= n), ans[i] is the number of 1's in the binary representation of i.\n",
    "\n",
    "Example 1:\n",
    "\n",
    "Input: n = 2\n",
    "Output: [0,1,1]\n",
    "Explanation:\n",
    "0 --> 0\n",
    "1 --> 1\n",
    "2 --> 10\n",
    "Example 2:\n",
    "\n",
    "Input: n = 5\n",
    "Output: [0,1,1,2,1,2]\n",
    "Explanation:\n",
    "0 --> 0\n",
    "1 --> 1\n",
    "2 --> 10\n",
    "3 --> 11\n",
    "4 --> 100\n",
    "5 --> 101\n",
    " \n",
    "\n",
    "Constraints:\n",
    "\n",
    "0 <= n <= 105\n",
    " \n",
    "Follow up:\n",
    "\n",
    "It is very easy to come up with a solution with a runtime of O(n log n). Can you do it in linear time O(n) and possibly in a single pass?\n",
    "Can you do it without using any built-in function (i.e., like __builtin_popcount in C++)?"
   ]
  },
  {
   "cell_type": "markdown",
   "id": "0aefe1f1",
   "metadata": {},
   "source": [
    "### method: brute force (nlogn)"
   ]
  },
  {
   "cell_type": "code",
   "execution_count": 6,
   "id": "3a191151",
   "metadata": {},
   "outputs": [],
   "source": [
    "class Solution:\n",
    "    def countBits(self, n):\n",
    "        res = []\n",
    "        for i in range(n + 1):\n",
    "            res.append(bin(i).count('1'))\n",
    "        return res"
   ]
  },
  {
   "cell_type": "code",
   "execution_count": 7,
   "id": "d2c49f84",
   "metadata": {},
   "outputs": [
    {
     "data": {
      "text/plain": [
       "[0, 1, 1]"
      ]
     },
     "execution_count": 7,
     "metadata": {},
     "output_type": "execute_result"
    }
   ],
   "source": [
    "s = Solution()\n",
    "n = 2\n",
    "s.countBits(n)"
   ]
  },
  {
   "cell_type": "markdown",
   "id": "a800bd6e",
   "metadata": {},
   "source": [
    "why it's O(nlogn): bin(i) need log(n) time in worst case, count('1') also log(n) time, then n * log(n) * log(n) is still O(nlogn)"
   ]
  },
  {
   "cell_type": "markdown",
   "id": "1859ae0c",
   "metadata": {},
   "source": [
    "### follow up: O(n)"
   ]
  },
  {
   "cell_type": "code",
   "execution_count": 2,
   "id": "1a1e1421",
   "metadata": {},
   "outputs": [],
   "source": [
    "class Solution:\n",
    "    def countBits(self, n):\n",
    "        '''\n",
    "            dp can sovle the problem used by preserved values of before n,\n",
    "            then get n by formula\n",
    "            time complexity is O(n)\n",
    "            7 = 3 * 2 + 1, 3=binary 11, 11 * 2 = 110, 110 + 1 = 111 = 3 (1)\n",
    "            6 = 3 * 2, 3=binary 11, 11 * 2 = 110, 110 = 2 (1)\n",
    "        '''\n",
    "        ans = [0] * (n + 1)\n",
    "        for i in range(1, n+1):\n",
    "            if i % 2 == 0:\n",
    "                ans[i] = ans[i // 2] # if i = 2, ans[2] = ans[1]\n",
    "            else:\n",
    "                ans[i] = ans[i // 2] + 1 # if i = 1, ans[1] = ans[0] + 1\n",
    "        return ans"
   ]
  },
  {
   "cell_type": "code",
   "execution_count": 3,
   "id": "a585b9ca",
   "metadata": {
    "scrolled": true
   },
   "outputs": [
    {
     "data": {
      "text/plain": [
       "[0, 1, 1]"
      ]
     },
     "execution_count": 3,
     "metadata": {},
     "output_type": "execute_result"
    }
   ],
   "source": [
    "s = Solution()\n",
    "n = 2\n",
    "s.countBits(n)"
   ]
  }
 ],
 "metadata": {
  "kernelspec": {
   "display_name": "Python 3",
   "language": "python",
   "name": "python3"
  },
  "language_info": {
   "codemirror_mode": {
    "name": "ipython",
    "version": 3
   },
   "file_extension": ".py",
   "mimetype": "text/x-python",
   "name": "python",
   "nbconvert_exporter": "python",
   "pygments_lexer": "ipython3",
   "version": "3.9.1"
  }
 },
 "nbformat": 4,
 "nbformat_minor": 5
}
