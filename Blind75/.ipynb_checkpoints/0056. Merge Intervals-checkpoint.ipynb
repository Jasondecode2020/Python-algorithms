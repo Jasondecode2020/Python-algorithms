{
 "cells": [
  {
   "cell_type": "markdown",
   "id": "50a92a8b",
   "metadata": {},
   "source": [
    "## 56. Merge Intervals"
   ]
  },
  {
   "cell_type": "markdown",
   "id": "615a69de",
   "metadata": {},
   "source": [
    "https://leetcode.com/discuss/general-discussion/460599/blind-75-leetcode-questions"
   ]
  },
  {
   "cell_type": "raw",
   "id": "a82eaf2d",
   "metadata": {},
   "source": [
    "Medium\n",
    "\n",
    "Given an array of intervals where intervals[i] = [starti, endi], merge all overlapping intervals, and return an array of the non-overlapping intervals that cover all the intervals in the input.\n",
    "\n",
    "Example 1:\n",
    "\n",
    "Input: intervals = [[1,3],[2,6],[8,10],[15,18]]\n",
    "Output: [[1,6],[8,10],[15,18]]\n",
    "Explanation: Since intervals [1,3] and [2,6] overlaps, merge them into [1,6].\n",
    "Example 2:\n",
    "\n",
    "Input: intervals = [[1,4],[4,5]]\n",
    "Output: [[1,5]]\n",
    "Explanation: Intervals [1,4] and [4,5] are considered overlapping.\n",
    " \n",
    "\n",
    "Constraints:\n",
    "\n",
    "1 <= intervals.length <= 104\n",
    "intervals[i].length == 2\n",
    "0 <= starti <= endi <= 104"
   ]
  },
  {
   "cell_type": "markdown",
   "id": "9fe78dc1",
   "metadata": {},
   "source": [
    "### monotonic stack"
   ]
  },
  {
   "cell_type": "code",
   "execution_count": 3,
   "id": "1a1e1421",
   "metadata": {},
   "outputs": [],
   "source": [
    "class Solution:\n",
    "    def merge(self, intervals):\n",
    "        intervals.sort()\n",
    "        stack = []\n",
    "        stack.append(intervals[0])\n",
    "        for i in range(1, len(intervals)):\n",
    "            # interval after the top of stack\n",
    "            if intervals[i][0] > stack[-1][1]:\n",
    "                stack.append(intervals[i])\n",
    "            # overlaps\n",
    "            else:\n",
    "                top = stack.pop()\n",
    "                stack.append([top[0], max(top[1], intervals[i][1])])\n",
    "        return stack"
   ]
  },
  {
   "cell_type": "code",
   "execution_count": 5,
   "id": "a585b9ca",
   "metadata": {},
   "outputs": [
    {
     "data": {
      "text/plain": [
       "[[1, 6], [8, 10], [15, 18]]"
      ]
     },
     "execution_count": 5,
     "metadata": {},
     "output_type": "execute_result"
    }
   ],
   "source": [
    "s = Solution()\n",
    "intervals = [[1,3],[2,6],[8,10],[15,18]]\n",
    "newInterval = [2,5]\n",
    "s.merge(intervals)"
   ]
  },
  {
   "cell_type": "markdown",
   "id": "bbbdeff0",
   "metadata": {},
   "source": [
    "### template"
   ]
  },
  {
   "cell_type": "markdown",
   "id": "c2dfe19f",
   "metadata": {},
   "source": [
    "- 1 perpare a stack\n",
    "- 2 only check the top of stack with current interval\n",
    "- 3 if no overlapping, put into stack\n",
    "- 4 else put bigger value into stack"
   ]
  },
  {
   "cell_type": "code",
   "execution_count": null,
   "id": "aa2d81ea",
   "metadata": {},
   "outputs": [],
   "source": []
  }
 ],
 "metadata": {
  "kernelspec": {
   "display_name": "Python 3",
   "language": "python",
   "name": "python3"
  },
  "language_info": {
   "codemirror_mode": {
    "name": "ipython",
    "version": 3
   },
   "file_extension": ".py",
   "mimetype": "text/x-python",
   "name": "python",
   "nbconvert_exporter": "python",
   "pygments_lexer": "ipython3",
   "version": "3.9.1"
  }
 },
 "nbformat": 4,
 "nbformat_minor": 5
}
