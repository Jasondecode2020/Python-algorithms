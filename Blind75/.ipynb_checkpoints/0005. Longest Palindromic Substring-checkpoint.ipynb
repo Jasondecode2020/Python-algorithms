{
 "cells": [
  {
   "cell_type": "markdown",
   "id": "50a92a8b",
   "metadata": {},
   "source": [
    "## 5. Longest Palindromic Substring"
   ]
  },
  {
   "cell_type": "raw",
   "id": "a82eaf2d",
   "metadata": {},
   "source": [
    "Medium\n",
    "\n",
    "Given a string s, return the longest palindromic substring in s.\n",
    "\n",
    "Example 1:\n",
    "\n",
    "Input: s = \"babad\"\n",
    "Output: \"bab\"\n",
    "Explanation: \"aba\" is also a valid answer.\n",
    "Example 2:\n",
    "\n",
    "Input: s = \"cbbd\"\n",
    "Output: \"bb\"\n",
    " \n",
    "Constraints:\n",
    "\n",
    "1 <= s.length <= 1000\n",
    "s consist of only digits and English letters."
   ]
  },
  {
   "cell_type": "markdown",
   "id": "0aefe1f1",
   "metadata": {},
   "source": [
    "### method: lower and isalnum to avoid check ascii value"
   ]
  },
  {
   "cell_type": "code",
   "execution_count": 11,
   "id": "1a1e1421",
   "metadata": {},
   "outputs": [],
   "source": [
    "class Solution:\n",
    "    def longestPalindrome(self, s):\n",
    "        def helper(l, r):\n",
    "            while l >= 0 and r < len(s) and s[l] == s[r]:\n",
    "                l -= 1\n",
    "                r += 1\n",
    "            return s[l+1: r]\n",
    "        res = \"\"\n",
    "        for i in range(len(s)):\n",
    "            test = helper(i, i)\n",
    "            if len(test) > len(res): res = test \n",
    "            test = helper(i, i+1)\n",
    "            if len(test) > len(res): res = test\n",
    "        return res"
   ]
  },
  {
   "cell_type": "code",
   "execution_count": 12,
   "id": "d97b057d",
   "metadata": {},
   "outputs": [
    {
     "data": {
      "text/plain": [
       "'bab'"
      ]
     },
     "execution_count": 12,
     "metadata": {},
     "output_type": "execute_result"
    }
   ],
   "source": [
    "s = Solution()\n",
    "s1 = \"babad\"\n",
    "s.longestPalindrome(s1)"
   ]
  },
  {
   "cell_type": "code",
   "execution_count": null,
   "id": "51d21217",
   "metadata": {},
   "outputs": [],
   "source": []
  }
 ],
 "metadata": {
  "kernelspec": {
   "display_name": "Python 3",
   "language": "python",
   "name": "python3"
  },
  "language_info": {
   "codemirror_mode": {
    "name": "ipython",
    "version": 3
   },
   "file_extension": ".py",
   "mimetype": "text/x-python",
   "name": "python",
   "nbconvert_exporter": "python",
   "pygments_lexer": "ipython3",
   "version": "3.9.1"
  }
 },
 "nbformat": 4,
 "nbformat_minor": 5
}
