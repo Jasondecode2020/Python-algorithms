{
 "cells": [
  {
   "cell_type": "markdown",
   "id": "50a92a8b",
   "metadata": {},
   "source": [
    "## 268. Missing Number"
   ]
  },
  {
   "cell_type": "raw",
   "id": "a82eaf2d",
   "metadata": {},
   "source": [
    "Easy\n",
    "\n",
    "Given an array nums containing n distinct numbers in the range [0, n], return the only number in the range that is missing from the array.\n",
    "\n",
    "Example 1:\n",
    "\n",
    "Input: nums = [3,0,1]\n",
    "Output: 2\n",
    "Explanation: n = 3 since there are 3 numbers, so all numbers are in the range [0,3]. 2 is the missing number in the range since it does not appear in nums.\n",
    "\n",
    "Example 2:\n",
    "\n",
    "Input: nums = [0,1]\n",
    "Output: 2\n",
    "Explanation: n = 2 since there are 2 numbers, so all numbers are in the range [0,2]. 2 is the missing number in the range since it does not appear in nums.\n",
    "\n",
    "Example 3:\n",
    "\n",
    "Input: nums = [9,6,4,2,3,5,7,0,1]\n",
    "Output: 8\n",
    "Explanation: n = 9 since there are 9 numbers, so all numbers are in the range [0,9]. 8 is the missing number in the range since it does not appear in nums.\n",
    " \n",
    "Constraints:\n",
    "\n",
    "n == nums.length\n",
    "1 <= n <= 10^4\n",
    "0 <= nums[i] <= n\n",
    "All the numbers of nums are unique.\n",
    " \n",
    "Follow up: Could you implement a solution using only O(1) extra space complexity and O(n) runtime complexity?"
   ]
  },
  {
   "cell_type": "markdown",
   "id": "0aefe1f1",
   "metadata": {},
   "source": [
    "### method: sort"
   ]
  },
  {
   "cell_type": "code",
   "execution_count": 14,
   "id": "1a1e1421",
   "metadata": {},
   "outputs": [],
   "source": [
    "class Solution:\n",
    "    def missingNumber(self, nums):\n",
    "        nums.sort()\n",
    "        for i in range(len(nums)):\n",
    "            if i != nums[i]:\n",
    "                return i\n",
    "        return len(nums)"
   ]
  },
  {
   "cell_type": "code",
   "execution_count": 15,
   "id": "a585b9ca",
   "metadata": {
    "scrolled": true
   },
   "outputs": [
    {
     "data": {
      "text/plain": [
       "8"
      ]
     },
     "execution_count": 15,
     "metadata": {},
     "output_type": "execute_result"
    }
   ],
   "source": [
    "s = Solution()\n",
    "nums = [9,6,4,2,3,5,7,0,1]\n",
    "s.missingNumber(nums)"
   ]
  },
  {
   "cell_type": "markdown",
   "id": "dffdd8d0",
   "metadata": {},
   "source": [
    "### Follow up: Could you implement a solution using only O(1) extra space complexity and O(n) runtime complexity?"
   ]
  },
  {
   "cell_type": "code",
   "execution_count": 16,
   "id": "02c6700c",
   "metadata": {
    "scrolled": true
   },
   "outputs": [],
   "source": [
    "class Solution:\n",
    "    def missingNumber(self, nums):\n",
    "        s = set([i for i in range(len(nums) + 1)])\n",
    "        for n in nums:\n",
    "            s.remove(n)\n",
    "        return s.pop() # the last number in set must be the result"
   ]
  },
  {
   "cell_type": "code",
   "execution_count": 17,
   "id": "35ce5b15",
   "metadata": {},
   "outputs": [
    {
     "data": {
      "text/plain": [
       "8"
      ]
     },
     "execution_count": 17,
     "metadata": {},
     "output_type": "execute_result"
    }
   ],
   "source": [
    "s = Solution()\n",
    "nums = [9,6,4,2,3,5,7,0,1]\n",
    "s.missingNumber(nums)"
   ]
  },
  {
   "cell_type": "markdown",
   "id": "7ba86a08",
   "metadata": {},
   "source": [
    "this is a pythonic style, you don't have to write like this, but the space is O(n), it's not ok for interview"
   ]
  },
  {
   "cell_type": "markdown",
   "id": "f1937389",
   "metadata": {},
   "source": [
    "### using index to store values as dictionary"
   ]
  },
  {
   "cell_type": "code",
   "execution_count": 18,
   "id": "55d4ebf6",
   "metadata": {},
   "outputs": [],
   "source": [
    "class Solution:\n",
    "    def missingNumber(self, nums):\n",
    "        # first pass\n",
    "        for i in range(len(nums)):\n",
    "            if abs(nums[i]) == len(nums): # avoid of nums[i] becomes negative\n",
    "                continue\n",
    "            nums[abs(nums[i])] = -nums[abs(nums[i])] # change to negative values\n",
    "        # second pass, check if there is positive\n",
    "        for i in range(len(nums)):\n",
    "            if nums[i] > 0:\n",
    "                return i\n",
    "        # if no positive, check if there is 0\n",
    "        idx = nums.index(0)\n",
    "        # if idx not in nums, idx is missing, otherwise len(nums) is missing\n",
    "        # idx can becomes negative\n",
    "        return idx if idx not in nums and -idx not in nums else len(nums)"
   ]
  },
  {
   "cell_type": "code",
   "execution_count": 13,
   "id": "81db2872",
   "metadata": {},
   "outputs": [
    {
     "data": {
      "text/plain": [
       "8"
      ]
     },
     "execution_count": 13,
     "metadata": {},
     "output_type": "execute_result"
    }
   ],
   "source": [
    "s = Solution()\n",
    "nums = [9,6,4,2,3,5,7,0,1]\n",
    "s.missingNumber(nums)"
   ]
  },
  {
   "cell_type": "code",
   "execution_count": null,
   "id": "23471c38",
   "metadata": {},
   "outputs": [],
   "source": []
  }
 ],
 "metadata": {
  "kernelspec": {
   "display_name": "Python 3",
   "language": "python",
   "name": "python3"
  },
  "language_info": {
   "codemirror_mode": {
    "name": "ipython",
    "version": 3
   },
   "file_extension": ".py",
   "mimetype": "text/x-python",
   "name": "python",
   "nbconvert_exporter": "python",
   "pygments_lexer": "ipython3",
   "version": "3.9.1"
  }
 },
 "nbformat": 4,
 "nbformat_minor": 5
}
