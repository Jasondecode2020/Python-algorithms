{
 "cells": [
  {
   "cell_type": "markdown",
   "id": "50a92a8b",
   "metadata": {},
   "source": [
    "## 371. Sum of Two Integers"
   ]
  },
  {
   "cell_type": "raw",
   "id": "a82eaf2d",
   "metadata": {},
   "source": [
    "Medium\n",
    "\n",
    "Given two integers a and b, return the sum of the two integers without using the operators + and -.\n",
    "\n",
    "Example 1:\n",
    "\n",
    "Input: a = 1, b = 2\n",
    "Output: 3\n",
    "\n",
    "Example 2:\n",
    "\n",
    "Input: a = 2, b = 3\n",
    "Output: 5\n",
    " \n",
    "Constraints:\n",
    "\n",
    "-1000 <= a, b <= 1000"
   ]
  },
  {
   "cell_type": "markdown",
   "id": "0aefe1f1",
   "metadata": {},
   "source": [
    "### 1.1 method: bit manipulation"
   ]
  },
  {
   "cell_type": "markdown",
   "id": "0b893fca",
   "metadata": {},
   "source": [
    "video: https://www.youtube.com/watch?v=gVUrDV4tZfY"
   ]
  },
  {
   "cell_type": "markdown",
   "id": "05109a7a",
   "metadata": {},
   "source": [
    "article: https://leetcode.com/problems/sum-of-two-integers/discuss/489210/Read-this-if-you-want-to-learn-about-masks"
   ]
  },
  {
   "cell_type": "code",
   "execution_count": 9,
   "id": "1a1e1421",
   "metadata": {},
   "outputs": [],
   "source": [
    "class Solution:\n",
    "    def getSum(self, a, b):\n",
    "        mask = 0xffffffff\n",
    "        # b equal to 0 or > 0 if goes out of the loop\n",
    "        while (b & mask) > 0:\n",
    "            temp = (a & b) << 1 # get the carry value\n",
    "            a = a ^ b # get the xor value\n",
    "            b = temp # if there is carry continue\n",
    "            \n",
    "        return (a & mask) if b > 0 else a # a & mask is used to mask overflow of a"
   ]
  },
  {
   "cell_type": "code",
   "execution_count": 10,
   "id": "a585b9ca",
   "metadata": {
    "scrolled": true
   },
   "outputs": [
    {
     "data": {
      "text/plain": [
       "1"
      ]
     },
     "execution_count": 10,
     "metadata": {},
     "output_type": "execute_result"
    }
   ],
   "source": [
    "s = Solution()\n",
    "a = -1\n",
    "b = 2\n",
    "s.getSum(a, b)"
   ]
  },
  {
   "cell_type": "markdown",
   "id": "dffdd8d0",
   "metadata": {},
   "source": [
    "### how to deal with overflow in Python"
   ]
  },
  {
   "cell_type": "markdown",
   "id": "15f5de9e",
   "metadata": {},
   "source": [
    "why b > 0\n",
    "In Python unlike other languages the range of bits for representing a value is not 32, its much much larger than that. This is great when dealing with non negative integers, however this becomes a big issue when dealing with negative numbers ( two's compliment)\n",
    "if python is 64 bit, a = 2, b = -1,\n",
    "binary of a = 0000...000(62 zeros)10, b = 1111...111(64 ones),\n",
    "b & mask = 1111...111(32 ones) > 0, carry = ( a & b ) << 1 = 0000...000(61 zeros)100, a = a ^ b = 1111...111(62 ones)01, b = carry = 100, then b will become 1000 and so on until b becomes 10000...000(32 zeros),\n",
    "then (b & mask) = 0, jump out of the loop, but b is still 10000...000(32) > 0, a will become 1111...111(32 ones)000...000(31 ones)1, we need to use (a & mask) if b > 0, hope you can understand."
   ]
  }
 ],
 "metadata": {
  "kernelspec": {
   "display_name": "Python 3",
   "language": "python",
   "name": "python3"
  },
  "language_info": {
   "codemirror_mode": {
    "name": "ipython",
    "version": 3
   },
   "file_extension": ".py",
   "mimetype": "text/x-python",
   "name": "python",
   "nbconvert_exporter": "python",
   "pygments_lexer": "ipython3",
   "version": "3.9.1"
  }
 },
 "nbformat": 4,
 "nbformat_minor": 5
}
