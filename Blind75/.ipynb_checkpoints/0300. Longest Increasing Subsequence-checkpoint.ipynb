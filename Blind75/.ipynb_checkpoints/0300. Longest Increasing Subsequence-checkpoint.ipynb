{
 "cells": [
  {
   "cell_type": "markdown",
   "id": "50a92a8b",
   "metadata": {},
   "source": [
    "## 0300. Longest Increasing Subsequence"
   ]
  },
  {
   "cell_type": "raw",
   "id": "a82eaf2d",
   "metadata": {},
   "source": [
    "Medium\n",
    "\n",
    "Given an integer array nums, return the length of the longest strictly increasing subsequence.\n",
    "\n",
    "A subsequence is a sequence that can be derived from an array by deleting some or no elements without changing the order of the remaining elements. For example, [3,6,2,7] is a subsequence of the array [0,3,1,6,2,2,7].\n",
    " \n",
    "Example 1:\n",
    "\n",
    "Input: nums = [10,9,2,5,3,7,101,18]\n",
    "Output: 4\n",
    "Explanation: The longest increasing subsequence is [2,3,7,101], therefore the length is 4.\n",
    "\n",
    "Example 2:\n",
    "\n",
    "Input: nums = [0,1,0,3,2,3]\n",
    "Output: 4\n",
    "\n",
    "Example 3:\n",
    "\n",
    "Input: nums = [7,7,7,7,7,7,7]\n",
    "Output: 1\n",
    " \n",
    "Constraints:\n",
    "\n",
    "1 <= nums.length <= 2500\n",
    "-104 <= nums[i] <= 104\n",
    " \n",
    "Follow up: Can you come up with an algorithm that runs in O(n log(n)) time complexity?"
   ]
  },
  {
   "cell_type": "markdown",
   "id": "0aefe1f1",
   "metadata": {},
   "source": [
    "### method: dp O(n^2)"
   ]
  },
  {
   "cell_type": "code",
   "execution_count": 5,
   "id": "1a1e1421",
   "metadata": {},
   "outputs": [],
   "source": [
    "class Solution:\n",
    "    def lengthOfLIS(self, nums):\n",
    "        res = 1\n",
    "        dp = [1 for i in range(len(nums))] # dp[0] = 1, start from dp[0]\n",
    "        for i in range(1, len(nums)):\n",
    "            for j in range(i):\n",
    "                if nums[i] > nums[j]:\n",
    "                    dp[i] = max(dp[i], dp[j] + 1) # else dp[i] = 1\n",
    "            res = max(dp[i], res)\n",
    "        return res"
   ]
  },
  {
   "cell_type": "code",
   "execution_count": 6,
   "id": "a585b9ca",
   "metadata": {
    "scrolled": false
   },
   "outputs": [
    {
     "data": {
      "text/plain": [
       "4"
      ]
     },
     "execution_count": 6,
     "metadata": {},
     "output_type": "execute_result"
    }
   ],
   "source": [
    "s = Solution()\n",
    "nums = [10,9,2,5,3,7,101,18]\n",
    "s.lengthOfLIS(nums)"
   ]
  },
  {
   "cell_type": "markdown",
   "id": "8fe4d98d",
   "metadata": {},
   "source": [
    "### method: patient sort O(nlogn)"
   ]
  },
  {
   "cell_type": "markdown",
   "id": "8fdaa66d",
   "metadata": {},
   "source": [
    "https://www.cs.princeton.edu/courses/archive/spring13/cos423/lectures/LongestIncreasingSubsequence.pdf"
   ]
  },
  {
   "cell_type": "markdown",
   "id": "75272e57",
   "metadata": {},
   "source": [
    "https://www.youtube.com/watch?v=22s1xxRvy28"
   ]
  },
  {
   "cell_type": "code",
   "execution_count": 7,
   "id": "63596812",
   "metadata": {},
   "outputs": [],
   "source": [
    "class Solution:\n",
    "    def lengthOfLIS(self, nums):\n",
    "        res = [] # used to update the decreasing stack\n",
    "        for n in nums:\n",
    "            if not res or n > res[-1]:\n",
    "                res.append(n)\n",
    "            else:\n",
    "                l, r = 0, len(res)- 1\n",
    "                while l < r: # l == r to stop the loop\n",
    "                    mid = (l + r) // 2\n",
    "                    if res[mid] < n:\n",
    "                        l = mid + 1 # possible value be next mid\n",
    "                    else:\n",
    "                        r = mid # mid may be a value\n",
    "                res[l] = n\n",
    "        return len(res)"
   ]
  },
  {
   "cell_type": "code",
   "execution_count": 8,
   "id": "ed6afa52",
   "metadata": {},
   "outputs": [
    {
     "data": {
      "text/plain": [
       "4"
      ]
     },
     "execution_count": 8,
     "metadata": {},
     "output_type": "execute_result"
    }
   ],
   "source": [
    "s = Solution()\n",
    "nums = [10,9,2,5,3,7,101,18]\n",
    "s.lengthOfLIS(nums)"
   ]
  },
  {
   "cell_type": "markdown",
   "id": "b0b9a17d",
   "metadata": {},
   "source": [
    "this is tricky one, suggest to check the video to understand why need to use binary search and res = [], the time complexity is n * log(n ^(1/2))= O(nlogn), for patient sort, there are n ^ (1/2) piles in average"
   ]
  }
 ],
 "metadata": {
  "kernelspec": {
   "display_name": "Python 3",
   "language": "python",
   "name": "python3"
  },
  "language_info": {
   "codemirror_mode": {
    "name": "ipython",
    "version": 3
   },
   "file_extension": ".py",
   "mimetype": "text/x-python",
   "name": "python",
   "nbconvert_exporter": "python",
   "pygments_lexer": "ipython3",
   "version": "3.9.1"
  }
 },
 "nbformat": 4,
 "nbformat_minor": 5
}
