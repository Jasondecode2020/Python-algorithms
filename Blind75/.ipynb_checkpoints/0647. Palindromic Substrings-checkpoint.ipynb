{
 "cells": [
  {
   "cell_type": "markdown",
   "id": "50a92a8b",
   "metadata": {},
   "source": [
    "## 647. Palindromic Substrings"
   ]
  },
  {
   "cell_type": "markdown",
   "id": "615a69de",
   "metadata": {},
   "source": [
    "https://leetcode.com/discuss/general-discussion/460599/blind-75-leetcode-questions"
   ]
  },
  {
   "cell_type": "raw",
   "id": "a82eaf2d",
   "metadata": {},
   "source": [
    "Medium\n",
    "\n",
    "Given a string s, return the number of palindromic substrings in it.\n",
    "\n",
    "A string is a palindrome when it reads the same backward as forward.\n",
    "\n",
    "A substring is a contiguous sequence of characters within the string.\n",
    "\n",
    "Example 1:\n",
    "\n",
    "Input: s = \"abc\"\n",
    "Output: 3\n",
    "Explanation: Three palindromic strings: \"a\", \"b\", \"c\".\n",
    "Example 2:\n",
    "\n",
    "Input: s = \"aaa\"\n",
    "Output: 6\n",
    "Explanation: Six palindromic strings: \"a\", \"a\", \"a\", \"aa\", \"aa\", \"aaa\".\n",
    " \n",
    "Constraints:\n",
    "\n",
    "1 <= s.length <= 1000\n",
    "s consists of lowercase English letters."
   ]
  },
  {
   "cell_type": "markdown",
   "id": "0aefe1f1",
   "metadata": {},
   "source": [
    "### method: sliding window"
   ]
  },
  {
   "cell_type": "code",
   "execution_count": 1,
   "id": "1a1e1421",
   "metadata": {},
   "outputs": [],
   "source": [
    "class Solution:\n",
    "    def countSubstrings(self, s):\n",
    "        # count the number of palindrome starting from l, r\n",
    "        def helper(l, r):\n",
    "            count = 0\n",
    "            while l >= 0 and r < len(s) and s[l] == s[r]:\n",
    "                count += 1\n",
    "                l -= 1\n",
    "                r += 1\n",
    "            return count\n",
    "        res = 0\n",
    "        for i in range(len(s)):\n",
    "            res += helper(i, i)\n",
    "            res += helper(i, i+1)\n",
    "        return res"
   ]
  },
  {
   "cell_type": "code",
   "execution_count": 4,
   "id": "a585b9ca",
   "metadata": {},
   "outputs": [
    {
     "data": {
      "text/plain": [
       "3"
      ]
     },
     "execution_count": 4,
     "metadata": {},
     "output_type": "execute_result"
    }
   ],
   "source": [
    "s = Solution()\n",
    "s1 = \"abc\"\n",
    "s.countSubstrings(s1)"
   ]
  },
  {
   "cell_type": "markdown",
   "id": "bbbdeff0",
   "metadata": {},
   "source": [
    "### template"
   ]
  },
  {
   "cell_type": "markdown",
   "id": "c2dfe19f",
   "metadata": {},
   "source": [
    "- 1 similar to leetcode 5\n",
    "- 2 use helper to check odd and even numbers"
   ]
  },
  {
   "cell_type": "code",
   "execution_count": null,
   "id": "a84b7963",
   "metadata": {},
   "outputs": [],
   "source": []
  }
 ],
 "metadata": {
  "kernelspec": {
   "display_name": "Python 3",
   "language": "python",
   "name": "python3"
  },
  "language_info": {
   "codemirror_mode": {
    "name": "ipython",
    "version": 3
   },
   "file_extension": ".py",
   "mimetype": "text/x-python",
   "name": "python",
   "nbconvert_exporter": "python",
   "pygments_lexer": "ipython3",
   "version": "3.9.1"
  }
 },
 "nbformat": 4,
 "nbformat_minor": 5
}
