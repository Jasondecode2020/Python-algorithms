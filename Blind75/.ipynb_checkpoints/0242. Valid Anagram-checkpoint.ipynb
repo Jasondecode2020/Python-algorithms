{
 "cells": [
  {
   "cell_type": "markdown",
   "id": "50a92a8b",
   "metadata": {},
   "source": [
    "## 0242. Valid Anagram"
   ]
  },
  {
   "cell_type": "raw",
   "id": "a82eaf2d",
   "metadata": {},
   "source": [
    "Easy\n",
    "\n",
    "Given two strings s and t, return true if t is an anagram of s, and false otherwise.\n",
    "\n",
    "An Anagram is a word or phrase formed by rearranging the letters of a different word or phrase, typically using all the original letters exactly once.\n",
    "\n",
    "Example 1:\n",
    "\n",
    "Input: s = \"anagram\", t = \"nagaram\"\n",
    "Output: true\n",
    "Example 2:\n",
    "\n",
    "Input: s = \"rat\", t = \"car\"\n",
    "Output: false\n",
    " \n",
    "\n",
    "Constraints:\n",
    "\n",
    "1 <= s.length, t.length <= 5 * 104\n",
    "s and t consist of lowercase English letters.\n",
    " \n",
    "\n",
    "Follow up: What if the inputs contain Unicode characters? How would you adapt your solution to such a case?"
   ]
  },
  {
   "cell_type": "markdown",
   "id": "0aefe1f1",
   "metadata": {},
   "source": [
    "### method: dp"
   ]
  },
  {
   "cell_type": "code",
   "execution_count": 7,
   "id": "1a1e1421",
   "metadata": {},
   "outputs": [],
   "source": [
    "from collections import Counter\n",
    "class Solution:\n",
    "    def isAnagram(self, s, t):\n",
    "        return Counter(s) == Counter(t)"
   ]
  },
  {
   "cell_type": "code",
   "execution_count": 10,
   "id": "d97b057d",
   "metadata": {},
   "outputs": [
    {
     "data": {
      "text/plain": [
       "True"
      ]
     },
     "execution_count": 10,
     "metadata": {},
     "output_type": "execute_result"
    }
   ],
   "source": [
    "s = Solution()\n",
    "s1 = \"anagram\"\n",
    "t = \"nagaram\"\n",
    "s.isAnagram(s1, t)"
   ]
  },
  {
   "cell_type": "markdown",
   "id": "f47aec6f",
   "metadata": {},
   "source": [
    "### formal version"
   ]
  },
  {
   "cell_type": "code",
   "execution_count": 11,
   "id": "c0b1993a",
   "metadata": {},
   "outputs": [],
   "source": [
    "class Solution:\n",
    "    def isAnagram(self, s, t):\n",
    "        countS = {}\n",
    "        countT = {}\n",
    "        for c in s:\n",
    "            countS[c] = countS.get(c, 0) + 1\n",
    "        for c in t:\n",
    "            countT[c] = countT.get(c, 0) + 1\n",
    "        return countS == countT"
   ]
  },
  {
   "cell_type": "code",
   "execution_count": 12,
   "id": "e54c2550",
   "metadata": {},
   "outputs": [
    {
     "data": {
      "text/plain": [
       "True"
      ]
     },
     "execution_count": 12,
     "metadata": {},
     "output_type": "execute_result"
    }
   ],
   "source": [
    "s = Solution()\n",
    "s1 = \"anagram\"\n",
    "t = \"nagaram\"\n",
    "s.isAnagram(s1, t)"
   ]
  },
  {
   "cell_type": "markdown",
   "id": "647bd099",
   "metadata": {},
   "source": [
    "- python can use dict.get(c, 0) to check if the dict has c or not, if not return {c: 0}"
   ]
  },
  {
   "cell_type": "code",
   "execution_count": null,
   "id": "753b9f0f",
   "metadata": {},
   "outputs": [],
   "source": []
  }
 ],
 "metadata": {
  "kernelspec": {
   "display_name": "Python 3",
   "language": "python",
   "name": "python3"
  },
  "language_info": {
   "codemirror_mode": {
    "name": "ipython",
    "version": 3
   },
   "file_extension": ".py",
   "mimetype": "text/x-python",
   "name": "python",
   "nbconvert_exporter": "python",
   "pygments_lexer": "ipython3",
   "version": "3.9.1"
  }
 },
 "nbformat": 4,
 "nbformat_minor": 5
}
