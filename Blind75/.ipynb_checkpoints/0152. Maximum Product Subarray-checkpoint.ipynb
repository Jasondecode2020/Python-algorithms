{
 "cells": [
  {
   "cell_type": "markdown",
   "id": "50a92a8b",
   "metadata": {},
   "source": [
    "## 152. Maximum Product Subarray"
   ]
  },
  {
   "cell_type": "markdown",
   "id": "615a69de",
   "metadata": {},
   "source": [
    "https://leetcode.com/discuss/general-discussion/460599/blind-75-leetcode-questions"
   ]
  },
  {
   "cell_type": "raw",
   "id": "a82eaf2d",
   "metadata": {},
   "source": [
    "Given an integer array nums, find a contiguous non-empty subarray within the array that has the largest product, and return the product.\n",
    "\n",
    "The test cases are generated so that the answer will fit in a 32-bit integer.\n",
    "\n",
    "A subarray is a contiguous subsequence of the array.\n",
    "\n",
    "Example 1:\n",
    "\n",
    "Input: nums = [2,3,-2,4]\n",
    "Output: 6\n",
    "Explanation: [2,3] has the largest product 6.\n",
    "\n",
    "Example 2:\n",
    "\n",
    "Input: nums = [-2,0,-1]\n",
    "Output: 0\n",
    "Explanation: The result cannot be 2, because [-2,-1] is not a subarray.\n",
    " \n",
    "\n",
    "Constraints:\n",
    "\n",
    "1 <= nums.length <= 2 * 10^4\n",
    "-10 <= nums[i] <= 10\n",
    "The product of any prefix or suffix of nums is guaranteed to fit in a 32-bit integer."
   ]
  },
  {
   "cell_type": "markdown",
   "id": "0aefe1f1",
   "metadata": {},
   "source": [
    "### method : Kadane dp"
   ]
  },
  {
   "cell_type": "code",
   "execution_count": 3,
   "id": "1a1e1421",
   "metadata": {},
   "outputs": [],
   "source": [
    "class Solution:\n",
    "    def maxProduct(self, nums):\n",
    "        currentMax = nums[0]\n",
    "        currentMin = nums[0]\n",
    "        res = nums[0]\n",
    "        for i in range(1, len(nums)):\n",
    "            temp = currentMax\n",
    "            currentMax = max(nums[i], currentMax * nums[i], currentMin * nums[i])\n",
    "            currentMin = min(nums[i], temp * nums[i], currentMin * nums[i])\n",
    "            res = max(res, currentMax)\n",
    "        return res"
   ]
  },
  {
   "cell_type": "code",
   "execution_count": 4,
   "id": "a585b9ca",
   "metadata": {},
   "outputs": [
    {
     "data": {
      "text/plain": [
       "6"
      ]
     },
     "execution_count": 4,
     "metadata": {},
     "output_type": "execute_result"
    }
   ],
   "source": [
    "s = Solution()\n",
    "nums = [2,3,-2,4]\n",
    "s.maxProduct(nums)"
   ]
  },
  {
   "cell_type": "markdown",
   "id": "15f5de9e",
   "metadata": {},
   "source": [
    "- currentMax is the current max value, it can be max(nums[i], currentMax * nums[i], currentMin * nums[i])\n",
    "- currentMin is the current min value, it can be min(nums[i], temp * nums[i], currentMin * nums[i])\n",
    "- temp is used to store the max value, cause currentMax may change the maxValue"
   ]
  },
  {
   "cell_type": "markdown",
   "id": "540c9f07",
   "metadata": {},
   "source": [
    "This is a typical Kadane algorithm, it is better than dp in terms of space"
   ]
  }
 ],
 "metadata": {
  "kernelspec": {
   "display_name": "Python 3",
   "language": "python",
   "name": "python3"
  },
  "language_info": {
   "codemirror_mode": {
    "name": "ipython",
    "version": 3
   },
   "file_extension": ".py",
   "mimetype": "text/x-python",
   "name": "python",
   "nbconvert_exporter": "python",
   "pygments_lexer": "ipython3",
   "version": "3.9.1"
  }
 },
 "nbformat": 4,
 "nbformat_minor": 5
}
