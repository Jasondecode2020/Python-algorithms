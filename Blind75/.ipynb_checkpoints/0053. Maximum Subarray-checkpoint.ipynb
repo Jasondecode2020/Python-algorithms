{
 "cells": [
  {
   "cell_type": "markdown",
   "id": "50a92a8b",
   "metadata": {},
   "source": [
    "## 53. Maximum Subarray"
   ]
  },
  {
   "cell_type": "markdown",
   "id": "615a69de",
   "metadata": {},
   "source": [
    "https://leetcode.com/discuss/general-discussion/460599/blind-75-leetcode-questions"
   ]
  },
  {
   "cell_type": "raw",
   "id": "a82eaf2d",
   "metadata": {},
   "source": [
    "Easy\n",
    "\n",
    "Given an integer array nums, find the contiguous subarray (containing at least one number) which has the largest sum and return its sum.\n",
    "A subarray is a contiguous part of an array.\n",
    "\n",
    "Example 1:\n",
    "\n",
    "Input: nums = [-2,1,-3,4,-1,2,1,-5,4]\n",
    "Output: 6\n",
    "Explanation: [4,-1,2,1] has the largest sum = 6.\n",
    "\n",
    "Example 2:\n",
    "\n",
    "Input: nums = [1]\n",
    "Output: 1\n",
    "\n",
    "Example 3:\n",
    "\n",
    "Input: nums = [5,4,-1,7,8]\n",
    "Output: 23\n",
    " \n",
    "Constraints:\n",
    "\n",
    "1 <= nums.length <= 10^5\n",
    "-10^4 <= nums[i] <= 10^4\n",
    " \n",
    "Follow up: If you have figured out the O(n) solution, try coding another solution using the divide and conquer approach, which is more subtle."
   ]
  },
  {
   "cell_type": "markdown",
   "id": "0aefe1f1",
   "metadata": {},
   "source": [
    "### 1.1 method 1: dp"
   ]
  },
  {
   "cell_type": "code",
   "execution_count": 9,
   "id": "1a1e1421",
   "metadata": {},
   "outputs": [],
   "source": [
    "class Solution:\n",
    "    def maxSubArray(self, nums):\n",
    "        dp = [0 for i in range(len(nums))]\n",
    "        dp[0] = nums[0]\n",
    "        for i in range(1, len(nums)):\n",
    "            dp[i] = max(dp[i - 1] + nums[i], nums[i])\n",
    "        return max(dp)"
   ]
  },
  {
   "cell_type": "code",
   "execution_count": 10,
   "id": "a585b9ca",
   "metadata": {},
   "outputs": [
    {
     "data": {
      "text/plain": [
       "6"
      ]
     },
     "execution_count": 10,
     "metadata": {},
     "output_type": "execute_result"
    }
   ],
   "source": [
    "s = Solution()\n",
    "nums = [-2,1,-3,4,-1,2,1,-5,4]\n",
    "s.maxSubArray(nums)"
   ]
  },
  {
   "cell_type": "markdown",
   "id": "e2bea786",
   "metadata": {},
   "source": [
    "- dp uses max(dp[i - 1] + nums[i], nums[i]) to determin if need to use previous array or not"
   ]
  },
  {
   "cell_type": "markdown",
   "id": "bbbdeff0",
   "metadata": {},
   "source": [
    "### 1.2 method 2: O(nlogn) D & Q"
   ]
  },
  {
   "cell_type": "markdown",
   "id": "c2dfe19f",
   "metadata": {},
   "source": [
    "#### Follow up: If you have figured out the O(n) solution, try coding another solution using the divide and conquer approach, which is more subtle.\n",
    "- the result is at left side or right side or in the middle\n",
    "- Use d & q can always fine the result in O(nlogn)\n",
    "- this is a good example to understand divide and conquer"
   ]
  },
  {
   "cell_type": "code",
   "execution_count": 19,
   "id": "8c50e75a",
   "metadata": {},
   "outputs": [],
   "source": [
    "import math\n",
    "class Solution:\n",
    "    def maxSubArray(self, nums):\n",
    "        # recursive helper funtion used divide and conquer\n",
    "        def helper(nums, l, r):\n",
    "            # cannot divide any more\n",
    "            if l == r:\n",
    "                return nums[l]\n",
    "            m = l + math.floor((r - l) / 2)\n",
    "            # get left max after divide\n",
    "            sum = 0\n",
    "            leftMax = float('-inf')\n",
    "            for i in range(m, l - 1, -1):\n",
    "                sum += nums[i];\n",
    "                leftMax = max(leftMax, sum)\n",
    "            # get right max after divide\n",
    "            sum = 0\n",
    "            rightMax = float('-inf')\n",
    "            for i in range(m + 1, r + 1):\n",
    "                sum += nums[i];\n",
    "                rightMax = max(rightMax, sum)\n",
    "            # the result is at left side or right side or in the middle\n",
    "            return max(helper(nums, l, m), helper(nums, m + 1, r), leftMax + rightMax)\n",
    "\n",
    "        return helper(nums, 0, len(nums) - 1)"
   ]
  },
  {
   "cell_type": "code",
   "execution_count": 20,
   "id": "e299a631",
   "metadata": {},
   "outputs": [
    {
     "data": {
      "text/plain": [
       "6"
      ]
     },
     "execution_count": 20,
     "metadata": {},
     "output_type": "execute_result"
    }
   ],
   "source": [
    "s = Solution()\n",
    "nums = [-2,1,-3,4,-1,2,1,-5,4]\n",
    "s.maxSubArray(nums)"
   ]
  }
 ],
 "metadata": {
  "kernelspec": {
   "display_name": "Python 3",
   "language": "python",
   "name": "python3"
  },
  "language_info": {
   "codemirror_mode": {
    "name": "ipython",
    "version": 3
   },
   "file_extension": ".py",
   "mimetype": "text/x-python",
   "name": "python",
   "nbconvert_exporter": "python",
   "pygments_lexer": "ipython3",
   "version": "3.9.1"
  }
 },
 "nbformat": 4,
 "nbformat_minor": 5
}
