{
 "cells": [
  {
   "cell_type": "markdown",
   "id": "50a92a8b",
   "metadata": {},
   "source": [
    "## 0261. Graph Valid Tree"
   ]
  },
  {
   "cell_type": "raw",
   "id": "a82eaf2d",
   "metadata": {},
   "source": [
    "Description\n",
    "Given n nodes labeled from 0 to n - 1 and a list of undirected edges (each edge is a pair of nodes), write a function to check whether these edges make up a valid tree.\n",
    "\n",
    "Example\n",
    "Example 1:\n",
    "\n",
    "0, 1], [0, 2], [0, 3], [1, 4\n",
    "\n",
    "Output: true.\n",
    "Example 2:\n",
    "\n",
    "0, 1], [1, 2], [2, 3], [1, 3], [1, 4\n",
    "\n",
    "Output: false."
   ]
  },
  {
   "cell_type": "markdown",
   "id": "0aefe1f1",
   "metadata": {},
   "source": [
    "### method: lower and isalnum to avoid check ascii value"
   ]
  },
  {
   "cell_type": "code",
   "execution_count": 2,
   "id": "1a1e1421",
   "metadata": {},
   "outputs": [],
   "source": [
    "from typing import (\n",
    "    List,\n",
    ")\n",
    "\n",
    "class Solution:\n",
    "    \"\"\"\n",
    "    @param n: An integer\n",
    "    @param edges: a list of undirected edges\n",
    "    @return: true if it's a valid tree, or false\n",
    "    \"\"\"\n",
    "    def valid_tree(self, n: int, edges: List[List[int]]) -> bool:\n",
    "        # write your code here\n",
    "        if not n:\n",
    "            return True\n",
    "        adj = { i: [] for i in range(n)}\n",
    "        for n1, n2 in edges:\n",
    "            adj[n1].append(n2)\n",
    "            adj[n2].append(n1)\n",
    "\n",
    "        visit = set()\n",
    "        def dfs(i, prev):\n",
    "            if i in visit: # loop\n",
    "                return False\n",
    "            visit.add(i)\n",
    "            for j in adj[i]:\n",
    "                if j == prev: # prev is to avoid go back\n",
    "                    continue\n",
    "                if not dfs(j, i): # find loop\n",
    "                    return False\n",
    "            return True # everything is ok\n",
    "        return dfs(0, -1) and n == len(visit)"
   ]
  },
  {
   "cell_type": "markdown",
   "id": "e95e18ef",
   "metadata": {},
   "source": [
    "- the idea is to build an adjacency list to represent graph, and then check loop using dfs, if no loop, return True"
   ]
  },
  {
   "cell_type": "code",
   "execution_count": null,
   "id": "51d21217",
   "metadata": {},
   "outputs": [],
   "source": []
  }
 ],
 "metadata": {
  "kernelspec": {
   "display_name": "Python 3",
   "language": "python",
   "name": "python3"
  },
  "language_info": {
   "codemirror_mode": {
    "name": "ipython",
    "version": 3
   },
   "file_extension": ".py",
   "mimetype": "text/x-python",
   "name": "python",
   "nbconvert_exporter": "python",
   "pygments_lexer": "ipython3",
   "version": "3.9.1"
  }
 },
 "nbformat": 4,
 "nbformat_minor": 5
}
