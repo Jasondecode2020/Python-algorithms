{
 "cells": [
  {
   "cell_type": "markdown",
   "id": "50a92a8b",
   "metadata": {},
   "source": [
    "## 271 Encode and Decode Strings(premium)"
   ]
  },
  {
   "cell_type": "raw",
   "id": "a82eaf2d",
   "metadata": {},
   "source": [
    "Description\n",
    "Design an algorithm to encode a list of strings to a string. The encoded string is then sent over the network and is decoded back to the original list of strings.\n",
    "\n",
    "Please implement encode and decode\n",
    "\n",
    "Contact me on wechat to get Amazon、Google requent Interview questions . (wechat id : jiuzhang15)\n",
    "\n",
    "Example\n",
    "Example1\n",
    "\n",
    "Input: [\"lint\",\"code\",\"love\",\"you\"]\n",
    "Output: [\"lint\",\"code\",\"love\",\"you\"]\n",
    "Explanation:\n",
    "One possible encode method is: \"lint:;code:;love:;you\"\n",
    "\n",
    "Example2\n",
    "\n",
    "Input: [\"we\", \"say\", \":\", \"yes\"]\n",
    "Output: [\"we\", \"say\", \":\", \"yes\"]\n",
    "Explanation:\n",
    "One possible encode method is: \"we:;say:;:::;yes\""
   ]
  },
  {
   "cell_type": "markdown",
   "id": "0aefe1f1",
   "metadata": {},
   "source": [
    "### method: use :: replace :, each word end with:, \" \" is used to end a word"
   ]
  },
  {
   "cell_type": "code",
   "execution_count": 6,
   "id": "1a1e1421",
   "metadata": {},
   "outputs": [],
   "source": [
    "class Solution:\n",
    "    \"\"\"\n",
    "    @param: strs: a list of strings\n",
    "    @return: encodes a list of strings to a single string.\n",
    "    \"\"\"\n",
    "    # \" \" -> \": \" to separate different words\n",
    "    # \":\" -> \"::\" to identify \":\"\n",
    "    def encode(self, strs):\n",
    "        # write your code here\n",
    "        encoded = []\n",
    "        for string in strs:\n",
    "            for char in string:\n",
    "                if char == \":\":\n",
    "                    encoded.append(\"::\")\n",
    "                else:\n",
    "                    encoded.append(char)\n",
    "            \n",
    "            encoded.append(\": \")\n",
    "        \n",
    "        # the res will always be ended with \": \"\n",
    "        # such as \"lint: code: love: you: \"\n",
    "        return \"\".join(encoded)\n",
    "                    \n",
    "\n",
    "    \"\"\"\n",
    "    @param: str: A string\n",
    "    @return: dcodes a single string to a list of strings\n",
    "    \"\"\"\n",
    "    def decode(self, str):\n",
    "        # write your code here\n",
    "        res = []\n",
    "        \n",
    "        idx = 0\n",
    "        length = len(str)\n",
    "        tmp_str = []\n",
    "        \n",
    "        # length - 1 because it always ends with \": \"\n",
    "        while idx < length - 1:\n",
    "            if str[idx] == \":\":\n",
    "                if str[idx + 1] == \":\":\n",
    "                    tmp_str.append(\":\")\n",
    "                    idx += 2\n",
    "                elif str[idx + 1] == \" \":\n",
    "                    res.append(\"\".join(tmp_str))\n",
    "                    tmp_str = []\n",
    "                    idx += 2\n",
    "            else:\n",
    "                tmp_str.append(str[idx])\n",
    "                idx += 1\n",
    "        \n",
    "        return res"
   ]
  },
  {
   "cell_type": "code",
   "execution_count": 7,
   "id": "d97b057d",
   "metadata": {},
   "outputs": [
    {
     "name": "stdout",
     "output_type": "stream",
     "text": [
      "lint: code: love: you: \n",
      "['lint', 'code', 'love', 'you']\n"
     ]
    }
   ],
   "source": [
    "s = Solution()\n",
    "strs = [\"lint\",\"code\",\"love\",\"you\"]\n",
    "print(s.encode(strs))\n",
    "strs2 = s.encode(strs)\n",
    "print(s.decode(strs2))"
   ]
  },
  {
   "cell_type": "code",
   "execution_count": null,
   "id": "51d21217",
   "metadata": {},
   "outputs": [],
   "source": []
  }
 ],
 "metadata": {
  "kernelspec": {
   "display_name": "Python 3",
   "language": "python",
   "name": "python3"
  },
  "language_info": {
   "codemirror_mode": {
    "name": "ipython",
    "version": 3
   },
   "file_extension": ".py",
   "mimetype": "text/x-python",
   "name": "python",
   "nbconvert_exporter": "python",
   "pygments_lexer": "ipython3",
   "version": "3.9.1"
  }
 },
 "nbformat": 4,
 "nbformat_minor": 5
}
