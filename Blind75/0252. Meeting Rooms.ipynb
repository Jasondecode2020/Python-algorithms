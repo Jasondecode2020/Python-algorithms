{
 "cells": [
  {
   "cell_type": "markdown",
   "id": "50a92a8b",
   "metadata": {},
   "source": [
    "## 252 Meeting Rooms"
   ]
  },
  {
   "cell_type": "markdown",
   "id": "615a69de",
   "metadata": {},
   "source": [
    "https://leetcode.com/discuss/general-discussion/460599/blind-75-leetcode-questions"
   ]
  },
  {
   "cell_type": "raw",
   "id": "a82eaf2d",
   "metadata": {},
   "source": [
    "Description\n",
    "Given an array of meeting time intervals consisting of start and end times [[s1,e1],[s2,e2],...] (si < ei), determine if a person could attend all meetings.\n",
    "\n",
    "Contact me on wechat to get more FLAMG requent Interview questions . (wechat id : jiuzhang15)\n",
    "\n",
    "\n",
    "(0,8),(8,10) is not conflict at 8\n",
    "\n",
    "Example\n",
    "Example1\n",
    "\n",
    "Input: intervals = [(0,30),(5,10),(15,20)]\n",
    "Output: false\n",
    "Explanation: \n",
    "(0,30), (5,10) and (0,30),(15,20) will conflict\n",
    "Example2\n",
    "\n",
    "Input: intervals = [(5,8),(9,15)]\n",
    "Output: true\n",
    "Explanation: \n",
    "Two times will not conflict "
   ]
  },
  {
   "cell_type": "markdown",
   "id": "9fe78dc1",
   "metadata": {},
   "source": [
    "### greedy"
   ]
  },
  {
   "cell_type": "code",
   "execution_count": 9,
   "id": "1a1e1421",
   "metadata": {},
   "outputs": [],
   "source": [
    "class Solution:\n",
    "    \"\"\"\n",
    "    @param intervals: an array of meeting time intervals\n",
    "    @return: if a person could attend all meetings\n",
    "    \"\"\"\n",
    "    def canAttendMeetings(self, intervals):\n",
    "        # Write your code here\n",
    "        intervals.sort() # key=lambda x:x[0]\n",
    "        for i in range(1, len(intervals)):\n",
    "            if intervals[i][0] < intervals[i-1][1]:\n",
    "                return False\n",
    "        return True"
   ]
  },
  {
   "cell_type": "code",
   "execution_count": 10,
   "id": "a585b9ca",
   "metadata": {},
   "outputs": [
    {
     "data": {
      "text/plain": [
       "False"
      ]
     },
     "execution_count": 10,
     "metadata": {},
     "output_type": "execute_result"
    }
   ],
   "source": [
    "s = Solution()\n",
    "intervals = [(0,30),(5,10),(15,20)]\n",
    "s.canAttendMeetings(intervals)"
   ]
  },
  {
   "cell_type": "code",
   "execution_count": 11,
   "id": "f066e54d",
   "metadata": {},
   "outputs": [
    {
     "data": {
      "text/plain": [
       "True"
      ]
     },
     "execution_count": 11,
     "metadata": {},
     "output_type": "execute_result"
    }
   ],
   "source": [
    "s = Solution()\n",
    "intervals = [(5,8),(9,15)]\n",
    "s.canAttendMeetings(intervals)"
   ]
  },
  {
   "cell_type": "markdown",
   "id": "bbbdeff0",
   "metadata": {},
   "source": [
    "### template"
   ]
  },
  {
   "cell_type": "markdown",
   "id": "c2dfe19f",
   "metadata": {},
   "source": [
    "- 1 greedy from start sort\n",
    "- 2 check overlap\n",
    "- 3 this is from leetcode premium\n",
    "- 4 lintcode 920"
   ]
  },
  {
   "cell_type": "code",
   "execution_count": null,
   "id": "aa2d81ea",
   "metadata": {},
   "outputs": [],
   "source": []
  }
 ],
 "metadata": {
  "kernelspec": {
   "display_name": "Python 3",
   "language": "python",
   "name": "python3"
  },
  "language_info": {
   "codemirror_mode": {
    "name": "ipython",
    "version": 3
   },
   "file_extension": ".py",
   "mimetype": "text/x-python",
   "name": "python",
   "nbconvert_exporter": "python",
   "pygments_lexer": "ipython3",
   "version": "3.9.1"
  }
 },
 "nbformat": 4,
 "nbformat_minor": 5
}
