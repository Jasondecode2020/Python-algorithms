{
 "cells": [
  {
   "cell_type": "markdown",
   "id": "50a92a8b",
   "metadata": {},
   "source": [
    "## 0242. Valid Anagram"
   ]
  },
  {
   "cell_type": "raw",
   "id": "a82eaf2d",
   "metadata": {},
   "source": [
    "Easy\n",
    "\n",
    "Given a string s containing just the characters '(', ')', '{', '}', '[' and ']', determine if the input string is valid.\n",
    "\n",
    "An input string is valid if:\n",
    "\n",
    "Open brackets must be closed by the same type of brackets.\n",
    "Open brackets must be closed in the correct order.\n",
    " \n",
    "Example 1:\n",
    "\n",
    "Input: s = \"()\"\n",
    "Output: true\n",
    "Example 2:\n",
    "\n",
    "Input: s = \"()[]{}\"\n",
    "Output: true\n",
    "Example 3:\n",
    "\n",
    "Input: s = \"(]\"\n",
    "Output: false\n",
    " \n",
    "Constraints:\n",
    "\n",
    "1 <= s.length <= 104\n",
    "s consists of parentheses only '()[]{}'."
   ]
  },
  {
   "cell_type": "markdown",
   "id": "0aefe1f1",
   "metadata": {},
   "source": [
    "### method: stack"
   ]
  },
  {
   "cell_type": "code",
   "execution_count": 2,
   "id": "1a1e1421",
   "metadata": {},
   "outputs": [],
   "source": [
    "class Solution:\n",
    "    def isValid(self, s):\n",
    "        characters = ['(', ')', '{', '}', '[', ']']\n",
    "        stack = []\n",
    "        for c in s:\n",
    "            if (stack and stack[-1] == characters[0] and c == characters[1]) or \\\n",
    "                (stack and stack[-1] == characters[2] and c == characters[3]) or \\\n",
    "                (stack and stack[-1] == characters[4] and c == characters[5]):\n",
    "                stack.pop()\n",
    "            else:\n",
    "                stack.append(c)\n",
    "        return not stack\n",
    "            "
   ]
  },
  {
   "cell_type": "code",
   "execution_count": 3,
   "id": "d97b057d",
   "metadata": {},
   "outputs": [
    {
     "data": {
      "text/plain": [
       "True"
      ]
     },
     "execution_count": 3,
     "metadata": {},
     "output_type": "execute_result"
    }
   ],
   "source": [
    "s = Solution()\n",
    "s1 = \"()[]{}\"\n",
    "s.isValid(s1)"
   ]
  },
  {
   "cell_type": "markdown",
   "id": "647bd099",
   "metadata": {},
   "source": [
    "- python can use list as a stack"
   ]
  },
  {
   "cell_type": "code",
   "execution_count": null,
   "id": "753b9f0f",
   "metadata": {},
   "outputs": [],
   "source": []
  }
 ],
 "metadata": {
  "kernelspec": {
   "display_name": "Python 3",
   "language": "python",
   "name": "python3"
  },
  "language_info": {
   "codemirror_mode": {
    "name": "ipython",
    "version": 3
   },
   "file_extension": ".py",
   "mimetype": "text/x-python",
   "name": "python",
   "nbconvert_exporter": "python",
   "pygments_lexer": "ipython3",
   "version": "3.9.1"
  }
 },
 "nbformat": 4,
 "nbformat_minor": 5
}
