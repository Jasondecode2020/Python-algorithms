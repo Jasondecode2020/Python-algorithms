{
 "cells": [
  {
   "cell_type": "markdown",
   "id": "50a92a8b",
   "metadata": {},
   "source": [
    "## 347. Top K Frequent Elements"
   ]
  },
  {
   "cell_type": "raw",
   "id": "a82eaf2d",
   "metadata": {},
   "source": [
    "Medium\n",
    "\n",
    "Given an integer array nums and an integer k, return the k most frequent elements. You may return the answer in any order.\n",
    "\n",
    "Example 1:\n",
    "\n",
    "Input: nums = [1,1,1,2,2,3], k = 2\n",
    "Output: [1,2]\n",
    "Example 2:\n",
    "\n",
    "Input: nums = [1], k = 1\n",
    "Output: [1]\n",
    " \n",
    "\n",
    "Constraints:\n",
    "\n",
    "1 <= nums.length <= 105\n",
    "k is in the range [1, the number of unique elements in the array].\n",
    "It is guaranteed that the answer is unique.\n",
    "\n",
    "Follow up: Your algorithm's time complexity must be better than O(n log n), where n is the array's size."
   ]
  },
  {
   "cell_type": "markdown",
   "id": "0aefe1f1",
   "metadata": {},
   "source": [
    "### method 1: sort"
   ]
  },
  {
   "cell_type": "code",
   "execution_count": 12,
   "id": "1a1e1421",
   "metadata": {},
   "outputs": [],
   "source": [
    "from collections import Counter\n",
    "class Solution:\n",
    "    def topKFrequent(self, nums, k):\n",
    "        c = Counter(nums)\n",
    "        res = sorted(c.keys(), key = lambda x: c[x], reverse = True)\n",
    "        return res[:k]"
   ]
  },
  {
   "cell_type": "code",
   "execution_count": 13,
   "id": "d97b057d",
   "metadata": {
    "scrolled": true
   },
   "outputs": [
    {
     "data": {
      "text/plain": [
       "[1, 2]"
      ]
     },
     "execution_count": 13,
     "metadata": {},
     "output_type": "execute_result"
    }
   ],
   "source": [
    "s = Solution()\n",
    "nums = [1,1,1,2,2,3]\n",
    "k = 2\n",
    "s.topKFrequent(nums, k)"
   ]
  },
  {
   "cell_type": "markdown",
   "id": "d4d661ec",
   "metadata": {},
   "source": [
    "- similar to merge two sorted arrayFollow up: Your algorithm's time complexity must be better than O(n log n), where n is the array's size."
   ]
  },
  {
   "cell_type": "markdown",
   "id": "7ac3cdfa",
   "metadata": {},
   "source": [
    "### method 2: bucket sort"
   ]
  },
  {
   "cell_type": "markdown",
   "id": "1e2c0c4e",
   "metadata": {},
   "source": [
    "- link: https://www.youtube.com/watch?v=YPTqKIgVk-k"
   ]
  },
  {
   "cell_type": "markdown",
   "id": "8b5cab58",
   "metadata": {},
   "source": [
    "- this is the best algorithms liner time"
   ]
  },
  {
   "cell_type": "code",
   "execution_count": 16,
   "id": "a19d0cc5",
   "metadata": {},
   "outputs": [],
   "source": [
    "class Solution:\n",
    "    def topKFrequent(self, nums, k):\n",
    "        # bucket sort\n",
    "        count = {}\n",
    "        freq = [[] for i in range(len(nums) + 1)]\n",
    "        \n",
    "        for n in nums:\n",
    "            count[n] = 1 + count.get(n, 0)\n",
    "        for n, c in count.items():\n",
    "            freq[c].append(n)\n",
    "            \n",
    "        res = []\n",
    "        for i in range(len(freq) - 1, 0, -1):\n",
    "            for n in freq[i]:\n",
    "                res.append(n)\n",
    "                if len(res) == k:\n",
    "                    return res"
   ]
  },
  {
   "cell_type": "code",
   "execution_count": 18,
   "id": "9bfc1aa2",
   "metadata": {},
   "outputs": [
    {
     "data": {
      "text/plain": [
       "[1, 2]"
      ]
     },
     "execution_count": 18,
     "metadata": {},
     "output_type": "execute_result"
    }
   ],
   "source": [
    "s = Solution()\n",
    "nums = [1,1,1,2,2,3]\n",
    "k = 2\n",
    "s.topKFrequent(nums, k)"
   ]
  },
  {
   "cell_type": "markdown",
   "id": "354c0cb1",
   "metadata": {},
   "source": [
    "### method 3: heap"
   ]
  },
  {
   "cell_type": "code",
   "execution_count": 22,
   "id": "73430392",
   "metadata": {},
   "outputs": [],
   "source": [
    "import heapq\n",
    "class Solution:\n",
    "    def topKFrequent(self, nums, k):\n",
    "        # min heap\n",
    "        count = {}\n",
    "        pq = []\n",
    "        # count dict\n",
    "        for n in nums:\n",
    "            count[n] = 1 + count.get(n, 0)\n",
    "        for n, c in count.items():\n",
    "            heapq.heappush(pq, (c, n))\n",
    "            if len(pq) > k:\n",
    "                heapq.heappop(pq) # the min value has been popped out, the left is the res\n",
    "        return [i[1] for i in pq]"
   ]
  },
  {
   "cell_type": "code",
   "execution_count": 23,
   "id": "3aafdd2d",
   "metadata": {},
   "outputs": [
    {
     "data": {
      "text/plain": [
       "[2, 1]"
      ]
     },
     "execution_count": 23,
     "metadata": {},
     "output_type": "execute_result"
    }
   ],
   "source": [
    "s = Solution()\n",
    "nums = [1,1,1,2,2,3]\n",
    "k = 2\n",
    "s.topKFrequent(nums, k)"
   ]
  },
  {
   "cell_type": "markdown",
   "id": "390accb6",
   "metadata": {},
   "source": [
    "### heapq input parameters can be numbers or array or tuple"
   ]
  },
  {
   "cell_type": "code",
   "execution_count": null,
   "id": "a6177542",
   "metadata": {},
   "outputs": [],
   "source": []
  }
 ],
 "metadata": {
  "kernelspec": {
   "display_name": "Python 3",
   "language": "python",
   "name": "python3"
  },
  "language_info": {
   "codemirror_mode": {
    "name": "ipython",
    "version": 3
   },
   "file_extension": ".py",
   "mimetype": "text/x-python",
   "name": "python",
   "nbconvert_exporter": "python",
   "pygments_lexer": "ipython3",
   "version": "3.9.1"
  }
 },
 "nbformat": 4,
 "nbformat_minor": 5
}
