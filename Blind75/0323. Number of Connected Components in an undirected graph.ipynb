{
 "cells": [
  {
   "cell_type": "markdown",
   "id": "50a92a8b",
   "metadata": {},
   "source": [
    "## 323. Number of Connected Components in an undirected graph"
   ]
  },
  {
   "cell_type": "raw",
   "id": "a82eaf2d",
   "metadata": {},
   "source": [
    "Description\n",
    "Given n nodes labeled from 0 to n - 1 and a list of undirected edges (each edge is a pair of nodes), write a function to check whether these edges make up a valid tree.\n",
    "\n",
    "Example\n",
    "Example 1:\n",
    "n = 5\n",
    "edges = [[0, 1], [1, 2], [3, 4]]\n",
    "\n",
    "Output: 2"
   ]
  },
  {
   "attachments": {
    "image.png": {
     "image/png": "[encoded data removed]"
    }
   },
   "cell_type": "markdown",
   "id": "23135b80",
   "metadata": {},
   "source": [
    "![image.png](attachment:image.png)"
   ]
  },
  {
   "cell_type": "markdown",
   "id": "0aefe1f1",
   "metadata": {},
   "source": [
    "### method: adjacency list and dfs"
   ]
  },
  {
   "cell_type": "markdown",
   "id": "76616cf8",
   "metadata": {},
   "source": [
    "- what is union find: https://www.youtube.com/watch?v=ayW5B2W9hfo"
   ]
  },
  {
   "cell_type": "code",
   "execution_count": 1,
   "id": "1a1e1421",
   "metadata": {},
   "outputs": [],
   "source": [
    "class Solution:\n",
    "    def countComponents(self, n, edges):\n",
    "        par = [i for i in range(n)]\n",
    "        rank = [1] * n\n",
    "        \n",
    "        def find(n1):\n",
    "            res = n1\n",
    "            while res != par[res]:\n",
    "                par[res] = par[par[res]]\n",
    "                res = par[res]\n",
    "            return res\n",
    "        def union(n1, n2):\n",
    "            p1, p2 = find(n1), find(n2)\n",
    "            if p1 == p2:\n",
    "                return 0\n",
    "            if rank[p2] > rank[p1]:\n",
    "                par[p1] = p2\n",
    "                rank[p2] += rank[p1]\n",
    "            else:\n",
    "                par[p2] = p1\n",
    "                rank[p1] += rank[p2]\n",
    "            return 1\n",
    "        res = n\n",
    "        for n1, n2 in edges:\n",
    "            res -= union(n1, n2)\n",
    "        return res"
   ]
  },
  {
   "cell_type": "markdown",
   "id": "e95e18ef",
   "metadata": {},
   "source": [
    "- the idea is to build an adjacency list to represent graph, and then check loop using dfs, if no loop, return True"
   ]
  },
  {
   "cell_type": "code",
   "execution_count": 2,
   "id": "51d21217",
   "metadata": {},
   "outputs": [
    {
     "data": {
      "text/plain": [
       "2"
      ]
     },
     "execution_count": 2,
     "metadata": {},
     "output_type": "execute_result"
    }
   ],
   "source": [
    "s = Solution()\n",
    "n = 5\n",
    "edges = [[0, 1], [1, 2], [3, 4]]\n",
    "s.countComponents(n, edges)\n"
   ]
  },
  {
   "cell_type": "code",
   "execution_count": 7,
   "id": "e2071d90",
   "metadata": {},
   "outputs": [],
   "source": [
    "class Solution:\n",
    "    def countComponents(self, n, edges):\n",
    "        par = [i for i in range(n)]\n",
    "        \n",
    "        def find(n1):\n",
    "            while n1 != par[n1]:\n",
    "                n1 = par[n1]\n",
    "            return n1\n",
    "        def union(n1, n2):\n",
    "            p1, p2 = find(n1), find(n2)\n",
    "            if p1 == p2:\n",
    "                return 0\n",
    "            par[p2] = p1\n",
    "            return 1\n",
    "        res = n\n",
    "        for n1, n2 in edges:\n",
    "            res -= union(n1, n2)\n",
    "        return res"
   ]
  },
  {
   "cell_type": "code",
   "execution_count": 13,
   "id": "872810ff",
   "metadata": {},
   "outputs": [
    {
     "data": {
      "text/plain": [
       "1"
      ]
     },
     "execution_count": 13,
     "metadata": {},
     "output_type": "execute_result"
    }
   ],
   "source": [
    "s = Solution()\n",
    "n = 7\n",
    "edges = [[0, 1], [1, 2], [3, 4], [0, 2], [6, 5], [4, 5], [1, 4]]\n",
    "s.countComponents(n, edges)\n"
   ]
  },
  {
   "cell_type": "code",
   "execution_count": null,
   "id": "a3eb69bb",
   "metadata": {},
   "outputs": [],
   "source": []
  }
 ],
 "metadata": {
  "kernelspec": {
   "display_name": "Python 3",
   "language": "python",
   "name": "python3"
  },
  "language_info": {
   "codemirror_mode": {
    "name": "ipython",
    "version": 3
   },
   "file_extension": ".py",
   "mimetype": "text/x-python",
   "name": "python",
   "nbconvert_exporter": "python",
   "pygments_lexer": "ipython3",
   "version": "3.9.1"
  }
 },
 "nbformat": 4,
 "nbformat_minor": 5
}
