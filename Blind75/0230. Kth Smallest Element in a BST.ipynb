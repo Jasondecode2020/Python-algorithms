{
 "cells": [
  {
   "cell_type": "markdown",
   "id": "50a92a8b",
   "metadata": {},
   "source": [
    "## 230. Kth Smallest Element in a BST"
   ]
  },
  {
   "cell_type": "raw",
   "id": "a82eaf2d",
   "metadata": {},
   "source": [
    "Medium\n",
    "\n",
    "Given the root of a binary search tree, and an integer k, return the kth smallest value (1-indexed) of all the values of the nodes in the tree.\n",
    "\n",
    "Example 1:\n",
    "\n",
    "Input: root = [3,1,4,null,2], k = 1\n",
    "Output: 1\n",
    "Example 2:\n",
    "\n",
    "Input: root = [5,3,6,2,4,null,null,1], k = 3\n",
    "Output: 3\n",
    "\n",
    "Constraints:\n",
    "\n",
    "The number of nodes in the tree is n.\n",
    "1 <= k <= n <= 104\n",
    "0 <= Node.val <= 104\n",
    " \n",
    "\n",
    "Follow up: If the BST is modified often (i.e., we can do insert and delete operations) and you need to find the kth smallest frequently, how would you optimize?"
   ]
  },
  {
   "attachments": {
    "image.png": {
     "image/png": "[encoded data removed]"
    }
   },
   "cell_type": "markdown",
   "id": "56cbebb6",
   "metadata": {},
   "source": [
    "![image.png](attachment:image.png)"
   ]
  },
  {
   "cell_type": "markdown",
   "id": "0aefe1f1",
   "metadata": {},
   "source": [
    "### method 1 : heapq"
   ]
  },
  {
   "cell_type": "code",
   "execution_count": 2,
   "id": "1a1e1421",
   "metadata": {},
   "outputs": [],
   "source": [
    "# Definition for a binary tree node.\n",
    "# class TreeNode:\n",
    "#     def __init__(self, val=0, left=None, right=None):\n",
    "#         self.val = val\n",
    "#         self.left = left\n",
    "#         self.right = right\n",
    "class Solution:\n",
    "    def kthSmallest(self, root, k):\n",
    "        def dfs(node, pq):\n",
    "            if node:\n",
    "                heapq.heappush(pq, node.val)\n",
    "            if node.left: dfs(node.left, pq)\n",
    "            if node.right: dfs(node.right, pq)\n",
    "            return pq\n",
    "        pq = dfs(root, [])\n",
    "        for i in range(k):\n",
    "            val = heapq.heappop(pq)\n",
    "        return val"
   ]
  },
  {
   "cell_type": "markdown",
   "id": "57a96621",
   "metadata": {},
   "source": [
    "- the idea is from leetcode 23 merge k sorted list, to build a heapq use O(n), but when heappop or heappush, it is only O(1), here is min heap, we can use directly.\n",
    "- to act preorder traversal is also O(n)\n",
    "- think is what is first thought of, but we may use a better algorithm to use BST"
   ]
  },
  {
   "cell_type": "raw",
   "id": "de0ee37e",
   "metadata": {},
   "source": [
    "Follow up: If the BST is modified often (i.e., we can do insert and delete operations) and you need to find the kth smallest frequently, how would you optimize?"
   ]
  },
  {
   "cell_type": "markdown",
   "id": "b979c83b",
   "metadata": {},
   "source": [
    "- we know it is not easy to get the kth smallest value when it changed often, we have to build a new heap"
   ]
  },
  {
   "cell_type": "markdown",
   "id": "b08aba16",
   "metadata": {},
   "source": [
    "### method 2 : inorder traversal is better"
   ]
  },
  {
   "cell_type": "code",
   "execution_count": 3,
   "id": "80dbb676",
   "metadata": {},
   "outputs": [],
   "source": [
    "# Definition for a binary tree node.\n",
    "# class TreeNode:\n",
    "#     def __init__(self, val=0, left=None, right=None):\n",
    "#         self.val = val\n",
    "#         self.left = left\n",
    "#         self.right = right\n",
    "class Solution:\n",
    "    def kthSmallest(self, root, k):\n",
    "        def inOrder(node, res):\n",
    "            if node:\n",
    "                inOrder(node.left, res)\n",
    "                res.append(node.val)\n",
    "                inOrder(node.right, res)\n",
    "            return res\n",
    "        \n",
    "        res = inOrder(root, [])\n",
    "        return res[k - 1]\n",
    "        "
   ]
  },
  {
   "cell_type": "markdown",
   "id": "e2690d37",
   "metadata": {},
   "source": [
    "- no need to keep a min heap, in order is automatically keep an increasing order"
   ]
  },
  {
   "cell_type": "code",
   "execution_count": null,
   "id": "f567aef3",
   "metadata": {},
   "outputs": [],
   "source": []
  }
 ],
 "metadata": {
  "kernelspec": {
   "display_name": "Python 3",
   "language": "python",
   "name": "python3"
  },
  "language_info": {
   "codemirror_mode": {
    "name": "ipython",
    "version": 3
   },
   "file_extension": ".py",
   "mimetype": "text/x-python",
   "name": "python",
   "nbconvert_exporter": "python",
   "pygments_lexer": "ipython3",
   "version": "3.9.1"
  }
 },
 "nbformat": 4,
 "nbformat_minor": 5
}
