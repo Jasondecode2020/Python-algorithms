{
 "cells": [
  {
   "cell_type": "markdown",
   "id": "50a92a8b",
   "metadata": {},
   "source": [
    "## 55. Jump Game"
   ]
  },
  {
   "cell_type": "raw",
   "id": "a82eaf2d",
   "metadata": {},
   "source": [
    "Medium\n",
    "\n",
    "You are given an integer array nums. You are initially positioned at the array's first index, and each element in the array represents your maximum jump length at that position.\n",
    "\n",
    "Return true if you can reach the last index, or false otherwise.\n",
    "\n",
    "Example 1:\n",
    "\n",
    "Input: nums = [2,3,1,1,4]\n",
    "Output: true\n",
    "Explanation: Jump 1 step from index 0 to 1, then 3 steps to the last index.\n",
    "\n",
    "Example 2:\n",
    "\n",
    "Input: nums = [3,2,1,0,4]\n",
    "Output: false\n",
    "Explanation: You will always arrive at index 3 no matter what. Its maximum jump length is 0, which makes it impossible to reach the last index.\n",
    " \n",
    "Constraints:\n",
    "\n",
    "1 <= nums.length <= 10^4\n",
    "0 <= nums[i] <= 10^5"
   ]
  },
  {
   "cell_type": "markdown",
   "id": "0aefe1f1",
   "metadata": {},
   "source": [
    "### method: dp"
   ]
  },
  {
   "cell_type": "code",
   "execution_count": 3,
   "id": "1a1e1421",
   "metadata": {},
   "outputs": [],
   "source": [
    "class Solution:\n",
    "    def canJump(self, nums):\n",
    "        res = 0\n",
    "        for i in range(len(nums)):\n",
    "            res = max(res, i + nums[i])\n",
    "            if res < i + 1 and res != len(nums) - 1:\n",
    "                return False\n",
    "        return True"
   ]
  },
  {
   "cell_type": "code",
   "execution_count": 4,
   "id": "d97b057d",
   "metadata": {},
   "outputs": [
    {
     "data": {
      "text/plain": [
       "True"
      ]
     },
     "execution_count": 4,
     "metadata": {},
     "output_type": "execute_result"
    }
   ],
   "source": [
    "s = Solution()\n",
    "nums = [2,3,1,1,4]\n",
    "s.canJump(nums)"
   ]
  },
  {
   "cell_type": "markdown",
   "id": "f47aec6f",
   "metadata": {},
   "source": [
    "### faster version"
   ]
  },
  {
   "cell_type": "code",
   "execution_count": 8,
   "id": "c0b1993a",
   "metadata": {},
   "outputs": [],
   "source": [
    "class Solution:\n",
    "    def canJump(self, nums):\n",
    "        res = 0\n",
    "        for i in range(len(nums)):\n",
    "            res = max(res, i + nums[i])\n",
    "            if (res >= len(nums) - 1):\n",
    "                return True # stops earlier\n",
    "            elif res < i + 1 and res != len(nums) - 1:\n",
    "                return False"
   ]
  },
  {
   "cell_type": "code",
   "execution_count": 7,
   "id": "e54c2550",
   "metadata": {},
   "outputs": [
    {
     "data": {
      "text/plain": [
       "True"
      ]
     },
     "execution_count": 7,
     "metadata": {},
     "output_type": "execute_result"
    }
   ],
   "source": [
    "s = Solution()\n",
    "nums = [2,3,1,1,4]\n",
    "s.canJump(nums)"
   ]
  },
  {
   "attachments": {
    "image-3.png": {
     "image/png": "[encoded data removed]"
    }
   },
   "cell_type": "markdown",
   "id": "ac1b876e",
   "metadata": {},
   "source": [
    "![image-3.png](attachment:image-3.png)"
   ]
  },
  {
   "cell_type": "markdown",
   "id": "647bd099",
   "metadata": {},
   "source": [
    "- faster version can stop earlier, in the above fig, if index = 1, it stops, because we can see it has reached"
   ]
  }
 ],
 "metadata": {
  "kernelspec": {
   "display_name": "Python 3",
   "language": "python",
   "name": "python3"
  },
  "language_info": {
   "codemirror_mode": {
    "name": "ipython",
    "version": 3
   },
   "file_extension": ".py",
   "mimetype": "text/x-python",
   "name": "python",
   "nbconvert_exporter": "python",
   "pygments_lexer": "ipython3",
   "version": "3.9.1"
  }
 },
 "nbformat": 4,
 "nbformat_minor": 5
}
