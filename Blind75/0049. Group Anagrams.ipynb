{
 "cells": [
  {
   "cell_type": "markdown",
   "id": "50a92a8b",
   "metadata": {},
   "source": [
    "## 49. Group Anagrams"
   ]
  },
  {
   "cell_type": "raw",
   "id": "a82eaf2d",
   "metadata": {},
   "source": [
    "49. Group Anagrams\n",
    "\n",
    "Given an array of strings strs, group the anagrams together. You can return the answer in any order.\n",
    "\n",
    "An Anagram is a word or phrase formed by rearranging the letters of a different word or phrase, typically using all the original letters exactly once.\n",
    "\n",
    "Example 1:\n",
    "\n",
    "Input: strs = [\"eat\",\"tea\",\"tan\",\"ate\",\"nat\",\"bat\"]\n",
    "Output: [[\"bat\"],[\"nat\",\"tan\"],[\"ate\",\"eat\",\"tea\"]]\n",
    "\n",
    "Example 2:\n",
    "\n",
    "Input: strs = [\"\"]\n",
    "Output: [[\"\"]]\n",
    "Example 3:\n",
    "\n",
    "Input: strs = [\"a\"]\n",
    "Output: [[\"a\"]]\n",
    "\n",
    "Constraints:\n",
    "\n",
    "1 <= strs.length <= 104\n",
    "0 <= strs[i].length <= 100\n",
    "strs[i] consists of lowercase English letters."
   ]
  },
  {
   "cell_type": "markdown",
   "id": "0aefe1f1",
   "metadata": {},
   "source": [
    "### method: each tuple of count is the key and value is the anagrams "
   ]
  },
  {
   "cell_type": "code",
   "execution_count": 4,
   "id": "1a1e1421",
   "metadata": {},
   "outputs": [],
   "source": [
    "from collections import defaultdict\n",
    "class Solution:\n",
    "    def groupAnagrams(self, strs):\n",
    "        res = defaultdict(list)\n",
    "        for s in strs:\n",
    "            count = [0] * 26\n",
    "            for c in s:\n",
    "                count[ord(c) - ord('a')] += 1\n",
    "            res[tuple(count)].append(s) # tuple(count) is the key for anagrams\n",
    "        return res.values()"
   ]
  },
  {
   "cell_type": "code",
   "execution_count": 5,
   "id": "d97b057d",
   "metadata": {},
   "outputs": [
    {
     "data": {
      "text/plain": [
       "dict_values([['eat', 'tea', 'ate'], ['tan', 'nat'], ['bat']])"
      ]
     },
     "execution_count": 5,
     "metadata": {},
     "output_type": "execute_result"
    }
   ],
   "source": [
    "s = Solution()\n",
    "strs = [\"eat\",\"tea\",\"tan\",\"ate\",\"nat\",\"bat\"]\n",
    "s.groupAnagrams(strs)"
   ]
  },
  {
   "cell_type": "code",
   "execution_count": null,
   "id": "51d21217",
   "metadata": {},
   "outputs": [],
   "source": []
  }
 ],
 "metadata": {
  "kernelspec": {
   "display_name": "Python 3",
   "language": "python",
   "name": "python3"
  },
  "language_info": {
   "codemirror_mode": {
    "name": "ipython",
    "version": 3
   },
   "file_extension": ".py",
   "mimetype": "text/x-python",
   "name": "python",
   "nbconvert_exporter": "python",
   "pygments_lexer": "ipython3",
   "version": "3.9.1"
  }
 },
 "nbformat": 4,
 "nbformat_minor": 5
}
