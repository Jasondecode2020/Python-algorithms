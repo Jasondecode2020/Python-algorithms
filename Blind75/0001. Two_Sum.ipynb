{
 "cells": [
  {
   "cell_type": "markdown",
   "id": "50a92a8b",
   "metadata": {},
   "source": [
    "## 1. Two Sum"
   ]
  },
  {
   "cell_type": "markdown",
   "id": "615a69de",
   "metadata": {},
   "source": [
    "https://leetcode.com/discuss/general-discussion/460599/blind-75-leetcode-questions"
   ]
  },
  {
   "cell_type": "raw",
   "id": "a82eaf2d",
   "metadata": {},
   "source": [
    "Easy\n",
    "\n",
    "Given an array of integers nums and an integer target, return indices of the two numbers such that they add up to target.\n",
    "You may assume that each input would have exactly one solution, and you may not use the same element twice.\n",
    "You can return the answer in any order.\n",
    "\n",
    "Example 1:\n",
    "\n",
    "Input: nums = [2,7,11,15], target = 9\n",
    "Output: [0,1]\n",
    "Output: Because nums[0] + nums[1] == 9, we return [0, 1].\n",
    "\n",
    "Example 2:\n",
    "Input: nums = [3,2,4], target = 6\n",
    "Output: [1,2]\n",
    "\n",
    "Example 3:\n",
    "Input: nums = [3,3], target = 6\n",
    "Output: [0,1]\n",
    " \n",
    "\n",
    "Constraints:\n",
    "\n",
    "2 <= nums.length <= 10**4\n",
    "-10**9 <= nums[i] <= 10**9\n",
    "-10**9 <= target <= 10**9\n",
    "Only one valid answer exists.\n",
    " \n",
    "Follow-up: Can you come up with an algorithm that is less than O(n^2) time complexity?"
   ]
  },
  {
   "cell_type": "markdown",
   "id": "271efd0d",
   "metadata": {},
   "source": [
    "### Python"
   ]
  },
  {
   "cell_type": "markdown",
   "id": "0aefe1f1",
   "metadata": {},
   "source": [
    "### 1.1 method 1: brute force n^2"
   ]
  },
  {
   "cell_type": "code",
   "execution_count": 9,
   "id": "1a1e1421",
   "metadata": {},
   "outputs": [],
   "source": [
    "class Solution:\n",
    "    def twoSum(self, nums, target):\n",
    "        for i in range(len(nums) - 1):\n",
    "            for j in range(i + 1, len(nums)):\n",
    "                if nums[i] + nums[j] == target:\n",
    "                    return [i, j]"
   ]
  },
  {
   "cell_type": "code",
   "execution_count": 10,
   "id": "a585b9ca",
   "metadata": {},
   "outputs": [
    {
     "data": {
      "text/plain": [
       "[0, 1]"
      ]
     },
     "execution_count": 10,
     "metadata": {},
     "output_type": "execute_result"
    }
   ],
   "source": [
    "s = Solution()\n",
    "nums = [2,7,11,15]\n",
    "target = 9\n",
    "s.twoSum(nums, target)"
   ]
  },
  {
   "cell_type": "markdown",
   "id": "bbbdeff0",
   "metadata": {},
   "source": [
    "### 1.2 method 2: O(n) dict"
   ]
  },
  {
   "cell_type": "markdown",
   "id": "c2dfe19f",
   "metadata": {},
   "source": [
    "#### Follow-up: Can you come up with an algorithm that is less than O(n^2) time complexity?\n",
    "- 1 Prepare a dictionary, use only one loop\n",
    "- 2 Use enumerate of index and values of nums array\n",
    "- 3 Check is the numbers in the dict or not"
   ]
  },
  {
   "cell_type": "code",
   "execution_count": 11,
   "id": "8c50e75a",
   "metadata": {},
   "outputs": [],
   "source": [
    "class Solution:\n",
    "    def twoSum(self, nums, target):\n",
    "        d = {}\n",
    "        for idx, val in enumerate(nums):\n",
    "            res = target - val\n",
    "            if res in d:\n",
    "                return [d[res], idx]\n",
    "            d[val] = idx"
   ]
  },
  {
   "cell_type": "code",
   "execution_count": 12,
   "id": "e299a631",
   "metadata": {},
   "outputs": [
    {
     "data": {
      "text/plain": [
       "[0, 1]"
      ]
     },
     "execution_count": 12,
     "metadata": {},
     "output_type": "execute_result"
    }
   ],
   "source": [
    "s = Solution()\n",
    "nums = [2,7,11,15]\n",
    "target = 9\n",
    "s.twoSum(nums, target)"
   ]
  },
  {
   "cell_type": "markdown",
   "id": "15f5de9e",
   "metadata": {},
   "source": [
    "- nums = [2,7,11,15]\n",
    "- target = 9\n",
    "- 1st loop: d = {}, idx = 0, val = 2, res = 7, 7 is not in d = {}, d = {2: 0}\n",
    "- 2nd loop: d = {2: 0}, idx = 1, val = 7, res = 2, 2 is in d = {2: 0}, return [d[2], 1], d[2] = 0"
   ]
  },
  {
   "cell_type": "markdown",
   "id": "540c9f07",
   "metadata": {},
   "source": [
    "In order to get less than O(n^2) time complexity, we need to prepare a dict, increase a bit memory, but decreased time complexity"
   ]
  },
  {
   "cell_type": "markdown",
   "id": "9598898a",
   "metadata": {},
   "source": [
    "### JS"
   ]
  },
  {
   "cell_type": "markdown",
   "id": "76507ba6",
   "metadata": {},
   "source": [
    "```js\n",
    "var twoSum = function(nums, target) {\n",
    "    const map = new Map();\n",
    "    for (let i = 0; i < nums.length; i++) {\n",
    "        const res = target - nums[i];\n",
    "        if (map.has(res)) {\n",
    "            return [map.get(res), i];\n",
    "        }\n",
    "        map.set(nums[i], i);\n",
    "    }\n",
    "};\n",
    "```"
   ]
  },
  {
   "cell_type": "markdown",
   "id": "4c31baee",
   "metadata": {},
   "source": [
    "- in js, there is no enumerate, we need to use a for loop to use index and value, and also we need to use map in js"
   ]
  },
  {
   "cell_type": "markdown",
   "id": "e788b515",
   "metadata": {},
   "source": [
    "### JAVA"
   ]
  },
  {
   "cell_type": "markdown",
   "id": "ceef0bf3",
   "metadata": {},
   "source": [
    "```java\n",
    "class Solution {\n",
    "    public int[] twoSum(int[] nums, int target) {\n",
    "        HashMap<Integer, Integer> map = new HashMap<Integer, Integer>();\n",
    "\n",
    "        for (int i = 0; i < nums.length; i++){\n",
    "            int res = target - nums[i];\n",
    "            if (map.containsKey(res))\n",
    "                return new int[] {map.get(res), i};\n",
    "            map.put(nums[i], i);\n",
    "        }\n",
    "        return null;\n",
    "    }\n",
    "}\n",
    "```"
   ]
  },
  {
   "cell_type": "markdown",
   "id": "0d53f6a8",
   "metadata": {},
   "source": [
    "- java need to use <Integer, Integer> strict data type, return type is new int[] {}, and need a final return type, \n",
    "it is difficult to get used to, but it is quite fast, why not choose a faster language"
   ]
  },
  {
   "cell_type": "code",
   "execution_count": null,
   "id": "cdfe847a",
   "metadata": {},
   "outputs": [],
   "source": []
  }
 ],
 "metadata": {
  "kernelspec": {
   "display_name": "Python 3",
   "language": "python",
   "name": "python3"
  },
  "language_info": {
   "codemirror_mode": {
    "name": "ipython",
    "version": 3
   },
   "file_extension": ".py",
   "mimetype": "text/x-python",
   "name": "python",
   "nbconvert_exporter": "python",
   "pygments_lexer": "ipython3",
   "version": "3.9.1"
  }
 },
 "nbformat": 4,
 "nbformat_minor": 5
}
