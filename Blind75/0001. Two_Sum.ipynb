{
 "cells": [
  {
   "cell_type": "markdown",
   "id": "50a92a8b",
   "metadata": {},
   "source": [
    "## 1. Two Sum"
   ]
  },
  {
   "cell_type": "markdown",
   "id": "615a69de",
   "metadata": {},
   "source": [
    "https://leetcode.com/discuss/general-discussion/460599/blind-75-leetcode-questions"
   ]
  },
  {
   "cell_type": "raw",
   "id": "a82eaf2d",
   "metadata": {},
   "source": [
    "Easy\n",
    "\n",
    "Given an array of integers nums and an integer target, return indices of the two numbers such that they add up to target.\n",
    "You may assume that each input would have exactly one solution, and you may not use the same element twice.\n",
    "You can return the answer in any order.\n",
    "\n",
    "Example 1:\n",
    "\n",
    "Input: nums = [2,7,11,15], target = 9\n",
    "Output: [0,1]\n",
    "Output: Because nums[0] + nums[1] == 9, we return [0, 1].\n",
    "\n",
    "Example 2:\n",
    "Input: nums = [3,2,4], target = 6\n",
    "Output: [1,2]\n",
    "\n",
    "Example 3:\n",
    "Input: nums = [3,3], target = 6\n",
    "Output: [0,1]\n",
    " \n",
    "\n",
    "Constraints:\n",
    "\n",
    "2 <= nums.length <= 10**4\n",
    "-10**9 <= nums[i] <= 10**9\n",
    "-10**9 <= target <= 10**9\n",
    "Only one valid answer exists.\n",
    " \n",
    "Follow-up: Can you come up with an algorithm that is less than O(n^2) time complexity?"
   ]
  },
  {
   "cell_type": "markdown",
   "id": "271efd0d",
   "metadata": {},
   "source": [
    "### Python"
   ]
  },
  {
   "cell_type": "markdown",
   "id": "0aefe1f1",
   "metadata": {},
   "source": [
    "### 1.1 method 1: brute force n^2"
   ]
  },
  {
   "cell_type": "code",
   "execution_count": 2,
   "id": "1a1e1421",
   "metadata": {},
   "outputs": [
    {
     "data": {
      "text/plain": [
       "[0, 2]"
      ]
     },
     "execution_count": 2,
     "metadata": {},
     "output_type": "execute_result"
    }
   ],
   "source": [
    "class Solution:\n",
    "    def twoSum(self, nums, target):\n",
    "        for i in range(len(nums) - 1):\n",
    "            for j in range(i + 1, len(nums)):\n",
    "                if nums[i] + nums[j] == target:\n",
    "                    return [i, j]\n",
    "s = Solution()\n",
    "nums = [2,1,7,15]\n",
    "target = 9\n",
    "s.twoSum(nums, target)"
   ]
  },
  {
   "cell_type": "markdown",
   "id": "bbbdeff0",
   "metadata": {},
   "source": [
    "### 1.2 method 2: O(n) dict"
   ]
  },
  {
   "cell_type": "markdown",
   "id": "c2dfe19f",
   "metadata": {},
   "source": [
    "#### Follow-up: Can you come up with an algorithm that is less than O(n^2) time complexity?\n",
    "- 1 Prepare a dictionary, use only one loop\n",
    "- 2 Use enumerate of index and values of nums array\n",
    "- 3 Check is the numbers in the dict or not"
   ]
  },
  {
   "cell_type": "code",
   "execution_count": 3,
   "id": "8c50e75a",
   "metadata": {},
   "outputs": [],
   "source": [
    "class Solution:\n",
    "    def twoSum(self, nums, target):\n",
    "        d = {}\n",
    "        for idx, val in enumerate(nums):\n",
    "            res = target - val\n",
    "            if res in d:\n",
    "                return [d[res], idx]\n",
    "            d[val] = idx"
   ]
  },
  {
   "cell_type": "code",
   "execution_count": 4,
   "id": "e299a631",
   "metadata": {},
   "outputs": [
    {
     "data": {
      "text/plain": [
       "[0, 1]"
      ]
     },
     "execution_count": 4,
     "metadata": {},
     "output_type": "execute_result"
    }
   ],
   "source": [
    "s = Solution()\n",
    "nums = [2,7,11,15]\n",
    "target = 9\n",
    "s.twoSum(nums, target)"
   ]
  },
  {
   "cell_type": "markdown",
   "id": "15f5de9e",
   "metadata": {},
   "source": [
    "- nums = [2,7,11,15]\n",
    "- target = 9\n",
    "- 1st loop: d = {}, idx = 0, val = 2, res = 7, 7 is not in d = {}, d = {2: 0}\n",
    "- 2nd loop: d = {2: 0}, idx = 1, val = 7, res = 2, 2 is in d = {2: 0}, return [d[2], 1], d[2] = 0"
   ]
  },
  {
   "cell_type": "markdown",
   "id": "540c9f07",
   "metadata": {},
   "source": [
    "In order to get less than O(n^2) time complexity, we need to prepare a dict, increase a bit memory, but decreased time complexity"
   ]
  },
  {
   "cell_type": "markdown",
   "id": "9598898a",
   "metadata": {},
   "source": [
    "### JS"
   ]
  },
  {
   "cell_type": "markdown",
   "id": "76507ba6",
   "metadata": {},
   "source": [
    "```js\n",
    "var twoSum = function(nums, target) {\n",
    "    const map = new Map();\n",
    "    for (let i = 0; i < nums.length; i++) {\n",
    "        const res = target - nums[i];\n",
    "        if (map.has(res)) {\n",
    "            return [map.get(res), i];\n",
    "        }\n",
    "        map.set(nums[i], i);\n",
    "    }\n",
    "};\n",
    "```"
   ]
  },
  {
   "cell_type": "markdown",
   "id": "4c31baee",
   "metadata": {},
   "source": [
    "- in js, there is no enumerate, we need to use a for loop to use index and value, and also we need to use map in js"
   ]
  },
  {
   "cell_type": "markdown",
   "id": "e788b515",
   "metadata": {},
   "source": [
    "### JAVA"
   ]
  },
  {
   "cell_type": "markdown",
   "id": "ceef0bf3",
   "metadata": {},
   "source": [
    "```java\n",
    "class Solution {\n",
    "    public int[] twoSum(int[] nums, int target) {\n",
    "        HashMap<Integer, Integer> map = new HashMap<Integer, Integer>();\n",
    "\n",
    "        for (int i = 0; i < nums.length; i++){\n",
    "            int res = target - nums[i];\n",
    "            if (map.containsKey(res))\n",
    "                return new int[] {map.get(res), i};\n",
    "            map.put(nums[i], i);\n",
    "        }\n",
    "        return null;\n",
    "    }\n",
    "}\n",
    "```"
   ]
  },
  {
   "cell_type": "markdown",
   "id": "0d53f6a8",
   "metadata": {},
   "source": [
    "- java need to use <Integer, Integer> strict data type, return type is new int[] {}, and need a final return type, \n",
    "it is difficult to get used to, but it is quite fast, why not choose a faster language"
   ]
  },
  {
   "cell_type": "markdown",
   "id": "0b713e44",
   "metadata": {},
   "source": [
    "Second time"
   ]
  },
  {
   "cell_type": "markdown",
   "id": "e6c4976c",
   "metadata": {},
   "source": [
    "this is the second time for blind75, I will do the question and with the follow up questions in leetcode"
   ]
  },
  {
   "cell_type": "markdown",
   "id": "ff19d96b",
   "metadata": {},
   "source": [
    "### 1 the easiest way to do is by using hash table"
   ]
  },
  {
   "cell_type": "markdown",
   "id": "124944ab",
   "metadata": {},
   "source": [
    "```python\n",
    "class Solution:\n",
    "    def twoSum(self, nums: List[int], target: int) -> List[int]:\n",
    "        d = {}\n",
    "        for i, v in enumerate(nums):\n",
    "            res = target - v\n",
    "            if res in d:\n",
    "                return [d[res], i]\n",
    "            d[v] = i\n",
    "````"
   ]
  },
  {
   "cell_type": "markdown",
   "id": "852a015c",
   "metadata": {},
   "source": [
    "2 1679. Max Number of K-Sum Pairs"
   ]
  },
  {
   "cell_type": "markdown",
   "id": "0f205cfe",
   "metadata": {},
   "source": [
    "try to learn defaultdict(int)"
   ]
  },
  {
   "cell_type": "code",
   "execution_count": 7,
   "id": "60ff96db",
   "metadata": {},
   "outputs": [
    {
     "data": {
      "text/plain": [
       "2"
      ]
     },
     "execution_count": 7,
     "metadata": {},
     "output_type": "execute_result"
    }
   ],
   "source": [
    "from collections import defaultdict\n",
    "d = defaultdict(int)\n",
    "d[1] = 2\n",
    "d[1]"
   ]
  },
  {
   "cell_type": "markdown",
   "id": "54715fd1",
   "metadata": {},
   "source": [
    "```python\n",
    "class Solution:\n",
    "    def maxOperations(self, nums: List[int], k: int) -> int:\n",
    "        operations, d = 0, defaultdict(int)\n",
    "        for v in nums:\n",
    "            res = k - v\n",
    "            if d[res]:\n",
    "                operations += 1\n",
    "                d[res] -= 1\n",
    "            else:\n",
    "                d[v] += 1\n",
    "        return operations"
   ]
  },
  {
   "cell_type": "markdown",
   "id": "cc3974d3",
   "metadata": {},
   "source": [
    "3 1711. Count Good Meals"
   ]
  },
  {
   "cell_type": "markdown",
   "id": "89ae36c4",
   "metadata": {},
   "source": [
    "```python\n",
    "class Solution:\n",
    "    def countPairs(self, deliciousness: List[int]) -> int:\n",
    "        res, s, n, d = 0, set([2 ** i for i in range(22)]), len(deliciousness), defaultdict(int)\n",
    "        for meal in deliciousness:\n",
    "            for power in s:\n",
    "                ans = power - meal\n",
    "                if d[ans]:\n",
    "                    res += d[ans]\n",
    "            d[meal] += 1\n",
    "        return res % (10 ** 9 + 7)"
   ]
  },
  {
   "cell_type": "code",
   "execution_count": 14,
   "id": "f3eadafd",
   "metadata": {},
   "outputs": [
    {
     "name": "stdout",
     "output_type": "stream",
     "text": [
      "True\n"
     ]
    }
   ],
   "source": [
    "recipes = [\"bread\"]\n",
    "ingredients = [[\"yeast\",\"flour\"]]\n",
    "supplies = set([\"yeast\",\"flour\",\"corn\"])\n",
    "for r, i in zip(recipes, ingredients):\n",
    "    if all(ii in supplies for ii in i):\n",
    "        print(True)"
   ]
  },
  {
   "cell_type": "markdown",
   "id": "fa4d0275",
   "metadata": {},
   "source": [
    "4 2115. Find All Possible Recipes from Given Supplies"
   ]
  },
  {
   "cell_type": "markdown",
   "id": "28dfedb6",
   "metadata": {},
   "source": [
    "a better way is to use topological sort"
   ]
  },
  {
   "cell_type": "markdown",
   "id": "1428c210",
   "metadata": {},
   "source": [
    "```python\n",
    "class Solution:\n",
    "    def findAllRecipes(self, recipes: List[str], ingredients: List[List[str]], supplies: List[str]) -> List[str]:\n",
    "        s, res, changed = set(supplies), [], True\n",
    "        while changed:\n",
    "            changed = False\n",
    "            for i, recipe in enumerate(recipes):\n",
    "                if all(supply in s for supply in ingredients[i]) and recipe not in s:\n",
    "                    s.add(recipe)\n",
    "                    res.append(recipe)\n",
    "                    changed = True\n",
    "        return res"
   ]
  },
  {
   "cell_type": "markdown",
   "id": "5e1af5b3",
   "metadata": {},
   "source": [
    "topological sort"
   ]
  },
  {
   "cell_type": "markdown",
   "id": "759f324c",
   "metadata": {},
   "source": [
    "```python\n",
    "class Solution:\n",
    "    def findAllRecipes(self, recipes: List[str], ingredients: List[List[str]], supplies: List[str]) -> List[str]:\n",
    "        g, in_degree = defaultdict(list), defaultdict(int)\n",
    "        for recipe, ingredient in zip(recipes,ingredients):\n",
    "            for i in ingredient:\n",
    "                g[i].append(recipe)\n",
    "                in_degree[recipe] += 1\n",
    "\n",
    "        q, res = deque(supplies), []\n",
    "        while q:\n",
    "            ingredient = q.popleft()\n",
    "            if ingredient in recipes:\n",
    "                res.append(ingredient)\n",
    "\n",
    "            for child in g[ingredient]:\n",
    "                in_degree[child] -= 1\n",
    "                if in_degree[child] == 0:\n",
    "                    q.append(child)\n",
    "\n",
    "        return res"
   ]
  },
  {
   "cell_type": "markdown",
   "id": "8dffa084",
   "metadata": {},
   "source": [
    "5 2023. Number of Pairs of Strings With Concatenation Equal to Target"
   ]
  },
  {
   "cell_type": "markdown",
   "id": "32d14c76",
   "metadata": {},
   "source": [
    "```python\n",
    "class Solution:\n",
    "    def numOfPairs(self, nums: List[str], target: str) -> int:\n",
    "        res = 0\n",
    "        for i in range(len(nums) - 1):\n",
    "            for j in range(i + 1, len(nums)):\n",
    "                if nums[i] + nums[j] == target:\n",
    "                    res += 1\n",
    "                if nums[j] + nums[i] == target:\n",
    "                    res += 1\n",
    "        return res"
   ]
  },
  {
   "cell_type": "markdown",
   "id": "0a90e524",
   "metadata": {},
   "source": [
    "6 2374. Node With Highest Edge Score"
   ]
  },
  {
   "cell_type": "markdown",
   "id": "740e6bb0",
   "metadata": {},
   "source": [
    "```python\n",
    "class Solution:\n",
    "    def edgeScore(self, edges: List[int]) -> int:\n",
    "        res, d = [], defaultdict(int)\n",
    "        for i, e in enumerate(edges):\n",
    "            d[e] += i\n",
    "        max_value = max(d.values())\n",
    "        for k in d.keys():\n",
    "            if d[k] == max_value:\n",
    "                res.append(k)\n",
    "        return min(res)"
   ]
  },
  {
   "cell_type": "markdown",
   "id": "921f780b",
   "metadata": {},
   "source": [
    "7 2367. Number of Arithmetic Triplets"
   ]
  },
  {
   "cell_type": "markdown",
   "id": "0816d711",
   "metadata": {},
   "source": [
    "```python\n",
    "class Solution:\n",
    "    def arithmeticTriplets(self, nums: List[int], diff: int) -> int:\n",
    "        res = 0\n",
    "        for i in range(len(nums) - 2):\n",
    "            for j in range(i + 1, len(nums) - 1):\n",
    "                for k in range(j + 1, len(nums)):\n",
    "                    if nums[j] - nums[i] == diff and nums[k] - nums[j] == diff:\n",
    "                        res += 1\n",
    "        return res"
   ]
  },
  {
   "cell_type": "markdown",
   "id": "04d98084",
   "metadata": {},
   "source": [
    "must be a hash"
   ]
  },
  {
   "cell_type": "markdown",
   "id": "8e52f1ab",
   "metadata": {},
   "source": [
    "```python\n",
    "class Solution:\n",
    "    def arithmeticTriplets(self, nums: List[int], diff: int) -> int:\n",
    "        s = set(nums)\n",
    "        res = 0\n",
    "        for n in nums:\n",
    "            if (n + diff) in s and (n + diff + diff) in s:\n",
    "                res += 1\n",
    "        return res"
   ]
  },
  {
   "cell_type": "markdown",
   "id": "c83c7ee4",
   "metadata": {},
   "source": [
    "8 2351. First Letter to Appear Twice"
   ]
  },
  {
   "cell_type": "markdown",
   "id": "fccb1109",
   "metadata": {},
   "source": [
    "```python\n",
    "class Solution:\n",
    "    def repeatedCharacter(self, s: str) -> str:\n",
    "        res, d = float('inf'), defaultdict(int)\n",
    "        for i, c in enumerate(s):\n",
    "            d[c] += 1\n",
    "            if d[c] == 2:\n",
    "                res = min(res, i)\n",
    "        return s[res]"
   ]
  },
  {
   "cell_type": "markdown",
   "id": "79ea181f",
   "metadata": {},
   "source": [
    "9 2200. Find All K-Distant Indices in an Array"
   ]
  },
  {
   "cell_type": "markdown",
   "id": "0b3c09c5",
   "metadata": {},
   "source": [
    "```python\n",
    "class Solution:\n",
    "    def findKDistantIndices(self, nums: List[int], key: int, k: int) -> List[int]:\n",
    "        res = set()\n",
    "        for i, v in enumerate(nums):\n",
    "            if v == key:\n",
    "                for j in range(max(0, i - k), min((i + k + 1), len(nums))):\n",
    "                    res.add(j)\n",
    "        return res"
   ]
  },
  {
   "cell_type": "markdown",
   "id": "7414c81f",
   "metadata": {},
   "source": [
    "10 2399. Check Distances Between Same Letters"
   ]
  },
  {
   "cell_type": "markdown",
   "id": "db0f0996",
   "metadata": {},
   "source": [
    "```python\n",
    "class Solution:\n",
    "    def checkDistances(self, s: str, distance: List[int]) -> bool:\n",
    "        d, letters, dist = defaultdict(int), ascii_lowercase, {}\n",
    "        for i, v in enumerate(distance):\n",
    "            dist[ascii_lowercase[i]] = v\n",
    "        for i, c in enumerate(s):\n",
    "            if c in d and i - d[c] - 1 != dist[c]:\n",
    "                return False\n",
    "            d[c] = i\n",
    "        return True"
   ]
  },
  {
   "cell_type": "markdown",
   "id": "87e4173d",
   "metadata": {},
   "source": [
    "10 2395. Find Subarrays With Equal Sum"
   ]
  },
  {
   "cell_type": "markdown",
   "id": "27803075",
   "metadata": {},
   "source": [
    "```python\n",
    "class Solution:\n",
    "    def findSubarrays(self, nums: List[int]) -> bool:\n",
    "        s = set()\n",
    "        for i in range(1, len(nums)):\n",
    "            res = nums[i] + nums[i - 1]\n",
    "            if res in s:\n",
    "                return True\n",
    "            s.add(res)"
   ]
  },
  {
   "cell_type": "markdown",
   "id": "fb2f1672",
   "metadata": {},
   "source": []
  }
 ],
 "metadata": {
  "kernelspec": {
   "display_name": "Python 3.9.1 ('base')",
   "language": "python",
   "name": "python3"
  },
  "language_info": {
   "codemirror_mode": {
    "name": "ipython",
    "version": 3
   },
   "file_extension": ".py",
   "mimetype": "text/x-python",
   "name": "python",
   "nbconvert_exporter": "python",
   "pygments_lexer": "ipython3",
   "version": "3.9.1"
  },
  "vscode": {
   "interpreter": {
    "hash": "d0af3871f74fa798a0a222812f3db7ca3ddb43c51379edde28baf2323a73ac20"
   }
  }
 },
 "nbformat": 4,
 "nbformat_minor": 5
}
