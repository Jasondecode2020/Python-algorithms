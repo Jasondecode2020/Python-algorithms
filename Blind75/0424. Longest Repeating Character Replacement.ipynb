{
 "cells": [
  {
   "cell_type": "markdown",
   "id": "50a92a8b",
   "metadata": {},
   "source": [
    "## 424. Longest Repeating Character Replacement"
   ]
  },
  {
   "cell_type": "raw",
   "id": "a82eaf2d",
   "metadata": {},
   "source": [
    "Medium\n",
    "\n",
    "You are given a string s and an integer k. You can choose any character of the string and change it to any other uppercase English character. You can perform this operation at most k times.\n",
    "\n",
    "Return the length of the longest substring containing the same letter you can get after performing the above operations.\n",
    "\n",
    "Example 1:\n",
    "\n",
    "Input: s = \"ABAB\", k = 2\n",
    "Output: 4\n",
    "Explanation: Replace the two 'A's with two 'B's or vice versa.\n",
    "Example 2:\n",
    "\n",
    "Input: s = \"AABABBA\", k = 1\n",
    "Output: 4\n",
    "Explanation: Replace the one 'A' in the middle with 'B' and form \"AABBBBA\".\n",
    "The substring \"BBBB\" has the longest repeating letters, which is 4.\n",
    " \n",
    "Constraints:\n",
    "\n",
    "1 <= s.length <= 105\n",
    "s consists of only uppercase English letters.\n",
    "0 <= k <= s.length"
   ]
  },
  {
   "cell_type": "markdown",
   "id": "0aefe1f1",
   "metadata": {},
   "source": [
    "### method 1: sort"
   ]
  },
  {
   "cell_type": "code",
   "execution_count": 5,
   "id": "1a1e1421",
   "metadata": {},
   "outputs": [],
   "source": [
    "class Solution:\n",
    "    def characterReplacement(self, s, k):\n",
    "        count = {}\n",
    "        l = 0\n",
    "        res = 0\n",
    "        for r in range(len(s)):\n",
    "            count[s[r]] = count.get(s[r], 0) + 1\n",
    "            if r - l + 1 - max(count.values()) > k:\n",
    "                count[s[l]] -= 1\n",
    "                l += 1\n",
    "            res = max(res, r - l + 1)\n",
    "        return res"
   ]
  },
  {
   "cell_type": "code",
   "execution_count": 6,
   "id": "d97b057d",
   "metadata": {
    "scrolled": true
   },
   "outputs": [
    {
     "data": {
      "text/plain": [
       "4"
      ]
     },
     "execution_count": 6,
     "metadata": {},
     "output_type": "execute_result"
    }
   ],
   "source": [
    "s = Solution()\n",
    "s1 = \"ABAB\"\n",
    "k = 2\n",
    "s.characterReplacement(s1, k)"
   ]
  },
  {
   "cell_type": "markdown",
   "id": "d4d661ec",
   "metadata": {},
   "source": [
    "- sliding window and use counter to record current max value"
   ]
  },
  {
   "cell_type": "markdown",
   "id": "390accb6",
   "metadata": {},
   "source": [
    "### link: https://www.youtube.com/watch?v=gqXU1UyA8pk"
   ]
  },
  {
   "cell_type": "code",
   "execution_count": null,
   "id": "a6177542",
   "metadata": {},
   "outputs": [],
   "source": []
  }
 ],
 "metadata": {
  "kernelspec": {
   "display_name": "Python 3",
   "language": "python",
   "name": "python3"
  },
  "language_info": {
   "codemirror_mode": {
    "name": "ipython",
    "version": 3
   },
   "file_extension": ".py",
   "mimetype": "text/x-python",
   "name": "python",
   "nbconvert_exporter": "python",
   "pygments_lexer": "ipython3",
   "version": "3.9.1"
  }
 },
 "nbformat": 4,
 "nbformat_minor": 5
}
