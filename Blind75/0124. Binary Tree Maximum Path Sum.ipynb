{
 "cells": [
  {
   "cell_type": "markdown",
   "id": "50a92a8b",
   "metadata": {},
   "source": [
    "## 124. Binary Tree Maximum Path Sum"
   ]
  },
  {
   "cell_type": "raw",
   "id": "a82eaf2d",
   "metadata": {},
   "source": [
    "Hard\n",
    "\n",
    "A path in a binary tree is a sequence of nodes where each pair of adjacent nodes in the sequence has an edge connecting them. A node can only appear in the sequence at most once. Note that the path does not need to pass through the root.\n",
    "\n",
    "The path sum of a path is the sum of the node's values in the path.\n",
    "\n",
    "Given the root of a binary tree, return the maximum path sum of any non-empty path.\n",
    "\n",
    "Example 1:\n",
    "\n",
    "Input: root = [1,2,3]\n",
    "Output: 6\n",
    "Explanation: The optimal path is 2 -> 1 -> 3 with a path sum of 2 + 1 + 3 = 6.\n",
    "\n",
    "Example 2:\n",
    "\n",
    "Input: root = [-10,9,20,null,null,15,7]\n",
    "Output: 42\n",
    "Explanation: The optimal path is 15 -> 20 -> 7 with a path sum of 15 + 20 + 7 = 42.\n",
    " \n",
    "Constraints:\n",
    "\n",
    "The number of nodes in the tree is in the range [1, 3 * 104].\n",
    "-1000 <= Node.val <= 1000"
   ]
  },
  {
   "attachments": {
    "image-2.png": {
     "image/png": "[encoded data removed]"
    }
   },
   "cell_type": "markdown",
   "id": "4859bf7d",
   "metadata": {},
   "source": [
    "![image-2.png](attachment:image-2.png)"
   ]
  },
  {
   "cell_type": "markdown",
   "id": "0aefe1f1",
   "metadata": {},
   "source": [
    "### method: tree"
   ]
  },
  {
   "cell_type": "code",
   "execution_count": 3,
   "id": "1a1e1421",
   "metadata": {},
   "outputs": [],
   "source": [
    "# Definition for a binary tree node.\n",
    "# class TreeNode:\n",
    "#     def __init__(self, val=0, left=None, right=None):\n",
    "#         self.val = val\n",
    "#         self.left = left\n",
    "#         self.right = right\n",
    "class Solution:\n",
    "    def isSameTree(self, p, q):\n",
    "        if not q and not p: return True\n",
    "        elif not q and p or not p and q:\n",
    "            return False\n",
    "        elif p.val == q.val:\n",
    "            return self.isSameTree(p.left, q.left) and self.isSameTree(p.right, q.right)"
   ]
  },
  {
   "cell_type": "markdown",
   "id": "647bd099",
   "metadata": {},
   "source": [
    "- https://www.youtube.com/watch?v=TO5zsKtc1Ic"
   ]
  },
  {
   "cell_type": "markdown",
   "id": "3fadae55",
   "metadata": {},
   "source": [
    "- neet: https://www.youtube.com/watch?v=Hr5cWUld4vU"
   ]
  },
  {
   "cell_type": "code",
   "execution_count": 2,
   "id": "eb198c11",
   "metadata": {},
   "outputs": [],
   "source": [
    "# Definition for a binary tree node.\n",
    "# class TreeNode:\n",
    "#     def __init__(self, val=0, left=None, right=None):\n",
    "#         self.val = val\n",
    "#         self.left = left\n",
    "#         self.right = right\n",
    "class Solution:\n",
    "    def maxPathSum(self, root):\n",
    "        if not root: # if node is None, get final res 0\n",
    "            return 0\n",
    "        self.res = root.val # else asign root.val as init value of self.res\n",
    "        self.dfs(root) # post order traversal\n",
    "        return self.res\n",
    "    def dfs(self, node):\n",
    "        if not node: # if there is leaf node, there are no children, return 0\n",
    "            return 0\n",
    "        l = max(0, self.dfs(node.left)) # post order left first, get bottom up value, 0 is to avoid negative values\n",
    "        r = max(0, self.dfs(node.right))  # post order right second, get bottom up value\n",
    "        self.res = max(self.res, node.val+l+r) # update self.res\n",
    "        return node.val + max(l, r) # this is used to get bottom up value of dfs of node.left and node.right"
   ]
  },
  {
   "cell_type": "markdown",
   "id": "23160858",
   "metadata": {},
   "source": [
    "### this is post order dfs bottom up solution, l is for the left node, r is for the value of right node, inside l, the dfs is got from the return value, if [1, 2, 3], the return is 4, but self.res = 2, then, 3, then becomes 6."
   ]
  }
 ],
 "metadata": {
  "kernelspec": {
   "display_name": "Python 3",
   "language": "python",
   "name": "python3"
  },
  "language_info": {
   "codemirror_mode": {
    "name": "ipython",
    "version": 3
   },
   "file_extension": ".py",
   "mimetype": "text/x-python",
   "name": "python",
   "nbconvert_exporter": "python",
   "pygments_lexer": "ipython3",
   "version": "3.9.1"
  }
 },
 "nbformat": 4,
 "nbformat_minor": 5
}
