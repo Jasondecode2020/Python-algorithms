{
 "cells": [
  {
   "cell_type": "markdown",
   "id": "50a92a8b",
   "metadata": {},
   "source": [
    "## 0076. Minimum Window Substring"
   ]
  },
  {
   "cell_type": "raw",
   "id": "a82eaf2d",
   "metadata": {},
   "source": [
    "Hard\n",
    "\n",
    "Given two strings s and t of lengths m and n respectively, return the minimum window substring of s such that every character in t (including duplicates) is included in the window. If there is no such substring, return the empty string \"\".\n",
    "\n",
    "The testcases will be generated such that the answer is unique.\n",
    "\n",
    "A substring is a contiguous sequence of characters within the string.\n",
    "\n",
    " \n",
    "\n",
    "Example 1:\n",
    "\n",
    "Input: s = \"ADOBECODEBANC\", t = \"ABC\"\n",
    "Output: \"BANC\"\n",
    "Explanation: The minimum window substring \"BANC\" includes 'A', 'B', and 'C' from string t.\n",
    "Example 2:\n",
    "\n",
    "Input: s = \"a\", t = \"a\"\n",
    "Output: \"a\"\n",
    "Explanation: The entire string s is the minimum window.\n",
    "Example 3:\n",
    "\n",
    "Input: s = \"a\", t = \"aa\"\n",
    "Output: \"\"\n",
    "Explanation: Both 'a's from t must be included in the window.\n",
    "Since the largest window of s only has one 'a', return empty string.\n",
    " \n",
    "\n",
    "Constraints:\n",
    "\n",
    "m == s.length\n",
    "n == t.length\n",
    "1 <= m, n <= 105\n",
    "s and t consist of uppercase and lowercase English letters.\n",
    " \n",
    "\n",
    "Follow up: Could you find an algorithm that runs in O(m + n) time?"
   ]
  },
  {
   "cell_type": "markdown",
   "id": "0aefe1f1",
   "metadata": {},
   "source": [
    "### method: lower and isalnum to avoid check ascii value"
   ]
  },
  {
   "cell_type": "code",
   "execution_count": 3,
   "id": "1a1e1421",
   "metadata": {},
   "outputs": [],
   "source": [
    "class Solution:\n",
    "    def minWindow(self, s, t):\n",
    "        '''\n",
    "        prepare a window to compare with the countT dict,\n",
    "        if they are equal, it means there is a sub string\n",
    "        meet the condition, otherwise sliding the window.\n",
    "        when find then window, sliding from left side to see\n",
    "        if it can become smaller, if it is, then narrow the window\n",
    "        '''\n",
    "        if t == '': return ''\n",
    "        \n",
    "        countT, window = {}, {}\n",
    "        for c in t:\n",
    "            countT[c] = 1 + countT.get(c, 0)\n",
    "            \n",
    "        have, need = 0, len(countT)\n",
    "        res, resLen = [-1, -1], float('infinity')\n",
    "        l = 0\n",
    "        for r in range(len(s)):\n",
    "            c = s[r]\n",
    "            if c in countT: # need store the same char as countT\n",
    "                window[c] = 1 + window.get(c, 0)\n",
    "            \n",
    "            if c in countT and window[c] == countT[c]:\n",
    "                have += 1\n",
    "                \n",
    "            while have == need:\n",
    "                # update result\n",
    "                if (r - l + 1) < resLen:\n",
    "                    res = [l, r]\n",
    "                    resLen = (r - l + 1)\n",
    "                # pop from the left of window\n",
    "                if s[l] in countT: # useful for time and space\n",
    "                    window[s[l]] -= 1\n",
    "                if s[l] in countT and window[s[l]] < countT[s[l]]:\n",
    "                    have -= 1\n",
    "                l += 1\n",
    "        l, r = res\n",
    "        return s[l: r+1] if resLen != float('infinity') else ''"
   ]
  },
  {
   "cell_type": "code",
   "execution_count": 5,
   "id": "d97b057d",
   "metadata": {},
   "outputs": [
    {
     "data": {
      "text/plain": [
       "'BANC'"
      ]
     },
     "execution_count": 5,
     "metadata": {},
     "output_type": "execute_result"
    }
   ],
   "source": [
    "s = Solution()\n",
    "s1 = \"ADOBECODEBANC\"\n",
    "t = \"ABC\"\n",
    "s.minWindow(s1, t)"
   ]
  },
  {
   "cell_type": "markdown",
   "id": "cee93f89",
   "metadata": {},
   "source": [
    "- link: https://www.youtube.com/watch?v=jSto0O4AJbM\n",
    "- keep two dict, count and window\n",
    "- window is for t, count is for s\n",
    "- then use sliding window, first from left to right, increase the right pointer\n",
    "- if there is an equal, then pop left, shift left to right to see if it can become smaller"
   ]
  },
  {
   "cell_type": "markdown",
   "id": "f864ac54",
   "metadata": {},
   "source": [
    "- note, res stored the final value, l and r pointer are used to check all possible values"
   ]
  },
  {
   "cell_type": "code",
   "execution_count": null,
   "id": "94419d67",
   "metadata": {},
   "outputs": [],
   "source": []
  }
 ],
 "metadata": {
  "kernelspec": {
   "display_name": "Python 3",
   "language": "python",
   "name": "python3"
  },
  "language_info": {
   "codemirror_mode": {
    "name": "ipython",
    "version": 3
   },
   "file_extension": ".py",
   "mimetype": "text/x-python",
   "name": "python",
   "nbconvert_exporter": "python",
   "pygments_lexer": "ipython3",
   "version": "3.9.1"
  }
 },
 "nbformat": 4,
 "nbformat_minor": 5
}
