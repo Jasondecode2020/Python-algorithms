{
 "cells": [
  {
   "cell_type": "markdown",
   "metadata": {},
   "source": [
    "## 455. Assign Cookies"
   ]
  },
  {
   "cell_type": "raw",
   "metadata": {},
   "source": [
    "Easy\n",
    "\n",
    "Assume you are an awesome parent and want to give your children some cookies. But, you should give each child at most one cookie.\n",
    "\n",
    "Each child i has a greed factor g[i], which is the minimum size of a cookie that the child will be content with; and each cookie j has a size s[j]. If s[j] >= g[i], we can assign the cookie j to the child i, and the child i will be content. Your goal is to maximize the number of your content children and output the maximum number.\n",
    "\n",
    " \n",
    "\n",
    "Example 1:\n",
    "\n",
    "Input: g = [1,2,3], s = [1,1]\n",
    "Output: 1\n",
    "Explanation: You have 3 children and 2 cookies. The greed factors of 3 children are 1, 2, 3. \n",
    "And even though you have 2 cookies, since their size is both 1, you could only make the child whose greed factor is 1 content.\n",
    "You need to output 1.\n",
    "Example 2:\n",
    "\n",
    "Input: g = [1,2], s = [1,2,3]\n",
    "Output: 2\n",
    "Explanation: You have 2 children and 3 cookies. The greed factors of 2 children are 1, 2. \n",
    "You have 3 cookies and their sizes are big enough to gratify all of the children, \n",
    "You need to output 2.\n",
    " \n",
    "\n",
    "Constraints:\n",
    "\n",
    "1 <= g.length <= 3 * 104\n",
    "0 <= s.length <= 3 * 104\n",
    "1 <= g[i], s[j] <= 231 - 1"
   ]
  },
  {
   "cell_type": "markdown",
   "metadata": {},
   "source": [
    "### method 1 greedy"
   ]
  },
  {
   "cell_type": "code",
   "execution_count": 11,
   "metadata": {},
   "outputs": [],
   "source": [
    "class Solution:\n",
    "    def findContentChildren(self, g, s):\n",
    "        # method 2 greedy: nlogn\n",
    "        # give the largest cookie to the greediest child\n",
    "        # If can't appease him, then give to the next greediest child\n",
    "        # sort cookies, since we need to know the largest size of the cookie in order to give it to children\n",
    "        # sort children, only then we can give the largest size cookie to the greediest child\n",
    "        g.sort()\n",
    "        s.sort()\n",
    "        res = 0\n",
    "        while g and s:\n",
    "            if s[-1] >= g[-1]:\n",
    "                s.pop()\n",
    "                g.pop()\n",
    "                res += 1\n",
    "            else:\n",
    "                g.pop()\n",
    "        return res"
   ]
  },
  {
   "cell_type": "code",
   "execution_count": 12,
   "metadata": {},
   "outputs": [
    {
     "data": {
      "text/plain": [
       "1"
      ]
     },
     "execution_count": 12,
     "metadata": {},
     "output_type": "execute_result"
    }
   ],
   "source": [
    "s = Solution()\n",
    "g = [1,2,3]\n",
    "s1 = [1,1]\n",
    "s.findContentChildren(g, s1)"
   ]
  },
  {
   "cell_type": "markdown",
   "metadata": {},
   "source": [
    "### method 2 normal"
   ]
  },
  {
   "cell_type": "code",
   "execution_count": 9,
   "metadata": {},
   "outputs": [],
   "source": [
    "class Solution:\n",
    "    def findContentChildren(self, g, s):\n",
    "        # method 1 T: n^2\n",
    "        g.sort()\n",
    "        s.sort()\n",
    "        res = 0\n",
    "        for item in g:\n",
    "            for i in range(len(s)):\n",
    "                if s[i] >= item:\n",
    "                    res += 1\n",
    "                    s = s[i+1:]\n",
    "                    break\n",
    "        return res"
   ]
  },
  {
   "cell_type": "code",
   "execution_count": 10,
   "metadata": {
    "scrolled": true
   },
   "outputs": [
    {
     "data": {
      "text/plain": [
       "1"
      ]
     },
     "execution_count": 10,
     "metadata": {},
     "output_type": "execute_result"
    }
   ],
   "source": [
    "s = Solution()\n",
    "g = [1,2,3]\n",
    "s1 = [1,1]\n",
    "s.findContentChildren(g, s1)"
   ]
  }
 ],
 "metadata": {
  "kernelspec": {
   "display_name": "Python 3",
   "language": "python",
   "name": "python3"
  },
  "language_info": {
   "codemirror_mode": {
    "name": "ipython",
    "version": 3
   },
   "file_extension": ".py",
   "mimetype": "text/x-python",
   "name": "python",
   "nbconvert_exporter": "python",
   "pygments_lexer": "ipython3",
   "version": "3.8.3"
  }
 },
 "nbformat": 4,
 "nbformat_minor": 5
}
