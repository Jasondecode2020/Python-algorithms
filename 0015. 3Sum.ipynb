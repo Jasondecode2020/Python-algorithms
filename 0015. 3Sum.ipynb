{
 "cells": [
  {
   "cell_type": "markdown",
   "id": "d0b11ebf",
   "metadata": {},
   "source": [
    "## 15. 3Sum"
   ]
  },
  {
   "cell_type": "raw",
   "id": "29f24ae1",
   "metadata": {},
   "source": [
    "Medium\n",
    "\n",
    "Given an integer array nums, return all the triplets [nums[i], nums[j], nums[k]] such that i != j, i != k, and j != k, and nums[i] + nums[j] + nums[k] == 0.\n",
    "\n",
    "Notice that the solution set must not contain duplicate triplets.\n",
    "\n",
    "Example 1:\n",
    "\n",
    "Input: nums = [-1,0,1,2,-1,-4]\n",
    "Output: [[-1,-1,2],[-1,0,1]]\n",
    "\n",
    "Example 2:\n",
    "\n",
    "Input: nums = []\n",
    "Output: []\n",
    "\n",
    "Example 3:\n",
    "\n",
    "Input: nums = [0]\n",
    "Output: []\n",
    " \n",
    "Constraints:\n",
    "\n",
    "0 <= nums.length <= 3000\n",
    "-10^5 <= nums[i] <= 10^5"
   ]
  },
  {
   "cell_type": "markdown",
   "id": "1a10f50e",
   "metadata": {},
   "source": [
    "### method 1"
   ]
  },
  {
   "cell_type": "code",
   "execution_count": 99,
   "id": "45e5ffca",
   "metadata": {},
   "outputs": [],
   "source": [
    "class Solution:\n",
    "    def threeSum(self, nums):\n",
    "        res = []\n",
    "        for i in range(len(nums) - 2):\n",
    "            for j in range(i + 1, len(nums) - 1):\n",
    "                for k in range(j + 1, len(nums)):\n",
    "                    if nums[i] + nums[j] + nums[k] == 0:\n",
    "                        res.append([nums[i], nums[j], nums[k]])\n",
    "        result = []\n",
    "        resultSet = []\n",
    "        for item in res:\n",
    "            if Counter(item) not in resultSet:\n",
    "                resultSet.append(Counter(item))\n",
    "                result.append(item)\n",
    "        return result"
   ]
  },
  {
   "cell_type": "code",
   "execution_count": 100,
   "id": "6c770005",
   "metadata": {},
   "outputs": [
    {
     "data": {
      "text/plain": [
       "[[-1, 0, 1], [-1, 2, -1]]"
      ]
     },
     "execution_count": 100,
     "metadata": {},
     "output_type": "execute_result"
    }
   ],
   "source": [
    "s = Solution()\n",
    "nums = [-1,0,1,2,-1,-4]\n",
    "s.threeSum(nums)"
   ]
  },
  {
   "cell_type": "markdown",
   "id": "fde66933",
   "metadata": {},
   "source": [
    "### method 2"
   ]
  },
  {
   "cell_type": "code",
   "execution_count": 24,
   "id": "dc6466c5",
   "metadata": {},
   "outputs": [],
   "source": [
    "from itertools import combinations\n",
    "from collections import Counter\n",
    "class Solution:\n",
    "    def threeSum(self, nums):\n",
    "        res = []\n",
    "        temp = combinations(nums, 3)\n",
    "        for item in list(temp):\n",
    "            if sum(item) == 0:\n",
    "                res.append(list(item))\n",
    "        result = []\n",
    "        resultSet = []\n",
    "        for item in res:\n",
    "            if Counter(item) not in resultSet:\n",
    "                resultSet.append(Counter(item))\n",
    "                result.append(item)\n",
    "        return result"
   ]
  },
  {
   "cell_type": "code",
   "execution_count": 25,
   "id": "41de3861",
   "metadata": {},
   "outputs": [
    {
     "data": {
      "text/plain": [
       "[[-1, 0, 1], [-1, 2, -1]]"
      ]
     },
     "execution_count": 25,
     "metadata": {},
     "output_type": "execute_result"
    }
   ],
   "source": [
    "s = Solution()\n",
    "nums = [-1,0,1,2,-1,-4]\n",
    "s.threeSum(nums)"
   ]
  },
  {
   "cell_type": "markdown",
   "id": "b1e62ccf",
   "metadata": {},
   "source": [
    "### method 3"
   ]
  },
  {
   "cell_type": "markdown",
   "id": "23fc13ee",
   "metadata": {},
   "source": [
    "#### Follow-up: Can you come up with an algorithm that is less than O(n^2) time complexity?\n",
    "- 1 Prepare a dictionary, use only one loop\n",
    "- 2 Use enumerate of index and values of nums array\n",
    "- 3 Check is the numbers in the dict or not"
   ]
  },
  {
   "cell_type": "code",
   "execution_count": 103,
   "id": "60c9b4a4",
   "metadata": {},
   "outputs": [],
   "source": [
    "from collections import Counter\n",
    "class Solution:\n",
    "    def threeSum(self, nums):\n",
    "        def twoSum(leftNums, target):\n",
    "            d = {}\n",
    "            l = []\n",
    "            for idx, val in enumerate(leftNums):\n",
    "                res = -target - val\n",
    "                if res in d:\n",
    "                    l.append([res, val, target])\n",
    "                else:\n",
    "                    d[val] = idx\n",
    "            return l\n",
    "        final = []\n",
    "        for i in range(len(nums)):\n",
    "            left = nums[i]\n",
    "            leftNums = nums[:i] + nums[i + 1: ]\n",
    "            res = twoSum(leftNums, left)\n",
    "            final.extend(res)\n",
    "            \n",
    "        result = []\n",
    "        resultSet = []\n",
    "        for item in final:\n",
    "            if Counter(item) not in resultSet:\n",
    "                resultSet.append(Counter(item))\n",
    "                result.append(item)\n",
    "        return result"
   ]
  },
  {
   "cell_type": "code",
   "execution_count": 102,
   "id": "14e52ae1",
   "metadata": {
    "scrolled": false
   },
   "outputs": [
    {
     "data": {
      "text/plain": [
       "[[0, 1, -1], [2, -1, -1]]"
      ]
     },
     "execution_count": 102,
     "metadata": {},
     "output_type": "execute_result"
    }
   ],
   "source": [
    "s = Solution()\n",
    "nums = [-1,0,1,2,-1,-4]\n",
    "s.threeSum(nums)"
   ]
  },
  {
   "cell_type": "markdown",
   "id": "ba0c2ed8",
   "metadata": {},
   "source": [
    "### method 4"
   ]
  },
  {
   "cell_type": "code",
   "execution_count": 112,
   "id": "7e376426",
   "metadata": {},
   "outputs": [],
   "source": [
    "class Solution:\n",
    "    def threeSum(self, nums):\n",
    "        def twoSum(leftNums, target):\n",
    "            d = {}\n",
    "            l = []\n",
    "            for idx, val in enumerate(leftNums):\n",
    "                res = -target - val\n",
    "                if res in d:\n",
    "                    l.append([res, val, target])\n",
    "                else:\n",
    "                    d[val] = idx\n",
    "            return l\n",
    "        new = sorted(nums)\n",
    "        final = []\n",
    "        for i in range(len(new)):\n",
    "            left = new[i]\n",
    "            leftNums = new[i + 1: ]\n",
    "            if left == new[i - 1]:\n",
    "                continue\n",
    "            else:\n",
    "                res = twoSum(leftNums, left)\n",
    "                final.extend(res)\n",
    "        return final"
   ]
  },
  {
   "cell_type": "code",
   "execution_count": 113,
   "id": "971db0a8",
   "metadata": {
    "scrolled": true
   },
   "outputs": [
    {
     "name": "stdout",
     "output_type": "stream",
     "text": [
      "[-4, -1, -1, 0, 1, 2]\n"
     ]
    },
    {
     "data": {
      "text/plain": [
       "[[0, 1, -1], [-1, 2, -1]]"
      ]
     },
     "execution_count": 113,
     "metadata": {},
     "output_type": "execute_result"
    }
   ],
   "source": [
    "s = Solution()\n",
    "nums = [-1,0,1,2,-1,-4]\n",
    "s.threeSum(nums)"
   ]
  },
  {
   "cell_type": "code",
   "execution_count": null,
   "id": "f00b00e9",
   "metadata": {},
   "outputs": [],
   "source": []
  }
 ],
 "metadata": {
  "kernelspec": {
   "display_name": "Python 3",
   "language": "python",
   "name": "python3"
  },
  "language_info": {
   "codemirror_mode": {
    "name": "ipython",
    "version": 3
   },
   "file_extension": ".py",
   "mimetype": "text/x-python",
   "name": "python",
   "nbconvert_exporter": "python",
   "pygments_lexer": "ipython3",
   "version": "3.9.1"
  }
 },
 "nbformat": 4,
 "nbformat_minor": 5
}
