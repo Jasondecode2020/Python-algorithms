{
 "cells": [
  {
   "cell_type": "markdown",
   "id": "d0b11ebf",
   "metadata": {},
   "source": [
    "## 3. Longest Substring Without Repeating Characters"
   ]
  },
  {
   "cell_type": "raw",
   "id": "29f24ae1",
   "metadata": {},
   "source": [
    "Medium\n",
    "\n",
    "Given a string s, find the length of the longest substring without repeating characters.\n",
    "\n",
    "Example 1:\n",
    "\n",
    "Input: s = \"abcabcbb\"\n",
    "Output: 3\n",
    "Explanation: The answer is \"abc\", with the length of 3.\n",
    "\n",
    "Example 2:\n",
    "\n",
    "Input: s = \"bbbbb\"\n",
    "Output: 1\n",
    "Explanation: The answer is \"b\", with the length of 1.\n",
    "\n",
    "Example 3:\n",
    "\n",
    "Input: s = \"pwwkew\"\n",
    "Output: 3\n",
    "Explanation: The answer is \"wke\", with the length of 3.\n",
    "Notice that the answer must be a substring, \"pwke\" is a subsequence and not a substring.\n",
    "\n",
    "Example 4:\n",
    "\n",
    "Input: s = \"\"\n",
    "Output: 0\n",
    " \n",
    "Constraints:\n",
    "\n",
    "0 <= s.length <= 5 * 10^4\n",
    "s consists of English letters, digits, symbols and spaces."
   ]
  },
  {
   "cell_type": "markdown",
   "id": "1a10f50e",
   "metadata": {},
   "source": [
    "### 3.1 method 1: no sliding window"
   ]
  },
  {
   "cell_type": "code",
   "execution_count": 14,
   "id": "dc6466c5",
   "metadata": {},
   "outputs": [],
   "source": [
    "class Solution:\n",
    "    def lengthOfLongestSubstring(self, s):\n",
    "        if s == '':\n",
    "            return 0\n",
    "        final = []\n",
    "        for i in range(len(s)):\n",
    "            arr = []\n",
    "            arr.append(s[i])\n",
    "            for j in range(i + 1, len(s)):\n",
    "                if s[j] not in arr:\n",
    "                    arr.append(s[j])\n",
    "                else:\n",
    "                    break\n",
    "            final.append(arr)\n",
    "        return max([len(item) for item in final])"
   ]
  },
  {
   "cell_type": "code",
   "execution_count": 15,
   "id": "41de3861",
   "metadata": {},
   "outputs": [
    {
     "data": {
      "text/plain": [
       "3"
      ]
     },
     "execution_count": 15,
     "metadata": {},
     "output_type": "execute_result"
    }
   ],
   "source": [
    "s = Solution()\n",
    "s1 = \"abcabcbb\"\n",
    "s.lengthOfLongestSubstring(s1)"
   ]
  },
  {
   "cell_type": "code",
   "execution_count": 16,
   "id": "1ff0528b",
   "metadata": {},
   "outputs": [
    {
     "data": {
      "text/plain": [
       "1"
      ]
     },
     "execution_count": 16,
     "metadata": {},
     "output_type": "execute_result"
    }
   ],
   "source": [
    "s = Solution()\n",
    "s1 = \"bbbbb\"\n",
    "s.lengthOfLongestSubstring(s1)"
   ]
  },
  {
   "cell_type": "code",
   "execution_count": 17,
   "id": "a0ddc288",
   "metadata": {},
   "outputs": [
    {
     "data": {
      "text/plain": [
       "3"
      ]
     },
     "execution_count": 17,
     "metadata": {},
     "output_type": "execute_result"
    }
   ],
   "source": [
    "s = Solution()\n",
    "s1 = \"pwwkew\"\n",
    "s.lengthOfLongestSubstring(s1)"
   ]
  },
  {
   "cell_type": "code",
   "execution_count": 18,
   "id": "f8a3a067",
   "metadata": {},
   "outputs": [
    {
     "data": {
      "text/plain": [
       "0"
      ]
     },
     "execution_count": 18,
     "metadata": {},
     "output_type": "execute_result"
    }
   ],
   "source": [
    "s = Solution()\n",
    "s1 = \"\"\n",
    "s.lengthOfLongestSubstring(s1)"
   ]
  },
  {
   "cell_type": "markdown",
   "id": "23fc13ee",
   "metadata": {},
   "source": [
    "#### 2 loops\n",
    "- 1 Prepare an array\n",
    "- 2 Use a sub array\n",
    "- 3 the result is a max of sub array"
   ]
  },
  {
   "cell_type": "code",
   "execution_count": 20,
   "id": "811c697d",
   "metadata": {},
   "outputs": [
    {
     "data": {
      "text/plain": [
       "['a', 'c']"
      ]
     },
     "execution_count": 20,
     "metadata": {},
     "output_type": "execute_result"
    }
   ],
   "source": [
    "['a'] + ['c']"
   ]
  },
  {
   "cell_type": "markdown",
   "id": "2ba22494",
   "metadata": {},
   "source": [
    "### 3.2 method 2 sliding window"
   ]
  },
  {
   "cell_type": "code",
   "execution_count": 30,
   "id": "dedb6793",
   "metadata": {},
   "outputs": [],
   "source": [
    "class Solution:\n",
    "    def lengthOfLongestSubstring(self, s):\n",
    "        if s == \"\":\n",
    "            return 0\n",
    "        total_list = []\n",
    "        temp_list = []\n",
    "        temp_list.append(s[0])\n",
    "        for i in range(1, len(s)):\n",
    "            if s[i] in temp_list:\n",
    "                total_list.append(temp_list)\n",
    "                temp_list = temp_list[temp_list.index(s[i])+1:] # use a sliding window can jump a few steps, just O(n)\n",
    "                temp_list.append(s[i])\n",
    "            else:\n",
    "                temp_list.append(s[i])\n",
    "        total_list.append(temp_list)\n",
    "        return max([len(item) for item in total_list])"
   ]
  },
  {
   "cell_type": "code",
   "execution_count": 31,
   "id": "2c047390",
   "metadata": {},
   "outputs": [
    {
     "data": {
      "text/plain": [
       "3"
      ]
     },
     "execution_count": 31,
     "metadata": {},
     "output_type": "execute_result"
    }
   ],
   "source": [
    "s = Solution()\n",
    "s1 = \"abcabcbb\"\n",
    "s.lengthOfLongestSubstring(s1)"
   ]
  },
  {
   "cell_type": "markdown",
   "id": "57d9c07c",
   "metadata": {},
   "source": [
    "### Use a sliding window can jump a few steps, just O(n)"
   ]
  },
  {
   "cell_type": "code",
   "execution_count": 34,
   "id": "99fd69c5",
   "metadata": {},
   "outputs": [
    {
     "data": {
      "text/plain": [
       "5"
      ]
     },
     "execution_count": 34,
     "metadata": {},
     "output_type": "execute_result"
    }
   ],
   "source": [
    "class Solution:\n",
    "    def lengthOfLongestSubstring(self, s):\n",
    "        if s == '':\n",
    "            return 0\n",
    "        total_list = []\n",
    "        temp_list = []\n",
    "        temp_list.append(s[0])\n",
    "        for i in range(1, len(s)):\n",
    "            if s[i] in temp_list:\n",
    "                total_list.append(temp_list)\n",
    "                temp_list = temp_list[temp_list.index(s[i]) + 1:]\n",
    "                temp_list.append(s[i])\n",
    "            else:\n",
    "                temp_list.append(s[i])\n",
    "        total_list.append(temp_list)\n",
    "        return max([len(item) for item in total_list])\n",
    "s = Solution()\n",
    "s1 = \"abcdeabcbb\"\n",
    "s.lengthOfLongestSubstring(s1)"
   ]
  },
  {
   "cell_type": "code",
   "execution_count": 42,
   "id": "dc41bf28",
   "metadata": {},
   "outputs": [],
   "source": [
    "class Solution:\n",
    "    def lengthOfLongestSubstring(self, s):\n",
    "        if s == '':\n",
    "            return 0\n",
    "        res = []\n",
    "        for i in range(1, len(s)):\n",
    "            temp = []\n",
    "            temp.append(s[i])\n",
    "            for j in range(i + 1, len(s)):\n",
    "                if s[j] not in temp:\n",
    "                    temp.append(s[j])\n",
    "                else:\n",
    "                    break\n",
    "            res.append(temp)\n",
    "        return max([len(item) for item in res])"
   ]
  },
  {
   "cell_type": "code",
   "execution_count": 43,
   "id": "e65cec20",
   "metadata": {},
   "outputs": [
    {
     "data": {
      "text/plain": [
       "3"
      ]
     },
     "execution_count": 43,
     "metadata": {},
     "output_type": "execute_result"
    }
   ],
   "source": [
    "s = Solution()\n",
    "s1 = \"abcabcbb\"\n",
    "s.lengthOfLongestSubstring(s1)"
   ]
  },
  {
   "cell_type": "code",
   "execution_count": 68,
   "id": "8d2b112e",
   "metadata": {},
   "outputs": [],
   "source": [
    "class Solution: # 126s, 111s\n",
    "    def lengthOfLongestSubstring(self, s):\n",
    "        if s == '':\n",
    "            return 0\n",
    "        temp = []\n",
    "        res = []\n",
    "        for i in range(len(s)):\n",
    "            if s[i] not in temp:\n",
    "                temp.append(s[i])\n",
    "            else:\n",
    "                res.append(temp)\n",
    "                temp = temp[temp.index(s[i]) + 1:]\n",
    "                temp.append(s[i])\n",
    "        res.append(temp)\n",
    "        return max([len(i) for i in res])"
   ]
  },
  {
   "cell_type": "code",
   "execution_count": 69,
   "id": "a2857bfb",
   "metadata": {},
   "outputs": [
    {
     "data": {
      "text/plain": [
       "3"
      ]
     },
     "execution_count": 69,
     "metadata": {},
     "output_type": "execute_result"
    }
   ],
   "source": [
    "s = Solution()\n",
    "s1 = \"abcabcbb\"\n",
    "s.lengthOfLongestSubstring(s1)"
   ]
  },
  {
   "cell_type": "code",
   "execution_count": null,
   "id": "902f055d",
   "metadata": {},
   "outputs": [],
   "source": []
  }
 ],
 "metadata": {
  "kernelspec": {
   "display_name": "Python 3",
   "language": "python",
   "name": "python3"
  },
  "language_info": {
   "codemirror_mode": {
    "name": "ipython",
    "version": 3
   },
   "file_extension": ".py",
   "mimetype": "text/x-python",
   "name": "python",
   "nbconvert_exporter": "python",
   "pygments_lexer": "ipython3",
   "version": "3.9.1"
  }
 },
 "nbformat": 4,
 "nbformat_minor": 5
}
