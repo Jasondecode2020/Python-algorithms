{
 "cells": [
  {
   "cell_type": "markdown",
   "id": "d0b11ebf",
   "metadata": {},
   "source": [
    "## 168. Excel Sheet Column Title"
   ]
  },
  {
   "cell_type": "raw",
   "id": "29f24ae1",
   "metadata": {},
   "source": [
    "Easy\n",
    "\n",
    "Given an integer columnNumber, return its corresponding column title as it appears in an Excel sheet.\n",
    "\n",
    "For example:\n",
    "\n",
    "A -> 1\n",
    "B -> 2\n",
    "C -> 3\n",
    "...\n",
    "Z -> 26\n",
    "AA -> 27\n",
    "AB -> 28 \n",
    "...\n",
    " \n",
    "Example 1:\n",
    "\n",
    "Input: columnNumber = 1\n",
    "Output: \"A\"\n",
    "Example 2:\n",
    "\n",
    "Input: columnNumber = 28\n",
    "Output: \"AB\"\n",
    "Example 3:\n",
    "\n",
    "Input: columnNumber = 701\n",
    "Output: \"ZY\"\n",
    "Example 4:\n",
    "\n",
    "Input: columnNumber = 2147483647\n",
    "Output: \"FXSHRXW\"\n",
    " \n",
    "\n",
    "Constraints:\n",
    "\n",
    "1 <= columnNumber <= 2^31 - 1"
   ]
  },
  {
   "cell_type": "markdown",
   "id": "1a10f50e",
   "metadata": {},
   "source": [
    "### 1.1 method 1"
   ]
  },
  {
   "cell_type": "code",
   "execution_count": 15,
   "id": "e51e3db2",
   "metadata": {},
   "outputs": [],
   "source": [
    "class Solution:\n",
    "    def convertToTitle(self, columnNumber):\n",
    "        # build a dict of letters\n",
    "        d = {}\n",
    "        num = 65 # chr(num) = 'A'\n",
    "        for i in range(0,26):\n",
    "            d[i] = chr(num)\n",
    "            num += 1\n",
    "        # s\n",
    "        s = ''\n",
    "        n = columnNumber\n",
    "        while n>0: # must use this n-= 1\n",
    "            n-=1\n",
    "            s = d[((n)%26)]+s\n",
    "            n//=26\n",
    "        return s"
   ]
  },
  {
   "cell_type": "code",
   "execution_count": 16,
   "id": "56e0e46d",
   "metadata": {},
   "outputs": [
    {
     "data": {
      "text/plain": [
       "'ZY'"
      ]
     },
     "execution_count": 16,
     "metadata": {},
     "output_type": "execute_result"
    }
   ],
   "source": [
    "s = Solution()\n",
    "columnNumber = 701\n",
    "s.convertToTitle(columnNumber)"
   ]
  }
 ],
 "metadata": {
  "kernelspec": {
   "display_name": "Python 3",
   "language": "python",
   "name": "python3"
  },
  "language_info": {
   "codemirror_mode": {
    "name": "ipython",
    "version": 3
   },
   "file_extension": ".py",
   "mimetype": "text/x-python",
   "name": "python",
   "nbconvert_exporter": "python",
   "pygments_lexer": "ipython3",
   "version": "3.9.1"
  }
 },
 "nbformat": 4,
 "nbformat_minor": 5
}
