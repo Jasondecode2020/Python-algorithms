{
 "cells": [
  {
   "cell_type": "markdown",
   "id": "d0b11ebf",
   "metadata": {},
   "source": [
    "## 1880. Check if Word Equals Summation of Two Words"
   ]
  },
  {
   "cell_type": "raw",
   "id": "29f24ae1",
   "metadata": {},
   "source": [
    "Easy\n",
    "\n",
    "The letter value of a letter is its position in the alphabet starting from 0 (i.e. 'a' -> 0, 'b' -> 1, 'c' -> 2, etc.).\n",
    "\n",
    "The numerical value of some string of lowercase English letters s is the concatenation of the letter values of each letter in s, which is then converted into an integer.\n",
    "\n",
    "For example, if s = \"acb\", we concatenate each letter's letter value, resulting in \"021\". After converting it, we get 21.\n",
    "You are given three strings firstWord, secondWord, and targetWord, each consisting of lowercase English letters 'a' through 'j' inclusive.\n",
    "\n",
    "Return true if the summation of the numerical values of firstWord and secondWord equals the numerical value of targetWord, or false otherwise.\n",
    " \n",
    "Example 1:\n",
    "\n",
    "Input: firstWord = \"acb\", secondWord = \"cba\", targetWord = \"cdb\"\n",
    "Output: true\n",
    "Explanation:\n",
    "The numerical value of firstWord is \"acb\" -> \"021\" -> 21.\n",
    "The numerical value of secondWord is \"cba\" -> \"210\" -> 210.\n",
    "The numerical value of targetWord is \"cdb\" -> \"231\" -> 231.\n",
    "We return true because 21 + 210 == 231.\n",
    "Example 2:\n",
    "\n",
    "Input: firstWord = \"aaa\", secondWord = \"a\", targetWord = \"aab\"\n",
    "Output: false\n",
    "Explanation: \n",
    "The numerical value of firstWord is \"aaa\" -> \"000\" -> 0.\n",
    "The numerical value of secondWord is \"a\" -> \"0\" -> 0.\n",
    "The numerical value of targetWord is \"aab\" -> \"001\" -> 1.\n",
    "We return false because 0 + 0 != 1.\n",
    "Example 3:\n",
    "\n",
    "Input: firstWord = \"aaa\", secondWord = \"a\", targetWord = \"aaaa\"\n",
    "Output: true\n",
    "Explanation: \n",
    "The numerical value of firstWord is \"aaa\" -> \"000\" -> 0.\n",
    "The numerical value of secondWord is \"a\" -> \"0\" -> 0.\n",
    "The numerical value of targetWord is \"aaaa\" -> \"0000\" -> 0.\n",
    "We return true because 0 + 0 == 0.\n",
    " \n",
    "Constraints:\n",
    "\n",
    "1 <= firstWord.length, secondWord.length, targetWord.length <= 8\n",
    "firstWord, secondWord, and targetWord consist of lowercase English letters from 'a' to 'j' inclusive."
   ]
  },
  {
   "cell_type": "markdown",
   "id": "1a10f50e",
   "metadata": {},
   "source": [
    "### method 1"
   ]
  },
  {
   "cell_type": "code",
   "execution_count": 7,
   "id": "45e5ffca",
   "metadata": {},
   "outputs": [],
   "source": [
    "class Solution:\n",
    "    def isSumEqual(self, firstWord, secondWord, targetWord):\n",
    "        # a dict\n",
    "        lst = [chr(i) for i in range(97, 107)]\n",
    "        d = {}\n",
    "        for idx, val in enumerate(lst):\n",
    "            d[val] = str(idx)\n",
    "        # get int\n",
    "        def calulate(letters):\n",
    "            s = ''\n",
    "            for letter in letters:\n",
    "                s += d[letter]\n",
    "            return int(s)\n",
    "        return calulate(firstWord) + calulate(secondWord) == calulate(targetWord)"
   ]
  },
  {
   "cell_type": "code",
   "execution_count": 11,
   "id": "8e1b163d",
   "metadata": {},
   "outputs": [
    {
     "data": {
      "text/plain": [
       "True"
      ]
     },
     "execution_count": 11,
     "metadata": {},
     "output_type": "execute_result"
    }
   ],
   "source": [
    "s = Solution()\n",
    "firstWord = \"acb\"\n",
    "secondWord = \"cba\"\n",
    "targetWord = \"cdb\"\n",
    "s.isSumEqual(firstWord, secondWord, targetWord)"
   ]
  },
  {
   "cell_type": "code",
   "execution_count": null,
   "id": "20147966",
   "metadata": {},
   "outputs": [],
   "source": []
  }
 ],
 "metadata": {
  "kernelspec": {
   "display_name": "Python 3",
   "language": "python",
   "name": "python3"
  },
  "language_info": {
   "codemirror_mode": {
    "name": "ipython",
    "version": 3
   },
   "file_extension": ".py",
   "mimetype": "text/x-python",
   "name": "python",
   "nbconvert_exporter": "python",
   "pygments_lexer": "ipython3",
   "version": "3.9.1"
  }
 },
 "nbformat": 4,
 "nbformat_minor": 5
}
