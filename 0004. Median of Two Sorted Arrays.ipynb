{
 "cells": [
  {
   "cell_type": "markdown",
   "id": "d0b11ebf",
   "metadata": {},
   "source": [
    "## 4. Median of Two Sorted Arrays"
   ]
  },
  {
   "cell_type": "raw",
   "id": "29f24ae1",
   "metadata": {},
   "source": [
    "Hard\n",
    "\n",
    "Given two sorted arrays nums1 and nums2 of size m and n respectively, return the median of the two sorted arrays.\n",
    "\n",
    "The overall run time complexity should be O(log (m+n)).\n",
    "\n",
    " \n",
    "\n",
    "Example 1:\n",
    "\n",
    "Input: nums1 = [1,3], nums2 = [2]\n",
    "Output: 2.00000\n",
    "Explanation: merged array = [1,2,3] and median is 2.\n",
    "Example 2:\n",
    "\n",
    "Input: nums1 = [1,2], nums2 = [3,4]\n",
    "Output: 2.50000\n",
    "Explanation: merged array = [1,2,3,4] and median is (2 + 3) / 2 = 2.5.\n",
    "Example 3:\n",
    "\n",
    "Input: nums1 = [0,0], nums2 = [0,0]\n",
    "Output: 0.00000\n",
    "Example 4:\n",
    "\n",
    "Input: nums1 = [], nums2 = [1]\n",
    "Output: 1.00000\n",
    "Example 5:\n",
    "\n",
    "Input: nums1 = [2], nums2 = []\n",
    "Output: 2.00000\n",
    " \n",
    "\n",
    "Constraints:\n",
    "\n",
    "nums1.length == m\n",
    "nums2.length == n\n",
    "0 <= m <= 1000\n",
    "0 <= n <= 1000\n",
    "1 <= m + n <= 2000\n",
    "-10^6 <= nums1[i], nums2[i] <= 10^6"
   ]
  },
  {
   "cell_type": "markdown",
   "id": "1a10f50e",
   "metadata": {},
   "source": [
    "### method 1"
   ]
  },
  {
   "cell_type": "code",
   "execution_count": 22,
   "id": "dc6466c5",
   "metadata": {},
   "outputs": [],
   "source": [
    "class Solution:\n",
    "    def findMedianSortedArrays(self, nums1, nums2):\n",
    "        nums1.extend(nums2)\n",
    "        nums1.sort()\n",
    "        if len(nums1) % 2 == 1:\n",
    "            return nums1[len(nums1) // 2]\n",
    "        return (nums1[len(nums1) // 2 - 1] + nums1[len(nums1) // 2]) / 2"
   ]
  },
  {
   "cell_type": "code",
   "execution_count": 23,
   "id": "41de3861",
   "metadata": {
    "scrolled": true
   },
   "outputs": [
    {
     "data": {
      "text/plain": [
       "2"
      ]
     },
     "execution_count": 23,
     "metadata": {},
     "output_type": "execute_result"
    }
   ],
   "source": [
    "s = Solution()\n",
    "nums1 = [1,3]\n",
    "nums2 = [2]\n",
    "s.findMedianSortedArrays(nums1, nums2)"
   ]
  },
  {
   "cell_type": "code",
   "execution_count": 27,
   "id": "9b7498a2",
   "metadata": {},
   "outputs": [],
   "source": [
    "class Solution:\n",
    "    def findMedianSortedArrays(self, nums1, nums2):\n",
    "        nums1.extend(nums2)\n",
    "        nums1.sort()\n",
    "        if len(nums1) % 2 == 1:\n",
    "            return nums1[len(nums1) // 2]\n",
    "        else:\n",
    "            return (nums1[len(nums1) // 2 - 1] + nums1[len(nums1) // 2]) / 2"
   ]
  },
  {
   "cell_type": "code",
   "execution_count": 28,
   "id": "088afb08",
   "metadata": {},
   "outputs": [
    {
     "data": {
      "text/plain": [
       "2.5"
      ]
     },
     "execution_count": 28,
     "metadata": {},
     "output_type": "execute_result"
    }
   ],
   "source": [
    "s = Solution()\n",
    "nums1 = [1,2]\n",
    "nums2 = [3,4]\n",
    "s.findMedianSortedArrays(nums1, nums2)"
   ]
  },
  {
   "cell_type": "markdown",
   "id": "23fc13ee",
   "metadata": {},
   "source": [
    "#### 2 loops\n",
    "- 1 Prepare an array\n",
    "- 2 if the length is odd, in the middle\n",
    "- 3 else: sum / 2"
   ]
  },
  {
   "cell_type": "markdown",
   "id": "3dd28aa2",
   "metadata": {},
   "source": [
    "### method 2: The overall run time complexity should be O(log (m+n))."
   ]
  },
  {
   "cell_type": "code",
   "execution_count": 49,
   "id": "f3ba9f16",
   "metadata": {},
   "outputs": [],
   "source": [
    "class Solution:\n",
    "    def findMedianSortedArrays(self, nums1, nums2):\n",
    "        '''O(n) even worse\n",
    "        brute force: O(m + n)'''\n",
    "        res = []\n",
    "        pointer1, pointer2 = 0, 0\n",
    "        while pointer1 < len(nums1) and pointer2 < len(nums2):\n",
    "            if nums1[pointer1] > nums2[pointer2]:\n",
    "                res.append(nums2[pointer2])\n",
    "                pointer2 += 1\n",
    "            elif nums1[pointer1] < nums2[pointer2]:\n",
    "                res.append(nums1[pointer1])\n",
    "                pointer1 += 1\n",
    "            else:\n",
    "                res.extend([nums1[pointer1], nums2[pointer2]])\n",
    "                pointer1 += 1\n",
    "                pointer2 += 1\n",
    "        while pointer1 < len(nums1):\n",
    "            res.append(nums1[pointer1])\n",
    "            pointer1 += 1\n",
    "        while pointer2 < len(nums2):\n",
    "            res.append(nums2[pointer2])\n",
    "            pointer2 += 1\n",
    "        # return the result\n",
    "        if len(res) % 2 == 1:\n",
    "            return res[len(res) // 2]\n",
    "        else:\n",
    "            return (res[len(res) // 2 - 1] + res[len(res) // 2]) / 2"
   ]
  },
  {
   "cell_type": "code",
   "execution_count": 50,
   "id": "f0ffa5d4",
   "metadata": {},
   "outputs": [
    {
     "data": {
      "text/plain": [
       "2.5"
      ]
     },
     "execution_count": 50,
     "metadata": {},
     "output_type": "execute_result"
    }
   ],
   "source": [
    "s = Solution()\n",
    "nums1 = [1,2]\n",
    "nums2 = [3,4]\n",
    "s.findMedianSortedArrays(nums1, nums2)"
   ]
  },
  {
   "cell_type": "code",
   "execution_count": null,
   "id": "ac179beb",
   "metadata": {},
   "outputs": [],
   "source": []
  }
 ],
 "metadata": {
  "kernelspec": {
   "display_name": "Python 3",
   "language": "python",
   "name": "python3"
  },
  "language_info": {
   "codemirror_mode": {
    "name": "ipython",
    "version": 3
   },
   "file_extension": ".py",
   "mimetype": "text/x-python",
   "name": "python",
   "nbconvert_exporter": "python",
   "pygments_lexer": "ipython3",
   "version": "3.9.1"
  }
 },
 "nbformat": 4,
 "nbformat_minor": 5
}
