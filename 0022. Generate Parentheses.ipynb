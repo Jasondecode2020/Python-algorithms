{
 "cells": [
  {
   "cell_type": "markdown",
   "id": "d0b11ebf",
   "metadata": {},
   "source": [
    "## 22. Generate Parentheses"
   ]
  },
  {
   "cell_type": "raw",
   "id": "29f24ae1",
   "metadata": {},
   "source": [
    "Medium\n",
    "\n",
    "Given n pairs of parentheses, write a function to generate all combinations of well-formed parentheses.\n",
    "\n",
    "Example 1:\n",
    "\n",
    "Input: n = 3\n",
    "Output: [\"((()))\",\"(()())\",\"(())()\",\"()(())\",\"()()()\"]\n",
    "\n",
    "Example 2:\n",
    "\n",
    "Input: n = 1\n",
    "Output: [\"()\"]\n",
    " \n",
    "Constraints:\n",
    "\n",
    "1 <= n <= 8"
   ]
  },
  {
   "cell_type": "markdown",
   "id": "1a10f50e",
   "metadata": {},
   "source": [
    "### method 1"
   ]
  },
  {
   "cell_type": "code",
   "execution_count": 9,
   "id": "dc6466c5",
   "metadata": {},
   "outputs": [],
   "source": [
    "class Solution:\n",
    "    def generateParenthesis(self, n):\n",
    "        '''\n",
    "        stack: store each result\n",
    "        res: return answer\n",
    "        1. only add '(' if open < n\n",
    "        2. only add ')' if closedN < openN\n",
    "        3. vaild iff openN == closedN == n\n",
    "        '''\n",
    "        stack = []\n",
    "        res = []\n",
    "        def backTrack(openN, closedN):\n",
    "            if openN == closedN == n:\n",
    "                res.append(''.join(stack))\n",
    "            if openN < n:\n",
    "                stack.append('(')\n",
    "                backTrack(openN + 1, closedN)\n",
    "                stack.pop() # keep stack empty for next string to res\n",
    "            if closedN < openN:\n",
    "                stack.append(')')\n",
    "                backTrack(openN, closedN + 1)\n",
    "                stack.pop() # keep stack empty for next string to res\n",
    "        backTrack(0, 0)\n",
    "        return res"
   ]
  },
  {
   "cell_type": "code",
   "execution_count": 10,
   "id": "41de3861",
   "metadata": {},
   "outputs": [
    {
     "data": {
      "text/plain": [
       "['((()))', '(()())', '(())()', '()(())', '()()()']"
      ]
     },
     "execution_count": 10,
     "metadata": {},
     "output_type": "execute_result"
    }
   ],
   "source": [
    "s = Solution()\n",
    "n = 3\n",
    "s.generateParenthesis(n)"
   ]
  },
  {
   "attachments": {
    "image.png": {
     "image/png": "[encoded data removed]"
    }
   },
   "cell_type": "markdown",
   "id": "4dd643ea",
   "metadata": {},
   "source": [
    "![image.png](attachment:image.png)"
   ]
  },
  {
   "cell_type": "code",
   "execution_count": 21,
   "id": "17a1526d",
   "metadata": {},
   "outputs": [],
   "source": [
    "class Solution:\n",
    "    def generateParenthesis(self, n):\n",
    "        stack = []\n",
    "        res = []\n",
    "        def backtrack(openN, closedN):\n",
    "            if openN == closedN == n:\n",
    "                res.append(''.join(stack))\n",
    "                return\n",
    "            if openN < n:\n",
    "                stack.append('(')\n",
    "                backtrack(openN + 1, closedN)\n",
    "                stack.pop()\n",
    "            if closedN < openN:\n",
    "                stack.append(')')\n",
    "                backtrack(openN, closedN + 1)\n",
    "                stack.pop()\n",
    "        backtrack(0, 0)\n",
    "        return res"
   ]
  },
  {
   "cell_type": "code",
   "execution_count": 23,
   "id": "4fdb8589",
   "metadata": {},
   "outputs": [
    {
     "data": {
      "text/plain": [
       "['((()))', '(()())', '(())()', '()(())', '()()()']"
      ]
     },
     "execution_count": 23,
     "metadata": {},
     "output_type": "execute_result"
    }
   ],
   "source": [
    "s = Solution()\n",
    "n = 3\n",
    "s.generateParenthesis(n)"
   ]
  }
 ],
 "metadata": {
  "kernelspec": {
   "display_name": "Python 3",
   "language": "python",
   "name": "python3"
  },
  "language_info": {
   "codemirror_mode": {
    "name": "ipython",
    "version": 3
   },
   "file_extension": ".py",
   "mimetype": "text/x-python",
   "name": "python",
   "nbconvert_exporter": "python",
   "pygments_lexer": "ipython3",
   "version": "3.9.1"
  }
 },
 "nbformat": 4,
 "nbformat_minor": 5
}
