{
 "cells": [
  {
   "cell_type": "markdown",
   "id": "d0b11ebf",
   "metadata": {},
   "source": [
    "## 347. Top K Frequent Elements"
   ]
  },
  {
   "cell_type": "raw",
   "id": "29f24ae1",
   "metadata": {},
   "source": [
    "Medium\n",
    "\n",
    "Given an integer array nums and an integer k, return the k most frequent elements. You may return the answer in any order.\n",
    "\n",
    "Example 1:\n",
    "\n",
    "Input: nums = [1,1,1,2,2,3], k = 2\n",
    "Output: [1,2]\n",
    "Example 2:\n",
    "\n",
    "Input: nums = [1], k = 1\n",
    "Output: [1]\n",
    " \n",
    "Constraints:\n",
    "\n",
    "1 <= nums.length <= 105\n",
    "k is in the range [1, the number of unique elements in the array].\n",
    "It is guaranteed that the answer is unique.\n",
    " \n",
    "\n",
    "Follow up: Your algorithm's time complexity must be better than O(n log n), where n is the array's size."
   ]
  },
  {
   "cell_type": "markdown",
   "id": "1a10f50e",
   "metadata": {},
   "source": [
    "### 5.1 method 1: n^3"
   ]
  },
  {
   "cell_type": "code",
   "execution_count": 4,
   "id": "dc6466c5",
   "metadata": {},
   "outputs": [],
   "source": [
    "from collections import Counter\n",
    "class Solution:\n",
    "    def topKFrequent(self, nums, k):\n",
    "        c = Counter(nums)\n",
    "        res = sorted(c.keys(), key = lambda x: c[x], reverse = True)\n",
    "        return res[:k]"
   ]
  },
  {
   "cell_type": "code",
   "execution_count": 5,
   "id": "41de3861",
   "metadata": {},
   "outputs": [
    {
     "data": {
      "text/plain": [
       "[1, 2]"
      ]
     },
     "execution_count": 5,
     "metadata": {},
     "output_type": "execute_result"
    }
   ],
   "source": [
    "s = Solution()\n",
    "nums = [1,1,1,2,2,3]\n",
    "k = 2\n",
    "s.topKFrequent(nums, k)"
   ]
  },
  {
   "cell_type": "markdown",
   "id": "23fc13ee",
   "metadata": {},
   "source": [
    "#### 3 loops make the computation really slow\n",
    "- 1 Prepare an function check if palindrome"
   ]
  },
  {
   "cell_type": "markdown",
   "id": "beefdf7b",
   "metadata": {},
   "source": [
    "### 5.2 method 1: n^2"
   ]
  },
  {
   "cell_type": "code",
   "execution_count": 19,
   "id": "10fe503f",
   "metadata": {},
   "outputs": [],
   "source": [
    "class Solution:\n",
    "    \"\"\"\n",
    "    T = O(n^2) is better, but there is nlog(n) method\n",
    "    two case: odd and even of res\n",
    "    from center to edge\n",
    "    \"\"\"\n",
    "    def longestPalindrome(self, s):\n",
    "        res = ''\n",
    "        length = 0\n",
    "        for i in range(len(s)):\n",
    "            # odd case\n",
    "            l, r = i, i\n",
    "            while l >= 0 and r < len(s) and s[l] == s[r]:\n",
    "                if (r - l + 1) > length:\n",
    "                    res = s[l: r + 1]\n",
    "                    length = r - l + 1\n",
    "                l -= 1\n",
    "                r += 1\n",
    "            # even case\n",
    "            l, r = i, i + 1\n",
    "            while l >= 0 and r < len(s) and s[l] == s[r]:\n",
    "                if (r - l + 1) > length:\n",
    "                    res = s[l: r + 1]\n",
    "                    length = r - l + 1\n",
    "                l -= 1\n",
    "                r += 1\n",
    "        return res"
   ]
  },
  {
   "cell_type": "code",
   "execution_count": 20,
   "id": "645d710b",
   "metadata": {},
   "outputs": [
    {
     "data": {
      "text/plain": [
       "'bab'"
      ]
     },
     "execution_count": 20,
     "metadata": {},
     "output_type": "execute_result"
    }
   ],
   "source": [
    "s = Solution()\n",
    "s1 = \"babad\"\n",
    "s.longestPalindrome(s1)"
   ]
  },
  {
   "cell_type": "code",
   "execution_count": 24,
   "id": "c9c6b7b9",
   "metadata": {},
   "outputs": [],
   "source": [
    "class Solution1:\n",
    "    \"\"\"\n",
    "    T = O(n^2) is better, but there is nlog(n) method\n",
    "    two case: odd and even of res\n",
    "    from center to edge\n",
    "    \"\"\"\n",
    "    def longestPalindrome(self, s):\n",
    "        res = ''\n",
    "        length = 0\n",
    "        for i in range(len(s)):\n",
    "            # odd case, # even case\n",
    "            for l, r in [(i, i), (i, i + 1)]:\n",
    "                while l >= 0 and r < len(s) and s[l] == s[r]:\n",
    "                    if (r - l + 1) > length:\n",
    "                        res = s[l: r + 1]\n",
    "                        length = r - l + 1\n",
    "                    l -= 1\n",
    "                    r += 1\n",
    "        return res"
   ]
  },
  {
   "cell_type": "code",
   "execution_count": 25,
   "id": "9b7a208b",
   "metadata": {},
   "outputs": [
    {
     "data": {
      "text/plain": [
       "'bab'"
      ]
     },
     "execution_count": 25,
     "metadata": {},
     "output_type": "execute_result"
    }
   ],
   "source": [
    "s = Solution1()\n",
    "s1 = \"babad\"\n",
    "s.longestPalindrome(s1)"
   ]
  },
  {
   "cell_type": "code",
   "execution_count": 27,
   "id": "3d1a92dd",
   "metadata": {},
   "outputs": [
    {
     "name": "stdout",
     "output_type": "stream",
     "text": [
      "1 2\n",
      "3 4\n",
      "5 6\n"
     ]
    }
   ],
   "source": [
    "for i, j in [(1, 2), (3, 4), (5, 6)]:\n",
    "    print(i, j)"
   ]
  },
  {
   "cell_type": "code",
   "execution_count": null,
   "id": "4201151a",
   "metadata": {},
   "outputs": [],
   "source": []
  }
 ],
 "metadata": {
  "kernelspec": {
   "display_name": "Python 3",
   "language": "python",
   "name": "python3"
  },
  "language_info": {
   "codemirror_mode": {
    "name": "ipython",
    "version": 3
   },
   "file_extension": ".py",
   "mimetype": "text/x-python",
   "name": "python",
   "nbconvert_exporter": "python",
   "pygments_lexer": "ipython3",
   "version": "3.9.1"
  }
 },
 "nbformat": 4,
 "nbformat_minor": 5
}
