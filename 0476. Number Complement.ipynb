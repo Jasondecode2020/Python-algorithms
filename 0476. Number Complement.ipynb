{
 "cells": [
  {
   "cell_type": "markdown",
   "id": "d0b11ebf",
   "metadata": {},
   "source": [
    "## 476. Number Complement"
   ]
  },
  {
   "cell_type": "raw",
   "id": "29f24ae1",
   "metadata": {},
   "source": [
    "Easy\n",
    "\n",
    "Given a positive integer num, output its complement number. The complement strategy is to flip the bits of its binary representation.\n",
    "\n",
    "Example 1:\n",
    "\n",
    "Input: num = 5\n",
    "Output: 2\n",
    "Explanation: The binary representation of 5 is 101 (no leading zero bits), and its complement is 010. So you need to output 2.\n",
    "Example 2:\n",
    "\n",
    "Input: num = 1\n",
    "Output: 0\n",
    "Explanation: The binary representation of 1 is 1 (no leading zero bits), and its complement is 0. So you need to output 0.\n",
    " \n",
    "\n",
    "Constraints:\n",
    "\n",
    "The given integer num is guaranteed to fit within the range of a 32-bit signed integer.\n",
    "num >= 1\n",
    "You could assume no leading zero bit in the integer’s binary representation.\n",
    "This question is the same as 1009: https://leetcode.com/problems/complement-of-base-10-integer/"
   ]
  },
  {
   "cell_type": "markdown",
   "id": "1a10f50e",
   "metadata": {},
   "source": [
    "### method 1"
   ]
  },
  {
   "cell_type": "code",
   "execution_count": 1,
   "id": "45e5ffca",
   "metadata": {},
   "outputs": [],
   "source": [
    "class Solution:\n",
    "    def findComplement(self, num: int) -> int:\n",
    "        res = str(bin(num))[2:]\n",
    "        ans = []\n",
    "        for i in res:\n",
    "            ans.append(str(1-int(i)))\n",
    "        return int(''.join(ans), 2) # binary int('11', 2)"
   ]
  },
  {
   "cell_type": "code",
   "execution_count": 2,
   "id": "8e1b163d",
   "metadata": {
    "scrolled": true
   },
   "outputs": [
    {
     "data": {
      "text/plain": [
       "2"
      ]
     },
     "execution_count": 2,
     "metadata": {},
     "output_type": "execute_result"
    }
   ],
   "source": [
    "s = Solution()\n",
    "num = 5\n",
    "s.findComplement(num)"
   ]
  },
  {
   "cell_type": "code",
   "execution_count": 3,
   "id": "f0771193",
   "metadata": {},
   "outputs": [
    {
     "data": {
      "text/plain": [
       "3"
      ]
     },
     "execution_count": 3,
     "metadata": {},
     "output_type": "execute_result"
    }
   ],
   "source": [
    "int('11', 2) # binary int('11', 2)"
   ]
  },
  {
   "cell_type": "code",
   "execution_count": 4,
   "id": "ae2d6851",
   "metadata": {},
   "outputs": [
    {
     "data": {
      "text/plain": [
       "11"
      ]
     },
     "execution_count": 4,
     "metadata": {},
     "output_type": "execute_result"
    }
   ],
   "source": [
    "int('11') # binary int('11', 2)"
   ]
  },
  {
   "cell_type": "code",
   "execution_count": null,
   "id": "998fb4dd",
   "metadata": {},
   "outputs": [],
   "source": []
  }
 ],
 "metadata": {
  "kernelspec": {
   "display_name": "Python 3",
   "language": "python",
   "name": "python3"
  },
  "language_info": {
   "codemirror_mode": {
    "name": "ipython",
    "version": 3
   },
   "file_extension": ".py",
   "mimetype": "text/x-python",
   "name": "python",
   "nbconvert_exporter": "python",
   "pygments_lexer": "ipython3",
   "version": "3.9.1"
  }
 },
 "nbformat": 4,
 "nbformat_minor": 5
}
