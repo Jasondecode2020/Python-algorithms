{
 "cells": [
  {
   "cell_type": "markdown",
   "metadata": {},
   "source": [
    "## 1827. Minimum Operations to Make the Array Increasing"
   ]
  },
  {
   "cell_type": "raw",
   "metadata": {},
   "source": [
    "Easy\n",
    "\n",
    "You are given an integer array nums (0-indexed). In one operation, you can choose an element of the array and increment it by 1.\n",
    "\n",
    "For example, if nums = [1,2,3], you can choose to increment nums[1] to make nums = [1,3,3].\n",
    "Return the minimum number of operations needed to make nums strictly increasing.\n",
    "\n",
    "An array nums is strictly increasing if nums[i] < nums[i+1] for all 0 <= i < nums.length - 1. An array of length 1 is trivially strictly increasing.\n",
    "\n",
    " \n",
    "\n",
    "Example 1:\n",
    "\n",
    "Input: nums = [1,1,1]\n",
    "Output: 3\n",
    "Explanation: You can do the following operations:\n",
    "1) Increment nums[2], so nums becomes [1,1,2].\n",
    "2) Increment nums[1], so nums becomes [1,2,2].\n",
    "3) Increment nums[2], so nums becomes [1,2,3].\n",
    "Example 2:\n",
    "\n",
    "Input: nums = [1,5,2,4,1]\n",
    "Output: 14\n",
    "Example 3:\n",
    "\n",
    "Input: nums = [8]\n",
    "Output: 0\n",
    " \n",
    "\n",
    "Constraints:\n",
    "\n",
    "1 <= nums.length <= 5000\n",
    "1 <= nums[i] <= 10^4"
   ]
  },
  {
   "cell_type": "markdown",
   "metadata": {},
   "source": [
    "### method 1"
   ]
  },
  {
   "cell_type": "code",
   "execution_count": 1,
   "metadata": {},
   "outputs": [],
   "source": [
    "class Solution:\n",
    "    def minOperations(self, nums):\n",
    "        '''\n",
    "        The second number is always larger than first,\n",
    "        if not, the first number plus one is the second,\n",
    "        at the same time record the count\n",
    "        '''\n",
    "        if len(nums) <= 1:\n",
    "            return 0\n",
    "        count = 0\n",
    "        for i in range(1, len(nums)):\n",
    "            if nums[i] <= nums[i - 1]:\n",
    "                res = nums[i - 1] + 1\n",
    "                count += res - nums[i]\n",
    "                nums[i] = res\n",
    "        return count"
   ]
  },
  {
   "cell_type": "code",
   "execution_count": 2,
   "metadata": {},
   "outputs": [
    {
     "data": {
      "text/plain": [
       "3"
      ]
     },
     "execution_count": 2,
     "metadata": {},
     "output_type": "execute_result"
    }
   ],
   "source": [
    "s = Solution()\n",
    "nums = [1,1,1]\n",
    "s.minOperations(nums)"
   ]
  },
  {
   "cell_type": "code",
   "execution_count": null,
   "metadata": {},
   "outputs": [],
   "source": []
  }
 ],
 "metadata": {
  "kernelspec": {
   "display_name": "Python 3",
   "language": "python",
   "name": "python3"
  },
  "language_info": {
   "codemirror_mode": {
    "name": "ipython",
    "version": 3
   },
   "file_extension": ".py",
   "mimetype": "text/x-python",
   "name": "python",
   "nbconvert_exporter": "python",
   "pygments_lexer": "ipython3",
   "version": "3.8.3"
  }
 },
 "nbformat": 4,
 "nbformat_minor": 5
}
