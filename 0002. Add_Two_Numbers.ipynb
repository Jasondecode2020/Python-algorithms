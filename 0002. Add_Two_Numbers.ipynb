{
 "cells": [
  {
   "cell_type": "markdown",
   "id": "d0b11ebf",
   "metadata": {},
   "source": [
    "## 2. Add Two Numbers"
   ]
  },
  {
   "cell_type": "raw",
   "id": "29f24ae1",
   "metadata": {},
   "source": [
    "Medium\n",
    "\n",
    "You are given two non-empty linked lists representing two non-negative integers. The digits are stored in reverse order, and each of their nodes contains a single digit. Add the two numbers and return the sum as a linked list.\n",
    "\n",
    "You may assume the two numbers do not contain any leading zero, except the number 0 itself.\n",
    "\n",
    "Example 1:\n",
    "\n",
    "Input: l1 = [2,4,3], l2 = [5,6,4]\n",
    "Output: [7,0,8]\n",
    "Explanation: 342 + 465 = 807."
   ]
  },
  {
   "cell_type": "markdown",
   "id": "892f5549",
   "metadata": {},
   "source": [
    "<img src='addtwonumber.jpg' width=\"500\" height=\"600\" />"
   ]
  },
  {
   "cell_type": "raw",
   "id": "1882b6f7",
   "metadata": {},
   "source": [
    "Example 2:\n",
    "\n",
    "Input: l1 = [0], l2 = [0]\n",
    "Output: [0]\n",
    "    \n",
    "Example 3:\n",
    "\n",
    "Input: l1 = [9,9,9,9,9,9,9], l2 = [9,9,9,9]\n",
    "Output: [8,9,9,9,0,0,0,1]\n",
    " \n",
    "\n",
    "Constraints:\n",
    "\n",
    "The number of nodes in each linked list is in the range [1, 100].\n",
    "0 <= Node.val <= 9\n",
    "It is guaranteed that the list represents a number that does not have leading zeros."
   ]
  },
  {
   "cell_type": "markdown",
   "id": "1a10f50e",
   "metadata": {},
   "source": [
    "### 1.1 method 1"
   ]
  },
  {
   "cell_type": "code",
   "execution_count": 8,
   "id": "dc6466c5",
   "metadata": {},
   "outputs": [],
   "source": [
    "# Definition for singly-linked list.\n",
    "class ListNode:\n",
    "    def __init__(self, val=0, next=None):\n",
    "        self.val = val\n",
    "        self.next = next\n",
    "class Solution:\n",
    "    def addTwoNumbers(self, l1, l2):\n",
    "        \"\"\"\n",
    "        :type l1: ListNode\n",
    "        :type l2: ListNode\n",
    "        :rtype: ListNode\n",
    "        \"\"\"\n",
    "        # prepare a dummy node, can be any value\n",
    "        dummy = ListNode(0)\n",
    "        # temp pointed to ListNode(0)\n",
    "        temp = dummy\n",
    "        # carry is defined 0\n",
    "        carry = 0\n",
    "        # if there is value in l1 and l2\n",
    "        while l1 and l2:\n",
    "            val1 = l1.val\n",
    "            val2 = l2.val\n",
    "            if (val1 + val2 + carry >= 10):\n",
    "                dummy.next = ListNode((val1 + val2 + carry) % 10)\n",
    "                dummy = dummy.next\n",
    "                carry  = 1\n",
    "            else:\n",
    "                dummy.next = ListNode(val1 + val2 + carry)\n",
    "                dummy = dummy.next\n",
    "                carry  = 0\n",
    "            l1 = l1.next\n",
    "            l2 = l2.next\n",
    "        \n",
    "        # if l1 is empty first\n",
    "        if not l1:\n",
    "            while l2:\n",
    "                val2 = l2.val\n",
    "                if (val2 + carry >= 10):\n",
    "                    dummy.next = ListNode((val2 + carry) % 10)\n",
    "                    dummy = dummy.next\n",
    "                    carry  = 1\n",
    "                else:\n",
    "                    dummy.next = ListNode(val2 + carry)\n",
    "                    dummy = dummy.next\n",
    "                    carry  = 0\n",
    "                l2 = l2.next\n",
    "        \n",
    "        # if l2 is empty first\n",
    "        if not l2:\n",
    "            while l1:\n",
    "                val1 = l1.val\n",
    "                if (val1 + carry >= 10):\n",
    "                    dummy.next = ListNode((val1 + carry) % 10)\n",
    "                    dummy = dummy.next\n",
    "                    carry  = 1\n",
    "                else:\n",
    "                    dummy.next = ListNode(val1 + carry)\n",
    "                    dummy = dummy.next\n",
    "                    carry  = 0\n",
    "                l1 = l1.next\n",
    "                    \n",
    "        if carry == 1:\n",
    "            dummy.next = ListNode(1)\n",
    "        return temp.next"
   ]
  },
  {
   "cell_type": "code",
   "execution_count": 15,
   "id": "41de3861",
   "metadata": {},
   "outputs": [
    {
     "name": "stdout",
     "output_type": "stream",
     "text": [
      "7\n",
      "0\n",
      "8\n"
     ]
    }
   ],
   "source": [
    "s = Solution()\n",
    "l1 = ListNode(2)\n",
    "temp1 = l1\n",
    "l1.next = ListNode(4)\n",
    "l1.next.next = ListNode(3)\n",
    "l1 = temp1\n",
    "l2 = ListNode(5)\n",
    "temp2 = l2\n",
    "l2.next = ListNode(6)\n",
    "l2.next.next = ListNode(4)\n",
    "l2 = temp2\n",
    "res = s.addTwoNumbers(l1, l2)\n",
    "print(res.val)\n",
    "print(res.next.val)\n",
    "print(res.next.next.val)"
   ]
  },
  {
   "cell_type": "markdown",
   "id": "23fc13ee",
   "metadata": {},
   "source": [
    "#### Single Linked List plus\n",
    "- 1 Prepare a dummy\n",
    "- 2 Use a carry\n",
    "- 3 the result is a new linked list"
   ]
  },
  {
   "cell_type": "code",
   "execution_count": 28,
   "id": "d3deaa0d",
   "metadata": {},
   "outputs": [],
   "source": [
    "# Definition for singly-linked list.\n",
    "class ListNode:\n",
    "    def __init__(self, val=0, next=None):\n",
    "        self.val = val\n",
    "        self.next = next\n",
    "class Solution:\n",
    "    def addTwoNumbers(self, l1, l2):\n",
    "        dummy = ListNode(1)\n",
    "        temp = dummy\n",
    "        carry = 0\n",
    "        while l1 and l2:\n",
    "            val1 = l1.val\n",
    "            val2 = l2.val\n",
    "            num = val1 + val2 + carry\n",
    "            if num >= 10:\n",
    "                dummy.next = ListNode(num % 10)\n",
    "                dummy = dummy.next\n",
    "                carry = 1\n",
    "            else:\n",
    "                dummy.next = ListNode(num)\n",
    "                dummy = dummy.next\n",
    "                carry = 0\n",
    "            l1 = l1.next\n",
    "            l2 = l2.next\n",
    "        if not l1:\n",
    "            while l2:\n",
    "                val2 = l2.val\n",
    "                num = val2 + carry\n",
    "                if num >= 10:\n",
    "                    dummy.next = ListNode(num % 10)\n",
    "                    dummy = dummy.next\n",
    "                    carry = 1\n",
    "                else:\n",
    "                    dummy.next = ListNode(num)\n",
    "                    dummy = dummy.next\n",
    "                    carry = 0\n",
    "                l2 = l2.next\n",
    "        if not l2:\n",
    "            while l1:\n",
    "                val1 = l1.val\n",
    "                num = val1 + carry\n",
    "                if num >= 10:\n",
    "                    dummy.next = ListNode(num % 10)\n",
    "                    dummy = dummy.next\n",
    "                    carry = 1\n",
    "                else:\n",
    "                    dummy.next = ListNode(num)\n",
    "                    dummy = dummy.next\n",
    "                    carry = 0\n",
    "                l1 = l1.next\n",
    "        if carry == 1:\n",
    "            dummy.next = ListNode(1)\n",
    "        return temp.next"
   ]
  },
  {
   "cell_type": "code",
   "execution_count": 29,
   "id": "caa80a44",
   "metadata": {},
   "outputs": [
    {
     "name": "stdout",
     "output_type": "stream",
     "text": [
      "7\n",
      "0\n",
      "8\n"
     ]
    }
   ],
   "source": [
    "s = Solution()\n",
    "l1 = ListNode(2)\n",
    "temp1 = l1\n",
    "l1.next = ListNode(4)\n",
    "l1.next.next = ListNode(3)\n",
    "l1 = temp1\n",
    "l2 = ListNode(5)\n",
    "temp2 = l2\n",
    "l2.next = ListNode(6)\n",
    "l2.next.next = ListNode(4)\n",
    "l2 = temp2\n",
    "res = s.addTwoNumbers(l1, l2)\n",
    "print(res.val)\n",
    "print(res.next.val)\n",
    "print(res.next.next.val)"
   ]
  },
  {
   "cell_type": "code",
   "execution_count": null,
   "id": "e82634c6",
   "metadata": {},
   "outputs": [],
   "source": []
  }
 ],
 "metadata": {
  "kernelspec": {
   "display_name": "Python 3",
   "language": "python",
   "name": "python3"
  },
  "language_info": {
   "codemirror_mode": {
    "name": "ipython",
    "version": 3
   },
   "file_extension": ".py",
   "mimetype": "text/x-python",
   "name": "python",
   "nbconvert_exporter": "python",
   "pygments_lexer": "ipython3",
   "version": "3.9.1"
  }
 },
 "nbformat": 4,
 "nbformat_minor": 5
}
