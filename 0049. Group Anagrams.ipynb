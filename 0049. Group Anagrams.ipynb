{
 "cells": [
  {
   "cell_type": "markdown",
   "id": "d0b11ebf",
   "metadata": {},
   "source": [
    "## 49. Group Anagrams"
   ]
  },
  {
   "cell_type": "raw",
   "id": "29f24ae1",
   "metadata": {},
   "source": [
    "Medium\n",
    "\n",
    "Given an array of strings strs, group the anagrams together. You can return the answer in any order.\n",
    "\n",
    "An Anagram is a word or phrase formed by rearranging the letters of a different word or phrase, typically using all the original letters exactly once.\n",
    "\n",
    "Example 1:\n",
    "\n",
    "Input: strs = [\"eat\",\"tea\",\"tan\",\"ate\",\"nat\",\"bat\"]\n",
    "Output: [[\"bat\"],[\"nat\",\"tan\"],[\"ate\",\"eat\",\"tea\"]]\n",
    "\n",
    "Example 2:\n",
    "\n",
    "Input: strs = [\"\"]\n",
    "Output: [[\"\"]]\n",
    "\n",
    "Example 3:\n",
    "\n",
    "Input: strs = [\"a\"]\n",
    "Output: [[\"a\"]]\n",
    " \n",
    "Constraints:\n",
    "\n",
    "1 <= strs.length <= 10^4\n",
    "0 <= strs[i].length <= 100\n",
    "strs[i] consists of lower-case English letters."
   ]
  },
  {
   "cell_type": "markdown",
   "id": "1a10f50e",
   "metadata": {},
   "source": [
    "### 49.1 method 1: change structure"
   ]
  },
  {
   "cell_type": "code",
   "execution_count": 10,
   "id": "dc6466c5",
   "metadata": {},
   "outputs": [],
   "source": [
    "from collections import Counter\n",
    "class Solution:\n",
    "    final = []\n",
    "    def groupAnagrams(self, strs, final):\n",
    "        '''\n",
    "        add final: changed structure\n",
    "        '''\n",
    "        if strs == [\"\"]:\n",
    "            return [[\"\"]]\n",
    "        if strs == []:\n",
    "            return final\n",
    "        first = strs[0]\n",
    "        temp = []\n",
    "        temp.append(first)\n",
    "        for i in range(1, len(strs)):\n",
    "            if Counter(strs[i]) == Counter(first):\n",
    "                temp.append(strs[i])\n",
    "        final.append(temp)\n",
    "        for item in temp:\n",
    "            if item in strs:\n",
    "                strs.remove(item)\n",
    "        return self.groupAnagrams(strs, final)"
   ]
  },
  {
   "cell_type": "code",
   "execution_count": 12,
   "id": "41de3861",
   "metadata": {},
   "outputs": [
    {
     "data": {
      "text/plain": [
       "[['eat', 'tea', 'ate'], ['tan', 'nat'], ['bat']]"
      ]
     },
     "execution_count": 12,
     "metadata": {},
     "output_type": "execute_result"
    }
   ],
   "source": [
    "s = Solution()\n",
    "strs = [\"eat\",\"tea\",\"tan\",\"ate\",\"nat\",\"bat\"]\n",
    "s.groupAnagrams(strs, [])"
   ]
  },
  {
   "cell_type": "code",
   "execution_count": 13,
   "id": "270bcc1a",
   "metadata": {},
   "outputs": [
    {
     "data": {
      "text/plain": [
       "[['a']]"
      ]
     },
     "execution_count": 13,
     "metadata": {},
     "output_type": "execute_result"
    }
   ],
   "source": [
    "s = Solution()\n",
    "strs = [\"a\"]\n",
    "s.groupAnagrams(strs, [])"
   ]
  },
  {
   "cell_type": "code",
   "execution_count": 14,
   "id": "cab4dc34",
   "metadata": {},
   "outputs": [
    {
     "data": {
      "text/plain": [
       "[['']]"
      ]
     },
     "execution_count": 14,
     "metadata": {},
     "output_type": "execute_result"
    }
   ],
   "source": [
    "s = Solution()\n",
    "strs = [\"\"]\n",
    "s.groupAnagrams(strs, [])"
   ]
  },
  {
   "cell_type": "markdown",
   "id": "f682105e",
   "metadata": {},
   "source": [
    "### 49.1 method 2"
   ]
  },
  {
   "cell_type": "code",
   "execution_count": 20,
   "id": "fc38350f",
   "metadata": {},
   "outputs": [],
   "source": [
    "from collections import Counter\n",
    "class Solution:\n",
    "    def groupAnagrams(self, strs):\n",
    "        '''\n",
    "        T = n^3: time-consuming\n",
    "        '''\n",
    "        if strs == [\"\"]:\n",
    "            return [[\"\"]]\n",
    "        final = []\n",
    "        while strs:\n",
    "            first = strs[0]\n",
    "            temp = []\n",
    "            temp.append(first)\n",
    "            for i in range(1, len(strs)):\n",
    "                if Counter(strs[i]) == Counter(first):\n",
    "                    temp.append(strs[i])\n",
    "            final.append(temp)\n",
    "            for item in temp:\n",
    "                if item in strs:\n",
    "                    strs.remove(item)\n",
    "        return final"
   ]
  },
  {
   "cell_type": "code",
   "execution_count": 21,
   "id": "68327a83",
   "metadata": {},
   "outputs": [
    {
     "data": {
      "text/plain": [
       "[['eat', 'tea', 'ate'], ['tan', 'nat'], ['bat']]"
      ]
     },
     "execution_count": 21,
     "metadata": {},
     "output_type": "execute_result"
    }
   ],
   "source": [
    "s = Solution()\n",
    "strs = [\"eat\",\"tea\",\"tan\",\"ate\",\"nat\",\"bat\"]\n",
    "s.groupAnagrams(strs)"
   ]
  },
  {
   "cell_type": "code",
   "execution_count": 22,
   "id": "523463e9",
   "metadata": {},
   "outputs": [
    {
     "data": {
      "text/plain": [
       "['a', 'e', 't']"
      ]
     },
     "execution_count": 22,
     "metadata": {},
     "output_type": "execute_result"
    }
   ],
   "source": [
    "sorted('eat')"
   ]
  },
  {
   "cell_type": "code",
   "execution_count": 25,
   "id": "6243f947",
   "metadata": {},
   "outputs": [
    {
     "data": {
      "text/plain": [
       "['a', 'e', 't']"
      ]
     },
     "execution_count": 25,
     "metadata": {},
     "output_type": "execute_result"
    }
   ],
   "source": [
    "sorted(['e', 'a', 't'])"
   ]
  },
  {
   "cell_type": "code",
   "execution_count": 34,
   "id": "e2797752",
   "metadata": {},
   "outputs": [],
   "source": [
    "class Solution:\n",
    "    def groupAnagrams(self, strs):\n",
    "        '''\n",
    "        T = O(n)\n",
    "        '''\n",
    "        temp = {}\n",
    "        for i in strs:\n",
    "            sort_word = ''.join(sorted(i))\n",
    "            if sort_word in temp:\n",
    "                temp[sort_word] += [i]\n",
    "            else:\n",
    "                temp[sort_word] = [i]\n",
    "        return list(temp.values())"
   ]
  },
  {
   "cell_type": "code",
   "execution_count": 35,
   "id": "6d10f942",
   "metadata": {},
   "outputs": [
    {
     "data": {
      "text/plain": [
       "[['eat', 'tea', 'ate'], ['tan', 'nat'], ['bat']]"
      ]
     },
     "execution_count": 35,
     "metadata": {},
     "output_type": "execute_result"
    }
   ],
   "source": [
    "s = Solution()\n",
    "strs = [\"eat\",\"tea\",\"tan\",\"ate\",\"nat\",\"bat\"]\n",
    "s.groupAnagrams(strs)"
   ]
  },
  {
   "cell_type": "markdown",
   "id": "ac285c5e",
   "metadata": {},
   "source": [
    "Use key and values, sort_word is the key, and result is N^2"
   ]
  }
 ],
 "metadata": {
  "kernelspec": {
   "display_name": "Python 3",
   "language": "python",
   "name": "python3"
  },
  "language_info": {
   "codemirror_mode": {
    "name": "ipython",
    "version": 3
   },
   "file_extension": ".py",
   "mimetype": "text/x-python",
   "name": "python",
   "nbconvert_exporter": "python",
   "pygments_lexer": "ipython3",
   "version": "3.9.1"
  }
 },
 "nbformat": 4,
 "nbformat_minor": 5
}
