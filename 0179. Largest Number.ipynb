{
 "cells": [
  {
   "cell_type": "markdown",
   "id": "d0b11ebf",
   "metadata": {},
   "source": [
    "## 179. Largest Number"
   ]
  },
  {
   "cell_type": "raw",
   "id": "29f24ae1",
   "metadata": {},
   "source": [
    "Medium\n",
    "\n",
    "Given a list of non-negative integers nums, arrange them such that they form the largest number.\n",
    "\n",
    "Note: The result may be very large, so you need to return a string instead of an integer.\n",
    "\n",
    " \n",
    "\n",
    "Example 1:\n",
    "\n",
    "Input: nums = [10,2]\n",
    "Output: \"210\"\n",
    "\n",
    "Example 2:\n",
    "\n",
    "Input: nums = [3,30,34,5,9]\n",
    "Output: \"9534330\"\n",
    "\n",
    "Example 3:\n",
    "\n",
    "Input: nums = [1]\n",
    "Output: \"1\"\n",
    "\n",
    "Example 4:\n",
    "\n",
    "Input: nums = [10]\n",
    "Output: \"10\"\n",
    " \n",
    "\n",
    "Constraints:\n",
    "\n",
    "1 <= nums.length <= 100\n",
    "0 <= nums[i] <= 109"
   ]
  },
  {
   "cell_type": "markdown",
   "id": "1a10f50e",
   "metadata": {},
   "source": [
    "### method 1: n!"
   ]
  },
  {
   "cell_type": "code",
   "execution_count": 51,
   "id": "dc6466c5",
   "metadata": {},
   "outputs": [],
   "source": [
    "from itertools import permutations # time-consuming n!, 42 / 229 test cases passed.\n",
    "class Solution:\n",
    "    def largestNumber(self, nums):\n",
    "        nums = permutations(nums)\n",
    "        nums = list(nums)\n",
    "        res = []\n",
    "        for item in nums:\n",
    "            temp = []\n",
    "            for num in item:\n",
    "                temp.append(str(num))\n",
    "            res.append(temp)\n",
    "        res = [''.join(item) for item in res]\n",
    "        def max_num(l): # l is a list of string, like ['102', '210']\n",
    "            curr = int(l[0])\n",
    "            for item in l:\n",
    "                if int(item) > curr:\n",
    "                    curr = int(item)\n",
    "            return curr\n",
    "        res = str(max_num(res))\n",
    "        return res"
   ]
  },
  {
   "cell_type": "code",
   "execution_count": 52,
   "id": "41de3861",
   "metadata": {
    "scrolled": true
   },
   "outputs": [
    {
     "data": {
      "text/plain": [
       "210"
      ]
     },
     "execution_count": 52,
     "metadata": {},
     "output_type": "execute_result"
    }
   ],
   "source": [
    "s1 = Solution()\n",
    "nums = [10,2]\n",
    "s1.largestNumber(nums)"
   ]
  },
  {
   "cell_type": "code",
   "execution_count": 53,
   "id": "2b6f484a",
   "metadata": {},
   "outputs": [
    {
     "data": {
      "text/plain": [
       "9534330"
      ]
     },
     "execution_count": 53,
     "metadata": {},
     "output_type": "execute_result"
    }
   ],
   "source": [
    "s1 = Solution()\n",
    "nums = [3,30,34,5,9]\n",
    "s1.largestNumber(nums)"
   ]
  },
  {
   "cell_type": "markdown",
   "id": "a1e139b5",
   "metadata": {},
   "source": [
    "### method 2: n^2, divide and conquer, first solve 2, then 3, 4, ..."
   ]
  },
  {
   "cell_type": "code",
   "execution_count": 72,
   "id": "176aea0e",
   "metadata": {},
   "outputs": [],
   "source": [
    "class Solution:\n",
    "    def largestNumber(self, nums):\n",
    "        new = [str(num) for num in nums] # convert to str\n",
    "        for i in range(1, len(new)): # finished position\n",
    "            for j in range(i):\n",
    "                if int(new[i] + new[j]) > int(new[j] + new[i]):\n",
    "                    new[i], new[j] = new[j], new[i]\n",
    "        res = ''.join(new)  \n",
    "        if int(res) == 0: # [0, 0] condition\n",
    "            return '0'\n",
    "        return res"
   ]
  },
  {
   "cell_type": "code",
   "execution_count": 73,
   "id": "7be2300b",
   "metadata": {},
   "outputs": [
    {
     "data": {
      "text/plain": [
       "'9534330'"
      ]
     },
     "execution_count": 73,
     "metadata": {},
     "output_type": "execute_result"
    }
   ],
   "source": [
    "s1 = Solution()\n",
    "nums = [3,30,34,5,9]\n",
    "s1.largestNumber(nums)"
   ]
  }
 ],
 "metadata": {
  "kernelspec": {
   "display_name": "Python 3",
   "language": "python",
   "name": "python3"
  },
  "language_info": {
   "codemirror_mode": {
    "name": "ipython",
    "version": 3
   },
   "file_extension": ".py",
   "mimetype": "text/x-python",
   "name": "python",
   "nbconvert_exporter": "python",
   "pygments_lexer": "ipython3",
   "version": "3.9.1"
  }
 },
 "nbformat": 4,
 "nbformat_minor": 5
}
