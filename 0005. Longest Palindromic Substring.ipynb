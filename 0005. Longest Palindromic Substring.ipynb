{
 "cells": [
  {
   "cell_type": "markdown",
   "id": "d0b11ebf",
   "metadata": {},
   "source": [
    "## 5. Longest Palindromic Substring"
   ]
  },
  {
   "cell_type": "raw",
   "id": "29f24ae1",
   "metadata": {},
   "source": [
    "Medium\n",
    "\n",
    "Given a string s, return the longest palindromic substring in s.\n",
    "\n",
    "Example 1:\n",
    "\n",
    "Input: s = \"babad\"\n",
    "Output: \"bab\"\n",
    "Note: \"aba\" is also a valid answer.\n",
    "\n",
    "Example 2:\n",
    "\n",
    "Input: s = \"cbbd\"\n",
    "Output: \"bb\"\n",
    "\n",
    "Example 3:\n",
    "\n",
    "Input: s = \"a\"\n",
    "Output: \"a\"\n",
    "\n",
    "Example 4:\n",
    "\n",
    "Input: s = \"ac\"\n",
    "Output: \"a\"\n",
    " \n",
    "Constraints:\n",
    "\n",
    "1 <= s.length <= 1000\n",
    "s consist of only digits and English letters (lower-case and/or upper-case),"
   ]
  },
  {
   "cell_type": "markdown",
   "id": "1a10f50e",
   "metadata": {},
   "source": [
    "### 5.1 method 1: n^3"
   ]
  },
  {
   "cell_type": "code",
   "execution_count": 17,
   "id": "dc6466c5",
   "metadata": {},
   "outputs": [],
   "source": [
    "class Solution:\n",
    "    \"\"\"\n",
    "    T = O(n^3)\n",
    "    \"\"\"\n",
    "    def Palindrome(self, List): # check from outside to middle\n",
    "        for i in range(len(List)):\n",
    "            if List[i] != List[len(List) - i - 1]:\n",
    "                return False\n",
    "        return True\n",
    "    def longestPalindrome(self, s):\n",
    "        # 1 put all the palindromic substrings in a container list\n",
    "        # 2 choose the longest\n",
    "        L_str = list(s)\n",
    "        if len(L_str) == \"\":\n",
    "            return \"\"\n",
    "        L_new = [] # for all the palindromic substrings\n",
    "        for i in range(len(L_str)):\n",
    "            for j in range(i, len(L_str)):\n",
    "                if Solution.Palindrome(self, L_str[i:j + 1]) == True:\n",
    "                    L_new.append(L_str[i:j + 1])\n",
    "        l = max([len(item) for item in L_new]) # need only one max\n",
    "        for item in L_new:\n",
    "            if len(item) == l:\n",
    "                return \"\".join(item)"
   ]
  },
  {
   "cell_type": "code",
   "execution_count": 18,
   "id": "41de3861",
   "metadata": {},
   "outputs": [
    {
     "data": {
      "text/plain": [
       "'bab'"
      ]
     },
     "execution_count": 18,
     "metadata": {},
     "output_type": "execute_result"
    }
   ],
   "source": [
    "s = Solution()\n",
    "s1 = \"babad\"\n",
    "s.longestPalindrome(s1)"
   ]
  },
  {
   "cell_type": "markdown",
   "id": "23fc13ee",
   "metadata": {},
   "source": [
    "#### 3 loops make the computation really slow\n",
    "- 1 Prepare an function check if palindrome"
   ]
  },
  {
   "cell_type": "markdown",
   "id": "beefdf7b",
   "metadata": {},
   "source": [
    "### 5.2 method 1: n^2"
   ]
  },
  {
   "cell_type": "code",
   "execution_count": 19,
   "id": "10fe503f",
   "metadata": {},
   "outputs": [],
   "source": [
    "class Solution:\n",
    "    \"\"\"\n",
    "    T = O(n^2) is better, but there is nlog(n) method\n",
    "    two case: odd and even of res\n",
    "    from center to edge\n",
    "    \"\"\"\n",
    "    def longestPalindrome(self, s):\n",
    "        res = ''\n",
    "        length = 0\n",
    "        for i in range(len(s)):\n",
    "            # odd case\n",
    "            l, r = i, i\n",
    "            while l >= 0 and r < len(s) and s[l] == s[r]:\n",
    "                if (r - l + 1) > length:\n",
    "                    res = s[l: r + 1]\n",
    "                    length = r - l + 1\n",
    "                l -= 1\n",
    "                r += 1\n",
    "            # even case\n",
    "            l, r = i, i + 1\n",
    "            while l >= 0 and r < len(s) and s[l] == s[r]:\n",
    "                if (r - l + 1) > length:\n",
    "                    res = s[l: r + 1]\n",
    "                    length = r - l + 1\n",
    "                l -= 1\n",
    "                r += 1\n",
    "        return res"
   ]
  },
  {
   "cell_type": "code",
   "execution_count": 20,
   "id": "645d710b",
   "metadata": {},
   "outputs": [
    {
     "data": {
      "text/plain": [
       "'bab'"
      ]
     },
     "execution_count": 20,
     "metadata": {},
     "output_type": "execute_result"
    }
   ],
   "source": [
    "s = Solution()\n",
    "s1 = \"babad\"\n",
    "s.longestPalindrome(s1)"
   ]
  },
  {
   "cell_type": "code",
   "execution_count": 24,
   "id": "c9c6b7b9",
   "metadata": {},
   "outputs": [],
   "source": [
    "class Solution1:\n",
    "    \"\"\"\n",
    "    T = O(n^2) is better, but there is nlog(n) method\n",
    "    two case: odd and even of res\n",
    "    from center to edge\n",
    "    \"\"\"\n",
    "    def longestPalindrome(self, s):\n",
    "        res = ''\n",
    "        length = 0\n",
    "        for i in range(len(s)):\n",
    "            # odd case, # even case\n",
    "            for l, r in [(i, i), (i, i + 1)]:\n",
    "                while l >= 0 and r < len(s) and s[l] == s[r]:\n",
    "                    if (r - l + 1) > length:\n",
    "                        res = s[l: r + 1]\n",
    "                        length = r - l + 1\n",
    "                    l -= 1\n",
    "                    r += 1\n",
    "        return res"
   ]
  },
  {
   "cell_type": "code",
   "execution_count": 25,
   "id": "9b7a208b",
   "metadata": {},
   "outputs": [
    {
     "data": {
      "text/plain": [
       "'bab'"
      ]
     },
     "execution_count": 25,
     "metadata": {},
     "output_type": "execute_result"
    }
   ],
   "source": [
    "s = Solution1()\n",
    "s1 = \"babad\"\n",
    "s.longestPalindrome(s1)"
   ]
  },
  {
   "cell_type": "code",
   "execution_count": 27,
   "id": "3d1a92dd",
   "metadata": {},
   "outputs": [
    {
     "name": "stdout",
     "output_type": "stream",
     "text": [
      "1 2\n",
      "3 4\n",
      "5 6\n"
     ]
    }
   ],
   "source": [
    "for i, j in [(1, 2), (3, 4), (5, 6)]:\n",
    "    print(i, j)"
   ]
  },
  {
   "cell_type": "code",
   "execution_count": null,
   "id": "4201151a",
   "metadata": {},
   "outputs": [],
   "source": []
  }
 ],
 "metadata": {
  "kernelspec": {
   "display_name": "Python 3",
   "language": "python",
   "name": "python3"
  },
  "language_info": {
   "codemirror_mode": {
    "name": "ipython",
    "version": 3
   },
   "file_extension": ".py",
   "mimetype": "text/x-python",
   "name": "python",
   "nbconvert_exporter": "python",
   "pygments_lexer": "ipython3",
   "version": "3.9.1"
  }
 },
 "nbformat": 4,
 "nbformat_minor": 5
}
