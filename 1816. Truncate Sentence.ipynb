{
 "cells": [
  {
   "cell_type": "markdown",
   "id": "d0b11ebf",
   "metadata": {},
   "source": [
    "## 1816. Truncate Sentence"
   ]
  },
  {
   "cell_type": "raw",
   "id": "29f24ae1",
   "metadata": {},
   "source": [
    "Easy\n",
    "\n",
    "A sentence is a list of words that are separated by a single space with no leading or trailing spaces. Each of the words consists of only uppercase and lowercase English letters (no punctuation).\n",
    "\n",
    "For example, \"Hello World\", \"HELLO\", and \"hello world hello world\" are all sentences.\n",
    "You are given a sentence s​​​​​​ and an integer k​​​​​​. You want to truncate s​​​​​​ such that it contains only the first k​​​​​​ words. Return s​​​​​​ after truncating it.\n",
    "\n",
    " \n",
    "\n",
    "Example 1:\n",
    "\n",
    "Input: s = \"Hello how are you Contestant\", k = 4\n",
    "Output: \"Hello how are you\"\n",
    "Explanation:\n",
    "The words in s are [\"Hello\", \"how\" \"are\", \"you\", \"Contestant\"].\n",
    "The first 4 words are [\"Hello\", \"how\", \"are\", \"you\"].\n",
    "Hence, you should return \"Hello how are you\".\n",
    "Example 2:\n",
    "\n",
    "Input: s = \"What is the solution to this problem\", k = 4\n",
    "Output: \"What is the solution\"\n",
    "Explanation:\n",
    "The words in s are [\"What\", \"is\" \"the\", \"solution\", \"to\", \"this\", \"problem\"].\n",
    "The first 4 words are [\"What\", \"is\", \"the\", \"solution\"].\n",
    "Hence, you should return \"What is the solution\".\n",
    "Example 3:\n",
    "\n",
    "Input: s = \"chopper is not a tanuki\", k = 5\n",
    "Output: \"chopper is not a tanuki\"\n",
    " \n",
    "\n",
    "Constraints:\n",
    "\n",
    "1 <= s.length <= 500\n",
    "k is in the range [1, the number of words in s].\n",
    "s consist of only lowercase and uppercase English letters and spaces.\n",
    "The words in s are separated by a single space.\n",
    "There are no leading or trailing spaces."
   ]
  },
  {
   "cell_type": "markdown",
   "id": "1a10f50e",
   "metadata": {},
   "source": [
    "### method 1"
   ]
  },
  {
   "cell_type": "code",
   "execution_count": 8,
   "id": "45e5ffca",
   "metadata": {},
   "outputs": [],
   "source": [
    "class Solution:\n",
    "    def truncateSentence(self, s, k):\n",
    "        res = s.split()[:k]\n",
    "        return ' '.join(res)"
   ]
  },
  {
   "cell_type": "code",
   "execution_count": 9,
   "id": "8e1b163d",
   "metadata": {},
   "outputs": [
    {
     "data": {
      "text/plain": [
       "'Hello how are you'"
      ]
     },
     "execution_count": 9,
     "metadata": {},
     "output_type": "execute_result"
    }
   ],
   "source": [
    "s = Solution()\n",
    "s1 = \"Hello how are you Contestant\"\n",
    "k = 4\n",
    "s.truncateSentence(s1, k)"
   ]
  },
  {
   "cell_type": "code",
   "execution_count": null,
   "id": "44e91d35",
   "metadata": {},
   "outputs": [],
   "source": []
  }
 ],
 "metadata": {
  "kernelspec": {
   "display_name": "Python 3",
   "language": "python",
   "name": "python3"
  },
  "language_info": {
   "codemirror_mode": {
    "name": "ipython",
    "version": 3
   },
   "file_extension": ".py",
   "mimetype": "text/x-python",
   "name": "python",
   "nbconvert_exporter": "python",
   "pygments_lexer": "ipython3",
   "version": "3.9.1"
  }
 },
 "nbformat": 4,
 "nbformat_minor": 5
}
