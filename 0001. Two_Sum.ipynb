{
 "cells": [
  {
   "cell_type": "markdown",
   "metadata": {},
   "source": [
    "## 1. Two Sum"
   ]
  },
  {
   "cell_type": "raw",
   "metadata": {},
   "source": [
    "Easy\n",
    "\n",
    "Given an array of integers nums and an integer target, return indices of the two numbers such that they add up to target.\n",
    "\n",
    "You may assume that each input would have exactly one solution, and you may not use the same element twice.\n",
    "\n",
    "You can return the answer in any order.\n",
    "\n",
    " \n",
    "\n",
    "Example 1:\n",
    "\n",
    "Input: nums = [2,7,11,15], target = 9\n",
    "Output: [0,1]\n",
    "Output: Because nums[0] + nums[1] == 9, we return [0, 1].\n",
    "\n",
    "Example 2:\n",
    "\n",
    "Input: nums = [3,2,4], target = 6\n",
    "Output: [1,2]\n",
    "\n",
    "Example 3:\n",
    "\n",
    "Input: nums = [3,3], target = 6\n",
    "Output: [0,1]\n",
    " \n",
    "\n",
    "Constraints:\n",
    "\n",
    "2 <= nums.length <= 10**4\n",
    "-10**9 <= nums[i] <= 10**9\n",
    "-10**9 <= target <= 10**9\n",
    "Only one valid answer exists.\n",
    " \n",
    "\n",
    "Follow-up: Can you come up with an algorithm that is less than O(n2) time complexity?"
   ]
  },
  {
   "cell_type": "markdown",
   "metadata": {},
   "source": [
    "### 1.1 method 1: brute force n^2"
   ]
  },
  {
   "cell_type": "code",
   "execution_count": 8,
   "metadata": {},
   "outputs": [],
   "source": [
    "class Solution:\n",
    "    def twoSum(self, nums, target):\n",
    "        for i in range(len(nums) - 1):\n",
    "            for j in range(i + 1, len(nums)):\n",
    "                if nums[i] + nums[j] == target:\n",
    "                    return [i, j]"
   ]
  },
  {
   "cell_type": "code",
   "execution_count": 9,
   "metadata": {},
   "outputs": [
    {
     "data": {
      "text/plain": [
       "[0, 1]"
      ]
     },
     "execution_count": 9,
     "metadata": {},
     "output_type": "execute_result"
    }
   ],
   "source": [
    "s = Solution()\n",
    "nums = [2,7,11,15]\n",
    "target = 9\n",
    "s.twoSum(nums, target)"
   ]
  },
  {
   "cell_type": "code",
   "execution_count": 10,
   "metadata": {},
   "outputs": [
    {
     "data": {
      "text/plain": [
       "[1, 2]"
      ]
     },
     "execution_count": 10,
     "metadata": {},
     "output_type": "execute_result"
    }
   ],
   "source": [
    "s = Solution()\n",
    "nums = [3,2,4]\n",
    "target = 6\n",
    "s.twoSum(nums, target)"
   ]
  },
  {
   "cell_type": "code",
   "execution_count": 11,
   "metadata": {
    "scrolled": true
   },
   "outputs": [
    {
     "data": {
      "text/plain": [
       "[0, 1]"
      ]
     },
     "execution_count": 11,
     "metadata": {},
     "output_type": "execute_result"
    }
   ],
   "source": [
    "s = Solution()\n",
    "nums = [3,3]\n",
    "target = 6\n",
    "s.twoSum(nums, target)"
   ]
  },
  {
   "cell_type": "markdown",
   "metadata": {},
   "source": [
    "### 1.2 method 2: O(n) dict"
   ]
  },
  {
   "cell_type": "markdown",
   "metadata": {},
   "source": [
    "#### Follow-up: Can you come up with an algorithm that is less than O(n^2) time complexity?\n",
    "- 1 Prepare a dictionary, use only one loop\n",
    "- 2 Use enumerate of index and values of nums array\n",
    "- 3 Check is the numbers in the dict or not"
   ]
  },
  {
   "cell_type": "code",
   "execution_count": 51,
   "metadata": {},
   "outputs": [],
   "source": [
    "class Solution:\n",
    "    def twoSum(self, nums, target):\n",
    "        d = {}\n",
    "        for idx, val in enumerate(nums):\n",
    "            res = target - val\n",
    "            if res in d:\n",
    "                return [d[res],idx]\n",
    "            else:\n",
    "                d[val] = idx"
   ]
  },
  {
   "cell_type": "code",
   "execution_count": 52,
   "metadata": {},
   "outputs": [
    {
     "data": {
      "text/plain": [
       "[0, 1]"
      ]
     },
     "execution_count": 52,
     "metadata": {},
     "output_type": "execute_result"
    }
   ],
   "source": [
    "s = Solution()\n",
    "nums = [2,7,11,15]\n",
    "target = 9\n",
    "s.twoSum(nums, target)"
   ]
  },
  {
   "cell_type": "markdown",
   "metadata": {},
   "source": [
    "- nums = [2,7,11,15]\n",
    "- target = 9\n",
    "- 1st loop: d = {}, idx = 0, val = 2, res = 7, 7 is not in d = {}, d = {2: 0}\n",
    "- 2nd loop: d = {2: 0}, idx = 1, val = 7, res = 2, 2 is in d = {2: 0}, return [d[2], 1], d[2] = 0"
   ]
  },
  {
   "cell_type": "markdown",
   "metadata": {},
   "source": [
    "In order to get less than O(n^2) time complexity, we need to prepare a dict, increase a bit memory, but decreased time complexity"
   ]
  },
  {
   "cell_type": "code",
   "execution_count": 54,
   "metadata": {},
   "outputs": [],
   "source": [
    "class Solution:\n",
    "    def twoSum(self, nums, target):\n",
    "        for i in range(len(nums) - 1):\n",
    "            for j in range(1, len(nums)):\n",
    "                if nums[i] + nums[j] == target:\n",
    "                    return [i, j]"
   ]
  },
  {
   "cell_type": "code",
   "execution_count": 55,
   "metadata": {},
   "outputs": [
    {
     "data": {
      "text/plain": [
       "[0, 1]"
      ]
     },
     "execution_count": 55,
     "metadata": {},
     "output_type": "execute_result"
    }
   ],
   "source": [
    "s = Solution()\n",
    "nums = [2,7,11,15]\n",
    "target = 9\n",
    "s.twoSum(nums, target)"
   ]
  },
  {
   "cell_type": "code",
   "execution_count": 60,
   "metadata": {},
   "outputs": [],
   "source": [
    "class Solution:\n",
    "    def twoSum(self, nums, target):\n",
    "        d = {}\n",
    "        for idx, val in enumerate(nums):\n",
    "            res = target - val\n",
    "            if res in d:\n",
    "                return [d[res], idx]\n",
    "            else:\n",
    "                d[val] = idx"
   ]
  },
  {
   "cell_type": "code",
   "execution_count": 61,
   "metadata": {},
   "outputs": [
    {
     "data": {
      "text/plain": [
       "[0, 1]"
      ]
     },
     "execution_count": 61,
     "metadata": {},
     "output_type": "execute_result"
    }
   ],
   "source": [
    "s = Solution()\n",
    "nums = [2,7,11,15]\n",
    "target = 9\n",
    "s.twoSum(nums, target)"
   ]
  },
  {
   "cell_type": "markdown",
   "metadata": {},
   "source": [
    "#### Follow-up: Can you come up with an algorithm that is less than O(n^2) time complexity?"
   ]
  },
  {
   "cell_type": "markdown",
   "metadata": {},
   "source": [
    "### method 3: binary search O(nlogn)"
   ]
  },
  {
   "cell_type": "code",
   "execution_count": 107,
   "metadata": {},
   "outputs": [],
   "source": [
    "class Solution: # wrong in leetcode\n",
    "    def twoSum(self, nums, target):\n",
    "        def binary_search(arr1, num):\n",
    "            arr = arr1.copy()\n",
    "            # arr  changed arr1 not change, need to find the value of arr1 idx\n",
    "            arr.sort()\n",
    "            i, j = 0, len(arr) - 1\n",
    "            while i <= j:\n",
    "                mid = round((i + j) / 2)\n",
    "                if arr[mid] < num:\n",
    "                    i = mid + 1\n",
    "                elif arr[mid] > num:\n",
    "                    j = mid - 1\n",
    "                else:\n",
    "                    return arr1.index(arr[mid])\n",
    "            return -1\n",
    "        # binary search changed the idx\n",
    "        for i in range(len(nums)):\n",
    "            res = target - nums[i]\n",
    "            if res != nums[i]:\n",
    "                idx = binary_search(nums, res)\n",
    "                if idx != -1:\n",
    "                    return [i, idx]\n",
    "            else:\n",
    "                nums[i] = res -100000\n",
    "                idx = binary_search(nums, res)\n",
    "                if idx != -1:\n",
    "                    return [i, idx]"
   ]
  },
  {
   "cell_type": "code",
   "execution_count": 109,
   "metadata": {},
   "outputs": [
    {
     "data": {
      "text/plain": [
       "[0, 1]"
      ]
     },
     "execution_count": 109,
     "metadata": {},
     "output_type": "execute_result"
    }
   ],
   "source": [
    "s = Solution()\n",
    "nums = [3,3,3]\n",
    "target = 6\n",
    "s.twoSum(nums, target)"
   ]
  },
  {
   "cell_type": "code",
   "execution_count": 31,
   "metadata": {},
   "outputs": [
    {
     "data": {
      "text/plain": [
       "0"
      ]
     },
     "execution_count": 31,
     "metadata": {},
     "output_type": "execute_result"
    }
   ],
   "source": [
    "def binary_search(arr, num):\n",
    "    i, j = 0, len(arr) - 1\n",
    "    while i <= j:\n",
    "        mid = round((i + j) / 2)\n",
    "        if arr[mid] < num:\n",
    "            i = mid + 1\n",
    "        elif arr[mid] > num:\n",
    "            j = mid - 1\n",
    "        else:\n",
    "            return mid\n",
    "    return -1\n",
    "binary_search([2,7,11,15], 2)"
   ]
  },
  {
   "cell_type": "markdown",
   "metadata": {},
   "source": [
    "### method 4: just sort O(nlogn)"
   ]
  },
  {
   "cell_type": "code",
   "execution_count": 123,
   "metadata": {},
   "outputs": [],
   "source": [
    "class Solution: # need to think about the sort changed the idx\n",
    "    def twoSum(self, nums, target):\n",
    "        nums_final = nums.copy()\n",
    "        nums.sort() # nlog(n)\n",
    "        # binary search to find the idx from both side\n",
    "        # shift the right and left pointer, because, if nums[left] + nums[right] > target\n",
    "        # means nums[right] is too big, need to have a smaller, right -= 1\n",
    "        left, right = 0, len(nums) - 1\n",
    "        while right > left:\n",
    "            if nums[left] + nums[right] > target:\n",
    "                right -= 1\n",
    "            elif nums[left] + nums[right] < target:\n",
    "                left += 1\n",
    "            else:\n",
    "                if nums[left] != nums[right]:\n",
    "                    return [nums_final.index(nums[left]), nums_final.index(nums[right])]\n",
    "                else:\n",
    "                    x = nums_final.index(nums[left])\n",
    "                    nums_final[x] = -100000 # in case nums[left] = nums[right]\n",
    "                    return [x, nums_final.index(nums[right])]"
   ]
  },
  {
   "cell_type": "code",
   "execution_count": 125,
   "metadata": {},
   "outputs": [
    {
     "data": {
      "text/plain": [
       "[0, 2]"
      ]
     },
     "execution_count": 125,
     "metadata": {},
     "output_type": "execute_result"
    }
   ],
   "source": [
    "s = Solution()\n",
    "nums = [2,3,4]\n",
    "target = 6\n",
    "s.twoSum(nums, target)"
   ]
  },
  {
   "cell_type": "code",
   "execution_count": null,
   "metadata": {},
   "outputs": [],
   "source": []
  },
  {
   "cell_type": "code",
   "execution_count": null,
   "metadata": {},
   "outputs": [],
   "source": []
  }
 ],
 "metadata": {
  "kernelspec": {
   "display_name": "Python 3",
   "language": "python",
   "name": "python3"
  },
  "language_info": {
   "codemirror_mode": {
    "name": "ipython",
    "version": 3
   },
   "file_extension": ".py",
   "mimetype": "text/x-python",
   "name": "python",
   "nbconvert_exporter": "python",
   "pygments_lexer": "ipython3",
   "version": "3.7.4"
  }
 },
 "nbformat": 4,
 "nbformat_minor": 5
}
