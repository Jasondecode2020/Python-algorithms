{
 "cells": [
  {
   "cell_type": "markdown",
   "metadata": {},
   "source": [
    "## 860. Lemonade Change"
   ]
  },
  {
   "cell_type": "raw",
   "metadata": {},
   "source": [
    "Easy\n",
    "\n",
    "At a lemonade stand, each lemonade costs $5. \n",
    "\n",
    "Customers are standing in a queue to buy from you, and order one at a time (in the order specified by bills).\n",
    "\n",
    "Each customer will only buy one lemonade and pay with either a $5, $10, or $20 bill.  You must provide the correct change to each customer, so that the net transaction is that the customer pays $5.\n",
    "\n",
    "Note that you don't have any change in hand at first.\n",
    "\n",
    "Return true if and only if you can provide every customer with correct change.\n",
    "\n",
    " \n",
    "\n",
    "Example 1:\n",
    "\n",
    "Input: [5,5,5,10,20]\n",
    "Output: true\n",
    "Explanation: \n",
    "From the first 3 customers, we collect three $5 bills in order.\n",
    "From the fourth customer, we collect a $10 bill and give back a $5.\n",
    "From the fifth customer, we give a $10 bill and a $5 bill.\n",
    "Since all customers got correct change, we output true.\n",
    "Example 2:\n",
    "\n",
    "Input: [5,5,10]\n",
    "Output: true\n",
    "Example 3:\n",
    "\n",
    "Input: [10,10]\n",
    "Output: false\n",
    "Example 4:\n",
    "\n",
    "Input: [5,5,10,10,20]\n",
    "Output: false\n",
    "Explanation: \n",
    "From the first two customers in order, we collect two $5 bills.\n",
    "For the next two customers in order, we collect a $10 bill and give back a $5 bill.\n",
    "For the last customer, we can't give change of $15 back because we only have two $10 bills.\n",
    "Since not every customer received correct change, the answer is false.\n",
    " \n",
    "\n",
    "Note:\n",
    "\n",
    "0 <= bills.length <= 10000\n",
    "bills[i] will be either 5, 10, or 20."
   ]
  },
  {
   "cell_type": "markdown",
   "metadata": {},
   "source": [
    "### method 1 greedy"
   ]
  },
  {
   "cell_type": "code",
   "execution_count": 3,
   "metadata": {},
   "outputs": [],
   "source": [
    "class Solution:\n",
    "    def lemonadeChange(self, bills):\n",
    "        d = {5: 0, 10: 0} # need for change\n",
    "        for item in bills:\n",
    "            if item == 5:\n",
    "                d[item] += 1\n",
    "            elif item == 10:\n",
    "                d[item] += 1\n",
    "                d[5] -= 1\n",
    "                if d[5] < 0:\n",
    "                    return False\n",
    "            else:# item = 20\n",
    "                if d[10] > 0:\n",
    "                    d[10] -= 1\n",
    "                    d[5] -= 1\n",
    "                else:\n",
    "                    d[5] -= 3\n",
    "                if d[5] < 0:\n",
    "                    return False\n",
    "        return True\n",
    "                "
   ]
  },
  {
   "cell_type": "code",
   "execution_count": 4,
   "metadata": {},
   "outputs": [
    {
     "data": {
      "text/plain": [
       "True"
      ]
     },
     "execution_count": 4,
     "metadata": {},
     "output_type": "execute_result"
    }
   ],
   "source": [
    "s = Solution()\n",
    "s.lemonadeChange([5,5,10])"
   ]
  }
 ],
 "metadata": {
  "kernelspec": {
   "display_name": "Python 3",
   "language": "python",
   "name": "python3"
  },
  "language_info": {
   "codemirror_mode": {
    "name": "ipython",
    "version": 3
   },
   "file_extension": ".py",
   "mimetype": "text/x-python",
   "name": "python",
   "nbconvert_exporter": "python",
   "pygments_lexer": "ipython3",
   "version": "3.8.3"
  }
 },
 "nbformat": 4,
 "nbformat_minor": 5
}
