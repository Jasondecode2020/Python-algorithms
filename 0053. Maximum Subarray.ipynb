{
 "cells": [
  {
   "cell_type": "markdown",
   "id": "d0b11ebf",
   "metadata": {},
   "source": [
    "## 53. Maximum Subarray"
   ]
  },
  {
   "cell_type": "raw",
   "id": "29f24ae1",
   "metadata": {},
   "source": [
    "Easy\n",
    "\n",
    "Given an integer array nums, find the contiguous subarray (containing at least one number) which has the largest sum and return its sum.\n",
    "\n",
    "Example 1:\n",
    "\n",
    "Input: nums = [-2,1,-3,4,-1,2,1,-5,4]\n",
    "Output: 6\n",
    "Explanation: [4,-1,2,1] has the largest sum = 6.\n",
    "Example 2:\n",
    "\n",
    "Input: nums = [1]\n",
    "Output: 1\n",
    "Example 3:\n",
    "\n",
    "Input: nums = [5,4,-1,7,8]\n",
    "Output: 23\n",
    " \n",
    "\n",
    "Constraints:\n",
    "\n",
    "1 <= nums.length <= 3 * 104\n",
    "-105 <= nums[i] <= 105\n",
    " \n",
    "\n",
    "Follow up: If you have figured out the O(n) solution, try coding another solution using the divide and conquer approach, which is more subtle."
   ]
  },
  {
   "cell_type": "markdown",
   "id": "1a10f50e",
   "metadata": {},
   "source": [
    "### 1.1 method 1"
   ]
  },
  {
   "cell_type": "code",
   "execution_count": 9,
   "id": "dc6466c5",
   "metadata": {},
   "outputs": [],
   "source": [
    "class Solution:\n",
    "    def maxSubArray(self, nums):\n",
    "        dp = [None] * len(nums) # dp \n",
    "        print(dp)\n",
    "        dp[0] = nums[0]\n",
    "        print(dp)\n",
    "        for i, num in enumerate(nums):\n",
    "            if i > 0:\n",
    "                dp[i] = max(dp[i - 1] + num, num)\n",
    "                print(i, dp)\n",
    "        return max(dp)"
   ]
  },
  {
   "cell_type": "code",
   "execution_count": 10,
   "id": "41de3861",
   "metadata": {},
   "outputs": [
    {
     "name": "stdout",
     "output_type": "stream",
     "text": [
      "[None, None, None, None, None, None, None, None, None]\n",
      "[-2, None, None, None, None, None, None, None, None]\n",
      "1 [-2, 1, None, None, None, None, None, None, None]\n",
      "2 [-2, 1, -2, None, None, None, None, None, None]\n",
      "3 [-2, 1, -2, 4, None, None, None, None, None]\n",
      "4 [-2, 1, -2, 4, 3, None, None, None, None]\n",
      "5 [-2, 1, -2, 4, 3, 5, None, None, None]\n",
      "6 [-2, 1, -2, 4, 3, 5, 6, None, None]\n",
      "7 [-2, 1, -2, 4, 3, 5, 6, 1, None]\n",
      "8 [-2, 1, -2, 4, 3, 5, 6, 1, 5]\n"
     ]
    },
    {
     "data": {
      "text/plain": [
       "6"
      ]
     },
     "execution_count": 10,
     "metadata": {},
     "output_type": "execute_result"
    }
   ],
   "source": [
    "s = Solution()\n",
    "nums = [-2,1,-3,4,-1,2,1,-5,4]\n",
    "s. maxSubArray(nums)"
   ]
  },
  {
   "cell_type": "markdown",
   "id": "b1e62ccf",
   "metadata": {},
   "source": [
    "### 1.2 method 2"
   ]
  },
  {
   "cell_type": "markdown",
   "id": "2ec2cb35",
   "metadata": {},
   "source": [
    "### method 2 divide and quenqor"
   ]
  },
  {
   "cell_type": "raw",
   "id": "12fd4c1e",
   "metadata": {},
   "source": [
    "https://www.bing.com/videos/search?q=53.+maximum+subarray+divide+and+conquer&docid=608031832938607027&mid=60473EE41C56D222C01160473EE41C56D222C011&view=detail&FORM=VIRE"
   ]
  },
  {
   "cell_type": "code",
   "execution_count": 11,
   "id": "dd3dcf78",
   "metadata": {},
   "outputs": [],
   "source": [
    "class Solution:\n",
    "    def maxSubArray(self, nums):\n",
    "        dp = [None] * len(nums) # dp \n",
    "        print(dp)\n",
    "        dp[0] = nums[0]\n",
    "        print(dp)\n",
    "        for i, num in enumerate(nums):\n",
    "            if i > 0:\n",
    "                dp[i] = max(dp[i - 1] + num, num)\n",
    "                print(i, dp)\n",
    "        return max(dp)"
   ]
  },
  {
   "cell_type": "code",
   "execution_count": 12,
   "id": "ed08956c",
   "metadata": {},
   "outputs": [
    {
     "name": "stdout",
     "output_type": "stream",
     "text": [
      "[None, None, None, None, None, None, None, None, None]\n",
      "[-2, None, None, None, None, None, None, None, None]\n",
      "1 [-2, 1, None, None, None, None, None, None, None]\n",
      "2 [-2, 1, -2, None, None, None, None, None, None]\n",
      "3 [-2, 1, -2, 4, None, None, None, None, None]\n",
      "4 [-2, 1, -2, 4, 3, None, None, None, None]\n",
      "5 [-2, 1, -2, 4, 3, 5, None, None, None]\n",
      "6 [-2, 1, -2, 4, 3, 5, 6, None, None]\n",
      "7 [-2, 1, -2, 4, 3, 5, 6, 1, None]\n",
      "8 [-2, 1, -2, 4, 3, 5, 6, 1, 5]\n"
     ]
    },
    {
     "data": {
      "text/plain": [
       "6"
      ]
     },
     "execution_count": 12,
     "metadata": {},
     "output_type": "execute_result"
    }
   ],
   "source": [
    "s = Solution()\n",
    "nums = [-2,1,-3,4,-1,2,1,-5,4]\n",
    "s. maxSubArray(nums)"
   ]
  },
  {
   "cell_type": "code",
   "execution_count": 19,
   "id": "f3769104",
   "metadata": {},
   "outputs": [
    {
     "data": {
      "text/plain": [
       "6"
      ]
     },
     "execution_count": 19,
     "metadata": {},
     "output_type": "execute_result"
    }
   ],
   "source": [
    "class Solution:\n",
    "    def maxSubArray(self, nums):\n",
    "        #divide and conquer recursive function\n",
    "        def daq(left,right): # d and q\n",
    "            if left == right:\n",
    "                return nums[left]\n",
    "            #divide\n",
    "            middle = (left + right) // 2\n",
    "            leftMax = daq(left,middle)\n",
    "            rightMax = daq(middle+1,right)\n",
    "            crossMax = crossmax(left,right,middle)\n",
    "            #conquer\n",
    "            return max(leftMax,rightMax,crossMax)\n",
    "        \n",
    "        #gets the max sum that includes both the left and right half (note that leftmax or rightmax can be bigger)\n",
    "        def crossmax(left,right,middle):\n",
    "            #start from middle and calculate cumulative sum leftwards to find maxleftsum and same for right.\n",
    "\n",
    "            #find max cumulative from middle to left\n",
    "            leftSum = 0\n",
    "            leftSuffixMax = float(\"-inf\")\n",
    "            for pointer in range(middle,left-1,-1):\n",
    "                leftSum += nums[pointer]\n",
    "                leftSuffixMax = max(leftSuffixMax,leftSum)\n",
    "\n",
    "            #find max cumulative from middle+1 to right\n",
    "            rightsum = 0\n",
    "            rightPrefixMax = float(\"-inf\")\n",
    "            for pointer in range(middle+1,right+1):\n",
    "                rightsum += nums[pointer]\n",
    "                rightPrefixMax = max(rightPrefixMax,rightsum)\n",
    "            #note that rightPrefixMax may still be -inf if there's no right elements, or negative int if there are negative right elements\n",
    "            #we need at least one element on the right anyways in order to consider it a crossSum (requires at least one element in both left and right)\n",
    "            \n",
    "            return leftSuffixMax + rightPrefixMax\n",
    "                \n",
    "        return daq(0,len(nums)-1)\n",
    "    \n",
    "s = Solution()\n",
    "nums = [-2,1,-3,4,-1,2,1,-5,4]\n",
    "s. maxSubArray(nums)"
   ]
  },
  {
   "cell_type": "code",
   "execution_count": null,
   "id": "4a7f8f26",
   "metadata": {},
   "outputs": [],
   "source": [
    "Good Visualization Videos\n",
    "https://www.youtube.com/watch?v=yBCzO0FpsVc&ab_channel=GhassanShobakiComputerScienceLectures\n",
    "https://www.youtube.com/watch?v=u7YMFRUFqe0&ab_channel=AlgorithmsMadeEasy"
   ]
  }
 ],
 "metadata": {
  "kernelspec": {
   "display_name": "Python 3",
   "language": "python",
   "name": "python3"
  },
  "language_info": {
   "codemirror_mode": {
    "name": "ipython",
    "version": 3
   },
   "file_extension": ".py",
   "mimetype": "text/x-python",
   "name": "python",
   "nbconvert_exporter": "python",
   "pygments_lexer": "ipython3",
   "version": "3.9.1"
  }
 },
 "nbformat": 4,
 "nbformat_minor": 5
}
